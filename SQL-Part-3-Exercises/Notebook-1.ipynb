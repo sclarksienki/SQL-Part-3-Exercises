{
    "metadata": {
        "kernelspec": {
            "name": "SQL",
            "display_name": "SQL",
            "language": "sql"
        },
        "language_info": {
            "name": "sql",
            "version": ""
        },
        "extensions": {
            "azuredatastudio": {
                "version": 1,
                "views": []
            }
        }
    },
    "nbformat_minor": 2,
    "nbformat": 4,
    "cells": [
        {
            "cell_type": "markdown",
            "source": [
                "# SQL Part 3 Exercises Joins\n",
                "\n",
                "This notebook works with the BooksDB dataset.  \n",
                "\n",
                "**Questions 1-4** focus on how joins work in a more general sense.  If you are not sure how to best answer the questions, try manipulating the queries by changing the order of joins, the length of the TOP, or how they are ordered.  \n",
                "\n",
                "> <span style=\"background-color: rgba(127, 127, 127, 0.1);\"><i>Note</i>: If some of the queries are not returning quickly, you can try closing and restarting azure data studio after a few minutes.</span>\n",
                "\n",
                "In **questions 5-8**, you will be asked to join tables to find results about titles, tags, and the books users want to read.\n",
                "\n",
                "As you go through the questions, you will see 'Minimum Desired Output'.  This will provide you with the bare minimum columns needed to answer the questions.  When you write the queries, add as many additional columns as you need to best find your answers."
            ],
            "metadata": {
                "azdata_cell_guid": "db9534a9-c8a7-4c09-8180-bcba0690bb02"
            },
            "attachments": {}
        },
        {
            "cell_type": "markdown",
            "source": [
                "## **QUESTION 1:**  Exploring a LEFT JOIN using the **books** and **to\\_read** tables\n",
                "\n",
                "The code block below has been commented out. To answer this question, you will need to uncomment it by removing the **/\\*** (line 1) and **\\*/** (line 16).\n",
                "\n",
                "**Part A:** Look at Query 1, which table is the 'Left' table and which is the 'Right'?\n",
                "\n",
                "> Your Answer: Left = dbo.boks, Right = dbo.to\\_read\n",
                "\n",
                "**Part B:** Using table 2, answer the following questions: \n",
                "\n",
                "- When we added a  '**WHERE tr.user\\_id IS NOT NULL'** clause (line 14), how did the table change?  Why?\n",
                "\n",
                "> Your Answer: It returned results where the user\\_id is NOT missing (which in this case gives the same results as an inner join)"
            ],
            "metadata": {
                "azdata_cell_guid": "660be568-9a70-40ff-a2fa-a78e31e87b6f"
            },
            "attachments": {}
        },
        {
            "cell_type": "code",
            "source": [
                "-- /*\n",
                "-- Query 1: LEFT JOIN \n",
                "SELECT TOP 50 b.title, b.average_rating, b.books_count,tr.user_id, tr.book_id\n",
                "FROM BooksDB.dbo.books AS b\n",
                "LEFT JOIN BooksDB.dbo.to_read AS tr\n",
                "ON b.best_book_id = tr.book_id\n",
                "ORDER BY b.average_rating;\n",
                "\n",
                "-- Query 2: LEFT JOIN USING 'IS NOT NULL'\n",
                "SELECT TOP 50 b.title, b.average_rating, b.books_count,tr.user_id, tr.book_id\n",
                "FROM BooksDB.dbo.books AS b\n",
                "LEFT JOIN BooksDB.dbo.to_read AS tr\n",
                "ON b.best_book_id = tr.book_id\n",
                "WHERE tr.user_id IS NOT NULL\n",
                "ORDER BY b.average_rating;\n",
                "-- */"
            ],
            "metadata": {
                "azdata_cell_guid": "25dcd34c-5e5d-4393-9da0-a4c0effb6455",
                "tags": [],
                "language": "sql"
            },
            "outputs": [
                {
                    "output_type": "display_data",
                    "data": {
                        "text/html": "(50 rows affected)"
                    },
                    "metadata": {}
                },
                {
                    "output_type": "display_data",
                    "data": {
                        "text/html": "(50 rows affected)"
                    },
                    "metadata": {}
                },
                {
                    "output_type": "display_data",
                    "data": {
                        "text/html": "Total execution time: 00:00:08.397"
                    },
                    "metadata": {}
                },
                {
                    "output_type": "execute_result",
                    "metadata": {},
                    "execution_count": 1,
                    "data": {
                        "application/vnd.dataresource+json": {
                            "schema": {
                                "fields": [
                                    {
                                        "name": "title"
                                    },
                                    {
                                        "name": "average_rating"
                                    },
                                    {
                                        "name": "books_count"
                                    },
                                    {
                                        "name": "user_id"
                                    },
                                    {
                                        "name": "book_id"
                                    }
                                ]
                            },
                            "data": [
                                {
                                    "title": "One Night at the Call Center",
                                    "average_rating": "2.47",
                                    "books_count": "25",
                                    "user_id": "NULL",
                                    "book_id": "NULL"
                                },
                                {
                                    "title": "The Almost Moon",
                                    "average_rating": "2.67",
                                    "books_count": "63",
                                    "user_id": "NULL",
                                    "book_id": "NULL"
                                },
                                {
                                    "title": "The Finkler Question",
                                    "average_rating": "2.76",
                                    "books_count": "45",
                                    "user_id": "NULL",
                                    "book_id": "NULL"
                                },
                                {
                                    "title": "Four Blondes",
                                    "average_rating": "2.8",
                                    "books_count": "57",
                                    "user_id": "449",
                                    "book_id": "6613"
                                },
                                {
                                    "title": "Four Blondes",
                                    "average_rating": "2.8",
                                    "books_count": "57",
                                    "user_id": "1378",
                                    "book_id": "6613"
                                },
                                {
                                    "title": "Four Blondes",
                                    "average_rating": "2.8",
                                    "books_count": "57",
                                    "user_id": "6465",
                                    "book_id": "6613"
                                },
                                {
                                    "title": "Four Blondes",
                                    "average_rating": "2.8",
                                    "books_count": "57",
                                    "user_id": "6700",
                                    "book_id": "6613"
                                },
                                {
                                    "title": "Four Blondes",
                                    "average_rating": "2.8",
                                    "books_count": "57",
                                    "user_id": "7830",
                                    "book_id": "6613"
                                },
                                {
                                    "title": "Four Blondes",
                                    "average_rating": "2.8",
                                    "books_count": "57",
                                    "user_id": "10085",
                                    "book_id": "6613"
                                },
                                {
                                    "title": "Four Blondes",
                                    "average_rating": "2.8",
                                    "books_count": "57",
                                    "user_id": "16298",
                                    "book_id": "6613"
                                },
                                {
                                    "title": "Four Blondes",
                                    "average_rating": "2.8",
                                    "books_count": "57",
                                    "user_id": "16845",
                                    "book_id": "6613"
                                },
                                {
                                    "title": "Four Blondes",
                                    "average_rating": "2.8",
                                    "books_count": "57",
                                    "user_id": "17470",
                                    "book_id": "6613"
                                },
                                {
                                    "title": "Four Blondes",
                                    "average_rating": "2.8",
                                    "books_count": "57",
                                    "user_id": "19763",
                                    "book_id": "6613"
                                },
                                {
                                    "title": "Four Blondes",
                                    "average_rating": "2.8",
                                    "books_count": "57",
                                    "user_id": "21938",
                                    "book_id": "6613"
                                },
                                {
                                    "title": "Four Blondes",
                                    "average_rating": "2.8",
                                    "books_count": "57",
                                    "user_id": "22289",
                                    "book_id": "6613"
                                },
                                {
                                    "title": "Four Blondes",
                                    "average_rating": "2.8",
                                    "books_count": "57",
                                    "user_id": "23758",
                                    "book_id": "6613"
                                },
                                {
                                    "title": "Four Blondes",
                                    "average_rating": "2.8",
                                    "books_count": "57",
                                    "user_id": "27874",
                                    "book_id": "6613"
                                },
                                {
                                    "title": "Four Blondes",
                                    "average_rating": "2.8",
                                    "books_count": "57",
                                    "user_id": "28690",
                                    "book_id": "6613"
                                },
                                {
                                    "title": "Four Blondes",
                                    "average_rating": "2.8",
                                    "books_count": "57",
                                    "user_id": "29023",
                                    "book_id": "6613"
                                },
                                {
                                    "title": "Four Blondes",
                                    "average_rating": "2.8",
                                    "books_count": "57",
                                    "user_id": "29315",
                                    "book_id": "6613"
                                },
                                {
                                    "title": "Four Blondes",
                                    "average_rating": "2.8",
                                    "books_count": "57",
                                    "user_id": "30245",
                                    "book_id": "6613"
                                },
                                {
                                    "title": "Four Blondes",
                                    "average_rating": "2.8",
                                    "books_count": "57",
                                    "user_id": "36128",
                                    "book_id": "6613"
                                },
                                {
                                    "title": "Four Blondes",
                                    "average_rating": "2.8",
                                    "books_count": "57",
                                    "user_id": "36554",
                                    "book_id": "6613"
                                },
                                {
                                    "title": "Four Blondes",
                                    "average_rating": "2.8",
                                    "books_count": "57",
                                    "user_id": "38159",
                                    "book_id": "6613"
                                },
                                {
                                    "title": "Four Blondes",
                                    "average_rating": "2.8",
                                    "books_count": "57",
                                    "user_id": "38800",
                                    "book_id": "6613"
                                },
                                {
                                    "title": "Four Blondes",
                                    "average_rating": "2.8",
                                    "books_count": "57",
                                    "user_id": "40361",
                                    "book_id": "6613"
                                },
                                {
                                    "title": "Four Blondes",
                                    "average_rating": "2.8",
                                    "books_count": "57",
                                    "user_id": "40529",
                                    "book_id": "6613"
                                },
                                {
                                    "title": "Four Blondes",
                                    "average_rating": "2.8",
                                    "books_count": "57",
                                    "user_id": "41485",
                                    "book_id": "6613"
                                },
                                {
                                    "title": "Four Blondes",
                                    "average_rating": "2.8",
                                    "books_count": "57",
                                    "user_id": "42706",
                                    "book_id": "6613"
                                },
                                {
                                    "title": "Four Blondes",
                                    "average_rating": "2.8",
                                    "books_count": "57",
                                    "user_id": "45206",
                                    "book_id": "6613"
                                },
                                {
                                    "title": "Four Blondes",
                                    "average_rating": "2.8",
                                    "books_count": "57",
                                    "user_id": "45689",
                                    "book_id": "6613"
                                },
                                {
                                    "title": "Four Blondes",
                                    "average_rating": "2.8",
                                    "books_count": "57",
                                    "user_id": "49499",
                                    "book_id": "6613"
                                },
                                {
                                    "title": "Four Blondes",
                                    "average_rating": "2.8",
                                    "books_count": "57",
                                    "user_id": "51105",
                                    "book_id": "6613"
                                },
                                {
                                    "title": "Four Blondes",
                                    "average_rating": "2.8",
                                    "books_count": "57",
                                    "user_id": "51671",
                                    "book_id": "6613"
                                },
                                {
                                    "title": "Four Blondes",
                                    "average_rating": "2.8",
                                    "books_count": "57",
                                    "user_id": "52109",
                                    "book_id": "6613"
                                },
                                {
                                    "title": "Lost",
                                    "average_rating": "2.8",
                                    "books_count": "18",
                                    "user_id": "NULL",
                                    "book_id": "NULL"
                                },
                                {
                                    "title": "Tell-All",
                                    "average_rating": "2.84",
                                    "books_count": "37",
                                    "user_id": "NULL",
                                    "book_id": "NULL"
                                },
                                {
                                    "title": "Revenge Wears Prada: The Devil Returns (The Devil Wears Prada, #2)",
                                    "average_rating": "2.84",
                                    "books_count": "59",
                                    "user_id": "NULL",
                                    "book_id": "NULL"
                                },
                                {
                                    "title": "Among the Ten Thousand Things",
                                    "average_rating": "2.84",
                                    "books_count": "19",
                                    "user_id": "NULL",
                                    "book_id": "NULL"
                                },
                                {
                                    "title": "The Emperor's Children",
                                    "average_rating": "2.93",
                                    "books_count": "45",
                                    "user_id": "7860",
                                    "book_id": "3648"
                                },
                                {
                                    "title": "The Emperor's Children",
                                    "average_rating": "2.93",
                                    "books_count": "45",
                                    "user_id": "11320",
                                    "book_id": "3648"
                                },
                                {
                                    "title": "The Emperor's Children",
                                    "average_rating": "2.93",
                                    "books_count": "45",
                                    "user_id": "12686",
                                    "book_id": "3648"
                                },
                                {
                                    "title": "The Emperor's Children",
                                    "average_rating": "2.93",
                                    "books_count": "45",
                                    "user_id": "12729",
                                    "book_id": "3648"
                                },
                                {
                                    "title": "The Emperor's Children",
                                    "average_rating": "2.93",
                                    "books_count": "45",
                                    "user_id": "12891",
                                    "book_id": "3648"
                                },
                                {
                                    "title": "The Emperor's Children",
                                    "average_rating": "2.93",
                                    "books_count": "45",
                                    "user_id": "16933",
                                    "book_id": "3648"
                                },
                                {
                                    "title": "The Emperor's Children",
                                    "average_rating": "2.93",
                                    "books_count": "45",
                                    "user_id": "17093",
                                    "book_id": "3648"
                                },
                                {
                                    "title": "The Emperor's Children",
                                    "average_rating": "2.93",
                                    "books_count": "45",
                                    "user_id": "24036",
                                    "book_id": "3648"
                                },
                                {
                                    "title": "The Emperor's Children",
                                    "average_rating": "2.93",
                                    "books_count": "45",
                                    "user_id": "35122",
                                    "book_id": "3648"
                                },
                                {
                                    "title": "The Emperor's Children",
                                    "average_rating": "2.93",
                                    "books_count": "45",
                                    "user_id": "36022",
                                    "book_id": "3648"
                                },
                                {
                                    "title": "The Emperor's Children",
                                    "average_rating": "2.93",
                                    "books_count": "45",
                                    "user_id": "36952",
                                    "book_id": "3648"
                                }
                            ]
                        },
                        "text/html": [
                            "<table>",
                            "<tr><th>title</th><th>average_rating</th><th>books_count</th><th>user_id</th><th>book_id</th></tr>",
                            "<tr><td>One Night at the Call Center</td><td>2.47</td><td>25</td><td>NULL</td><td>NULL</td></tr>",
                            "<tr><td>The Almost Moon</td><td>2.67</td><td>63</td><td>NULL</td><td>NULL</td></tr>",
                            "<tr><td>The Finkler Question</td><td>2.76</td><td>45</td><td>NULL</td><td>NULL</td></tr>",
                            "<tr><td>Four Blondes</td><td>2.8</td><td>57</td><td>449</td><td>6613</td></tr>",
                            "<tr><td>Four Blondes</td><td>2.8</td><td>57</td><td>1378</td><td>6613</td></tr>",
                            "<tr><td>Four Blondes</td><td>2.8</td><td>57</td><td>6465</td><td>6613</td></tr>",
                            "<tr><td>Four Blondes</td><td>2.8</td><td>57</td><td>6700</td><td>6613</td></tr>",
                            "<tr><td>Four Blondes</td><td>2.8</td><td>57</td><td>7830</td><td>6613</td></tr>",
                            "<tr><td>Four Blondes</td><td>2.8</td><td>57</td><td>10085</td><td>6613</td></tr>",
                            "<tr><td>Four Blondes</td><td>2.8</td><td>57</td><td>16298</td><td>6613</td></tr>",
                            "<tr><td>Four Blondes</td><td>2.8</td><td>57</td><td>16845</td><td>6613</td></tr>",
                            "<tr><td>Four Blondes</td><td>2.8</td><td>57</td><td>17470</td><td>6613</td></tr>",
                            "<tr><td>Four Blondes</td><td>2.8</td><td>57</td><td>19763</td><td>6613</td></tr>",
                            "<tr><td>Four Blondes</td><td>2.8</td><td>57</td><td>21938</td><td>6613</td></tr>",
                            "<tr><td>Four Blondes</td><td>2.8</td><td>57</td><td>22289</td><td>6613</td></tr>",
                            "<tr><td>Four Blondes</td><td>2.8</td><td>57</td><td>23758</td><td>6613</td></tr>",
                            "<tr><td>Four Blondes</td><td>2.8</td><td>57</td><td>27874</td><td>6613</td></tr>",
                            "<tr><td>Four Blondes</td><td>2.8</td><td>57</td><td>28690</td><td>6613</td></tr>",
                            "<tr><td>Four Blondes</td><td>2.8</td><td>57</td><td>29023</td><td>6613</td></tr>",
                            "<tr><td>Four Blondes</td><td>2.8</td><td>57</td><td>29315</td><td>6613</td></tr>",
                            "<tr><td>Four Blondes</td><td>2.8</td><td>57</td><td>30245</td><td>6613</td></tr>",
                            "<tr><td>Four Blondes</td><td>2.8</td><td>57</td><td>36128</td><td>6613</td></tr>",
                            "<tr><td>Four Blondes</td><td>2.8</td><td>57</td><td>36554</td><td>6613</td></tr>",
                            "<tr><td>Four Blondes</td><td>2.8</td><td>57</td><td>38159</td><td>6613</td></tr>",
                            "<tr><td>Four Blondes</td><td>2.8</td><td>57</td><td>38800</td><td>6613</td></tr>",
                            "<tr><td>Four Blondes</td><td>2.8</td><td>57</td><td>40361</td><td>6613</td></tr>",
                            "<tr><td>Four Blondes</td><td>2.8</td><td>57</td><td>40529</td><td>6613</td></tr>",
                            "<tr><td>Four Blondes</td><td>2.8</td><td>57</td><td>41485</td><td>6613</td></tr>",
                            "<tr><td>Four Blondes</td><td>2.8</td><td>57</td><td>42706</td><td>6613</td></tr>",
                            "<tr><td>Four Blondes</td><td>2.8</td><td>57</td><td>45206</td><td>6613</td></tr>",
                            "<tr><td>Four Blondes</td><td>2.8</td><td>57</td><td>45689</td><td>6613</td></tr>",
                            "<tr><td>Four Blondes</td><td>2.8</td><td>57</td><td>49499</td><td>6613</td></tr>",
                            "<tr><td>Four Blondes</td><td>2.8</td><td>57</td><td>51105</td><td>6613</td></tr>",
                            "<tr><td>Four Blondes</td><td>2.8</td><td>57</td><td>51671</td><td>6613</td></tr>",
                            "<tr><td>Four Blondes</td><td>2.8</td><td>57</td><td>52109</td><td>6613</td></tr>",
                            "<tr><td>Lost</td><td>2.8</td><td>18</td><td>NULL</td><td>NULL</td></tr>",
                            "<tr><td>Tell-All</td><td>2.84</td><td>37</td><td>NULL</td><td>NULL</td></tr>",
                            "<tr><td>Revenge Wears Prada: The Devil Returns (The Devil Wears Prada, #2)</td><td>2.84</td><td>59</td><td>NULL</td><td>NULL</td></tr>",
                            "<tr><td>Among the Ten Thousand Things</td><td>2.84</td><td>19</td><td>NULL</td><td>NULL</td></tr>",
                            "<tr><td>The Emperor's Children</td><td>2.93</td><td>45</td><td>7860</td><td>3648</td></tr>",
                            "<tr><td>The Emperor's Children</td><td>2.93</td><td>45</td><td>11320</td><td>3648</td></tr>",
                            "<tr><td>The Emperor's Children</td><td>2.93</td><td>45</td><td>12686</td><td>3648</td></tr>",
                            "<tr><td>The Emperor's Children</td><td>2.93</td><td>45</td><td>12729</td><td>3648</td></tr>",
                            "<tr><td>The Emperor's Children</td><td>2.93</td><td>45</td><td>12891</td><td>3648</td></tr>",
                            "<tr><td>The Emperor's Children</td><td>2.93</td><td>45</td><td>16933</td><td>3648</td></tr>",
                            "<tr><td>The Emperor's Children</td><td>2.93</td><td>45</td><td>17093</td><td>3648</td></tr>",
                            "<tr><td>The Emperor's Children</td><td>2.93</td><td>45</td><td>24036</td><td>3648</td></tr>",
                            "<tr><td>The Emperor's Children</td><td>2.93</td><td>45</td><td>35122</td><td>3648</td></tr>",
                            "<tr><td>The Emperor's Children</td><td>2.93</td><td>45</td><td>36022</td><td>3648</td></tr>",
                            "<tr><td>The Emperor's Children</td><td>2.93</td><td>45</td><td>36952</td><td>3648</td></tr>",
                            "</table>"
                        ]
                    }
                },
                {
                    "output_type": "execute_result",
                    "metadata": {},
                    "execution_count": 1,
                    "data": {
                        "application/vnd.dataresource+json": {
                            "schema": {
                                "fields": [
                                    {
                                        "name": "title"
                                    },
                                    {
                                        "name": "average_rating"
                                    },
                                    {
                                        "name": "books_count"
                                    },
                                    {
                                        "name": "user_id"
                                    },
                                    {
                                        "name": "book_id"
                                    }
                                ]
                            },
                            "data": [
                                {
                                    "title": "Four Blondes",
                                    "average_rating": "2.8",
                                    "books_count": "57",
                                    "user_id": "449",
                                    "book_id": "6613"
                                },
                                {
                                    "title": "Four Blondes",
                                    "average_rating": "2.8",
                                    "books_count": "57",
                                    "user_id": "1378",
                                    "book_id": "6613"
                                },
                                {
                                    "title": "Four Blondes",
                                    "average_rating": "2.8",
                                    "books_count": "57",
                                    "user_id": "6465",
                                    "book_id": "6613"
                                },
                                {
                                    "title": "Four Blondes",
                                    "average_rating": "2.8",
                                    "books_count": "57",
                                    "user_id": "6700",
                                    "book_id": "6613"
                                },
                                {
                                    "title": "Four Blondes",
                                    "average_rating": "2.8",
                                    "books_count": "57",
                                    "user_id": "7830",
                                    "book_id": "6613"
                                },
                                {
                                    "title": "Four Blondes",
                                    "average_rating": "2.8",
                                    "books_count": "57",
                                    "user_id": "10085",
                                    "book_id": "6613"
                                },
                                {
                                    "title": "Four Blondes",
                                    "average_rating": "2.8",
                                    "books_count": "57",
                                    "user_id": "16298",
                                    "book_id": "6613"
                                },
                                {
                                    "title": "Four Blondes",
                                    "average_rating": "2.8",
                                    "books_count": "57",
                                    "user_id": "16845",
                                    "book_id": "6613"
                                },
                                {
                                    "title": "Four Blondes",
                                    "average_rating": "2.8",
                                    "books_count": "57",
                                    "user_id": "17470",
                                    "book_id": "6613"
                                },
                                {
                                    "title": "Four Blondes",
                                    "average_rating": "2.8",
                                    "books_count": "57",
                                    "user_id": "19763",
                                    "book_id": "6613"
                                },
                                {
                                    "title": "Four Blondes",
                                    "average_rating": "2.8",
                                    "books_count": "57",
                                    "user_id": "21938",
                                    "book_id": "6613"
                                },
                                {
                                    "title": "Four Blondes",
                                    "average_rating": "2.8",
                                    "books_count": "57",
                                    "user_id": "22289",
                                    "book_id": "6613"
                                },
                                {
                                    "title": "Four Blondes",
                                    "average_rating": "2.8",
                                    "books_count": "57",
                                    "user_id": "23758",
                                    "book_id": "6613"
                                },
                                {
                                    "title": "Four Blondes",
                                    "average_rating": "2.8",
                                    "books_count": "57",
                                    "user_id": "27874",
                                    "book_id": "6613"
                                },
                                {
                                    "title": "Four Blondes",
                                    "average_rating": "2.8",
                                    "books_count": "57",
                                    "user_id": "28690",
                                    "book_id": "6613"
                                },
                                {
                                    "title": "Four Blondes",
                                    "average_rating": "2.8",
                                    "books_count": "57",
                                    "user_id": "29023",
                                    "book_id": "6613"
                                },
                                {
                                    "title": "Four Blondes",
                                    "average_rating": "2.8",
                                    "books_count": "57",
                                    "user_id": "29315",
                                    "book_id": "6613"
                                },
                                {
                                    "title": "Four Blondes",
                                    "average_rating": "2.8",
                                    "books_count": "57",
                                    "user_id": "30245",
                                    "book_id": "6613"
                                },
                                {
                                    "title": "Four Blondes",
                                    "average_rating": "2.8",
                                    "books_count": "57",
                                    "user_id": "36128",
                                    "book_id": "6613"
                                },
                                {
                                    "title": "Four Blondes",
                                    "average_rating": "2.8",
                                    "books_count": "57",
                                    "user_id": "36554",
                                    "book_id": "6613"
                                },
                                {
                                    "title": "Four Blondes",
                                    "average_rating": "2.8",
                                    "books_count": "57",
                                    "user_id": "38159",
                                    "book_id": "6613"
                                },
                                {
                                    "title": "Four Blondes",
                                    "average_rating": "2.8",
                                    "books_count": "57",
                                    "user_id": "38800",
                                    "book_id": "6613"
                                },
                                {
                                    "title": "Four Blondes",
                                    "average_rating": "2.8",
                                    "books_count": "57",
                                    "user_id": "40361",
                                    "book_id": "6613"
                                },
                                {
                                    "title": "Four Blondes",
                                    "average_rating": "2.8",
                                    "books_count": "57",
                                    "user_id": "40529",
                                    "book_id": "6613"
                                },
                                {
                                    "title": "Four Blondes",
                                    "average_rating": "2.8",
                                    "books_count": "57",
                                    "user_id": "41485",
                                    "book_id": "6613"
                                },
                                {
                                    "title": "Four Blondes",
                                    "average_rating": "2.8",
                                    "books_count": "57",
                                    "user_id": "42706",
                                    "book_id": "6613"
                                },
                                {
                                    "title": "Four Blondes",
                                    "average_rating": "2.8",
                                    "books_count": "57",
                                    "user_id": "45206",
                                    "book_id": "6613"
                                },
                                {
                                    "title": "Four Blondes",
                                    "average_rating": "2.8",
                                    "books_count": "57",
                                    "user_id": "45689",
                                    "book_id": "6613"
                                },
                                {
                                    "title": "Four Blondes",
                                    "average_rating": "2.8",
                                    "books_count": "57",
                                    "user_id": "49499",
                                    "book_id": "6613"
                                },
                                {
                                    "title": "Four Blondes",
                                    "average_rating": "2.8",
                                    "books_count": "57",
                                    "user_id": "51105",
                                    "book_id": "6613"
                                },
                                {
                                    "title": "Four Blondes",
                                    "average_rating": "2.8",
                                    "books_count": "57",
                                    "user_id": "51671",
                                    "book_id": "6613"
                                },
                                {
                                    "title": "Four Blondes",
                                    "average_rating": "2.8",
                                    "books_count": "57",
                                    "user_id": "52109",
                                    "book_id": "6613"
                                },
                                {
                                    "title": "The Emperor's Children",
                                    "average_rating": "2.93",
                                    "books_count": "45",
                                    "user_id": "7860",
                                    "book_id": "3648"
                                },
                                {
                                    "title": "The Emperor's Children",
                                    "average_rating": "2.93",
                                    "books_count": "45",
                                    "user_id": "11320",
                                    "book_id": "3648"
                                },
                                {
                                    "title": "The Emperor's Children",
                                    "average_rating": "2.93",
                                    "books_count": "45",
                                    "user_id": "12686",
                                    "book_id": "3648"
                                },
                                {
                                    "title": "The Emperor's Children",
                                    "average_rating": "2.93",
                                    "books_count": "45",
                                    "user_id": "12729",
                                    "book_id": "3648"
                                },
                                {
                                    "title": "The Emperor's Children",
                                    "average_rating": "2.93",
                                    "books_count": "45",
                                    "user_id": "12891",
                                    "book_id": "3648"
                                },
                                {
                                    "title": "The Emperor's Children",
                                    "average_rating": "2.93",
                                    "books_count": "45",
                                    "user_id": "16933",
                                    "book_id": "3648"
                                },
                                {
                                    "title": "The Emperor's Children",
                                    "average_rating": "2.93",
                                    "books_count": "45",
                                    "user_id": "17093",
                                    "book_id": "3648"
                                },
                                {
                                    "title": "The Emperor's Children",
                                    "average_rating": "2.93",
                                    "books_count": "45",
                                    "user_id": "24036",
                                    "book_id": "3648"
                                },
                                {
                                    "title": "The Emperor's Children",
                                    "average_rating": "2.93",
                                    "books_count": "45",
                                    "user_id": "35122",
                                    "book_id": "3648"
                                },
                                {
                                    "title": "The Emperor's Children",
                                    "average_rating": "2.93",
                                    "books_count": "45",
                                    "user_id": "36022",
                                    "book_id": "3648"
                                },
                                {
                                    "title": "The Emperor's Children",
                                    "average_rating": "2.93",
                                    "books_count": "45",
                                    "user_id": "36952",
                                    "book_id": "3648"
                                },
                                {
                                    "title": "The Emperor's Children",
                                    "average_rating": "2.93",
                                    "books_count": "45",
                                    "user_id": "38430",
                                    "book_id": "3648"
                                },
                                {
                                    "title": "The Emperor's Children",
                                    "average_rating": "2.93",
                                    "books_count": "45",
                                    "user_id": "39414",
                                    "book_id": "3648"
                                },
                                {
                                    "title": "The Emperor's Children",
                                    "average_rating": "2.93",
                                    "books_count": "45",
                                    "user_id": "45261",
                                    "book_id": "3648"
                                },
                                {
                                    "title": "The Emperor's Children",
                                    "average_rating": "2.93",
                                    "books_count": "45",
                                    "user_id": "45497",
                                    "book_id": "3648"
                                },
                                {
                                    "title": "The Emperor's Children",
                                    "average_rating": "2.93",
                                    "books_count": "45",
                                    "user_id": "45747",
                                    "book_id": "3648"
                                },
                                {
                                    "title": "The Emperor's Children",
                                    "average_rating": "2.93",
                                    "books_count": "45",
                                    "user_id": "48502",
                                    "book_id": "3648"
                                },
                                {
                                    "title": "The Emperor's Children",
                                    "average_rating": "2.93",
                                    "books_count": "45",
                                    "user_id": "49233",
                                    "book_id": "3648"
                                }
                            ]
                        },
                        "text/html": [
                            "<table>",
                            "<tr><th>title</th><th>average_rating</th><th>books_count</th><th>user_id</th><th>book_id</th></tr>",
                            "<tr><td>Four Blondes</td><td>2.8</td><td>57</td><td>449</td><td>6613</td></tr>",
                            "<tr><td>Four Blondes</td><td>2.8</td><td>57</td><td>1378</td><td>6613</td></tr>",
                            "<tr><td>Four Blondes</td><td>2.8</td><td>57</td><td>6465</td><td>6613</td></tr>",
                            "<tr><td>Four Blondes</td><td>2.8</td><td>57</td><td>6700</td><td>6613</td></tr>",
                            "<tr><td>Four Blondes</td><td>2.8</td><td>57</td><td>7830</td><td>6613</td></tr>",
                            "<tr><td>Four Blondes</td><td>2.8</td><td>57</td><td>10085</td><td>6613</td></tr>",
                            "<tr><td>Four Blondes</td><td>2.8</td><td>57</td><td>16298</td><td>6613</td></tr>",
                            "<tr><td>Four Blondes</td><td>2.8</td><td>57</td><td>16845</td><td>6613</td></tr>",
                            "<tr><td>Four Blondes</td><td>2.8</td><td>57</td><td>17470</td><td>6613</td></tr>",
                            "<tr><td>Four Blondes</td><td>2.8</td><td>57</td><td>19763</td><td>6613</td></tr>",
                            "<tr><td>Four Blondes</td><td>2.8</td><td>57</td><td>21938</td><td>6613</td></tr>",
                            "<tr><td>Four Blondes</td><td>2.8</td><td>57</td><td>22289</td><td>6613</td></tr>",
                            "<tr><td>Four Blondes</td><td>2.8</td><td>57</td><td>23758</td><td>6613</td></tr>",
                            "<tr><td>Four Blondes</td><td>2.8</td><td>57</td><td>27874</td><td>6613</td></tr>",
                            "<tr><td>Four Blondes</td><td>2.8</td><td>57</td><td>28690</td><td>6613</td></tr>",
                            "<tr><td>Four Blondes</td><td>2.8</td><td>57</td><td>29023</td><td>6613</td></tr>",
                            "<tr><td>Four Blondes</td><td>2.8</td><td>57</td><td>29315</td><td>6613</td></tr>",
                            "<tr><td>Four Blondes</td><td>2.8</td><td>57</td><td>30245</td><td>6613</td></tr>",
                            "<tr><td>Four Blondes</td><td>2.8</td><td>57</td><td>36128</td><td>6613</td></tr>",
                            "<tr><td>Four Blondes</td><td>2.8</td><td>57</td><td>36554</td><td>6613</td></tr>",
                            "<tr><td>Four Blondes</td><td>2.8</td><td>57</td><td>38159</td><td>6613</td></tr>",
                            "<tr><td>Four Blondes</td><td>2.8</td><td>57</td><td>38800</td><td>6613</td></tr>",
                            "<tr><td>Four Blondes</td><td>2.8</td><td>57</td><td>40361</td><td>6613</td></tr>",
                            "<tr><td>Four Blondes</td><td>2.8</td><td>57</td><td>40529</td><td>6613</td></tr>",
                            "<tr><td>Four Blondes</td><td>2.8</td><td>57</td><td>41485</td><td>6613</td></tr>",
                            "<tr><td>Four Blondes</td><td>2.8</td><td>57</td><td>42706</td><td>6613</td></tr>",
                            "<tr><td>Four Blondes</td><td>2.8</td><td>57</td><td>45206</td><td>6613</td></tr>",
                            "<tr><td>Four Blondes</td><td>2.8</td><td>57</td><td>45689</td><td>6613</td></tr>",
                            "<tr><td>Four Blondes</td><td>2.8</td><td>57</td><td>49499</td><td>6613</td></tr>",
                            "<tr><td>Four Blondes</td><td>2.8</td><td>57</td><td>51105</td><td>6613</td></tr>",
                            "<tr><td>Four Blondes</td><td>2.8</td><td>57</td><td>51671</td><td>6613</td></tr>",
                            "<tr><td>Four Blondes</td><td>2.8</td><td>57</td><td>52109</td><td>6613</td></tr>",
                            "<tr><td>The Emperor's Children</td><td>2.93</td><td>45</td><td>7860</td><td>3648</td></tr>",
                            "<tr><td>The Emperor's Children</td><td>2.93</td><td>45</td><td>11320</td><td>3648</td></tr>",
                            "<tr><td>The Emperor's Children</td><td>2.93</td><td>45</td><td>12686</td><td>3648</td></tr>",
                            "<tr><td>The Emperor's Children</td><td>2.93</td><td>45</td><td>12729</td><td>3648</td></tr>",
                            "<tr><td>The Emperor's Children</td><td>2.93</td><td>45</td><td>12891</td><td>3648</td></tr>",
                            "<tr><td>The Emperor's Children</td><td>2.93</td><td>45</td><td>16933</td><td>3648</td></tr>",
                            "<tr><td>The Emperor's Children</td><td>2.93</td><td>45</td><td>17093</td><td>3648</td></tr>",
                            "<tr><td>The Emperor's Children</td><td>2.93</td><td>45</td><td>24036</td><td>3648</td></tr>",
                            "<tr><td>The Emperor's Children</td><td>2.93</td><td>45</td><td>35122</td><td>3648</td></tr>",
                            "<tr><td>The Emperor's Children</td><td>2.93</td><td>45</td><td>36022</td><td>3648</td></tr>",
                            "<tr><td>The Emperor's Children</td><td>2.93</td><td>45</td><td>36952</td><td>3648</td></tr>",
                            "<tr><td>The Emperor's Children</td><td>2.93</td><td>45</td><td>38430</td><td>3648</td></tr>",
                            "<tr><td>The Emperor's Children</td><td>2.93</td><td>45</td><td>39414</td><td>3648</td></tr>",
                            "<tr><td>The Emperor's Children</td><td>2.93</td><td>45</td><td>45261</td><td>3648</td></tr>",
                            "<tr><td>The Emperor's Children</td><td>2.93</td><td>45</td><td>45497</td><td>3648</td></tr>",
                            "<tr><td>The Emperor's Children</td><td>2.93</td><td>45</td><td>45747</td><td>3648</td></tr>",
                            "<tr><td>The Emperor's Children</td><td>2.93</td><td>45</td><td>48502</td><td>3648</td></tr>",
                            "<tr><td>The Emperor's Children</td><td>2.93</td><td>45</td><td>49233</td><td>3648</td></tr>",
                            "</table>"
                        ]
                    }
                }
            ],
            "execution_count": 1
        },
        {
            "cell_type": "markdown",
            "source": [
                "## **QUESTION 2:** Exploring **RIGHT** joins with the **books** and **to\\_read** tables\n",
                "\n",
                "You will need to uncomment the Query to answer the question.\n",
                "\n",
                "**Part A:** Looking at the query, which table is the 'Left' and which is the 'Right'?\n",
                "\n",
                "> Your Answer: Left = dbo.books, Right = dbo.to\\_read\n",
                "\n",
                "**Part B:** How do the RIGHT-joined tables differ from the LEFT-joined tables in Question 1?  \n",
                "\n",
                "> Your Answer: It kept all the rows from the right table even if data was missing in rows from columns matched to the Left table."
            ],
            "metadata": {
                "azdata_cell_guid": "c1e417d9-89d2-4a7d-ab46-b43c8bddc54f"
            },
            "attachments": {}
        },
        {
            "cell_type": "code",
            "source": [
                "-- /*\n",
                "-- Query 1: RIGHT JOIN\n",
                "SELECT TOP 300 b.title, b.average_rating, b.books_count, tr.user_id, tr.book_id\n",
                "FROM BooksDB.dbo.books AS b\n",
                "RIGHT JOIN BooksDB.dbo.to_read AS tr\n",
                "ON b.best_book_id = tr.book_id;\n",
                "-- */"
            ],
            "metadata": {
                "azdata_cell_guid": "8cf020b8-2a76-46a6-acff-97eb1acc7fed",
                "tags": [],
                "language": "sql"
            },
            "outputs": [
                {
                    "output_type": "display_data",
                    "data": {
                        "text/html": "(300 rows affected)"
                    },
                    "metadata": {}
                },
                {
                    "output_type": "display_data",
                    "data": {
                        "text/html": "Total execution time: 00:00:00.060"
                    },
                    "metadata": {}
                },
                {
                    "output_type": "execute_result",
                    "metadata": {},
                    "execution_count": 2,
                    "data": {
                        "application/vnd.dataresource+json": {
                            "schema": {
                                "fields": [
                                    {
                                        "name": "title"
                                    },
                                    {
                                        "name": "average_rating"
                                    },
                                    {
                                        "name": "books_count"
                                    },
                                    {
                                        "name": "user_id"
                                    },
                                    {
                                        "name": "book_id"
                                    }
                                ]
                            },
                            "data": [
                                {
                                    "title": "Children of Dune (Dune Chronicles #3)",
                                    "average_rating": "3.9",
                                    "books_count": "116",
                                    "user_id": "1",
                                    "book_id": "112"
                                },
                                {
                                    "title": "NULL",
                                    "average_rating": "NULL",
                                    "books_count": "NULL",
                                    "user_id": "1",
                                    "book_id": "235"
                                },
                                {
                                    "title": "NULL",
                                    "average_rating": "NULL",
                                    "books_count": "NULL",
                                    "user_id": "1",
                                    "book_id": "533"
                                },
                                {
                                    "title": "NULL",
                                    "average_rating": "NULL",
                                    "books_count": "NULL",
                                    "user_id": "1",
                                    "book_id": "1198"
                                },
                                {
                                    "title": "NULL",
                                    "average_rating": "NULL",
                                    "books_count": "NULL",
                                    "user_id": "1",
                                    "book_id": "1874"
                                },
                                {
                                    "title": "NULL",
                                    "average_rating": "NULL",
                                    "books_count": "NULL",
                                    "user_id": "1",
                                    "book_id": "2058"
                                },
                                {
                                    "title": "NULL",
                                    "average_rating": "NULL",
                                    "books_count": "NULL",
                                    "user_id": "1",
                                    "book_id": "3334"
                                },
                                {
                                    "title": "NULL",
                                    "average_rating": "NULL",
                                    "books_count": "NULL",
                                    "user_id": "2",
                                    "book_id": "4"
                                },
                                {
                                    "title": "NULL",
                                    "average_rating": "NULL",
                                    "books_count": "NULL",
                                    "user_id": "2",
                                    "book_id": "11"
                                },
                                {
                                    "title": "The Ultimate Hitchhiker's Guide to the Galaxy",
                                    "average_rating": "4.37",
                                    "books_count": "32",
                                    "user_id": "2",
                                    "book_id": "13"
                                },
                                {
                                    "title": "NULL",
                                    "average_rating": "NULL",
                                    "books_count": "NULL",
                                    "user_id": "2",
                                    "book_id": "16"
                                },
                                {
                                    "title": "NULL",
                                    "average_rating": "NULL",
                                    "books_count": "NULL",
                                    "user_id": "2",
                                    "book_id": "92"
                                },
                                {
                                    "title": "Dune Messiah (Dune Chronicles #2)",
                                    "average_rating": "3.86",
                                    "books_count": "140",
                                    "user_id": "2",
                                    "book_id": "106"
                                },
                                {
                                    "title": "NULL",
                                    "average_rating": "NULL",
                                    "books_count": "NULL",
                                    "user_id": "2",
                                    "book_id": "113"
                                },
                                {
                                    "title": "NULL",
                                    "average_rating": "NULL",
                                    "books_count": "NULL",
                                    "user_id": "2",
                                    "book_id": "233"
                                },
                                {
                                    "title": "NULL",
                                    "average_rating": "NULL",
                                    "books_count": "NULL",
                                    "user_id": "2",
                                    "book_id": "247"
                                },
                                {
                                    "title": "NULL",
                                    "average_rating": "NULL",
                                    "books_count": "NULL",
                                    "user_id": "2",
                                    "book_id": "380"
                                },
                                {
                                    "title": "NULL",
                                    "average_rating": "NULL",
                                    "books_count": "NULL",
                                    "user_id": "2",
                                    "book_id": "408"
                                },
                                {
                                    "title": "NULL",
                                    "average_rating": "NULL",
                                    "books_count": "NULL",
                                    "user_id": "2",
                                    "book_id": "439"
                                },
                                {
                                    "title": "NULL",
                                    "average_rating": "NULL",
                                    "books_count": "NULL",
                                    "user_id": "2",
                                    "book_id": "479"
                                },
                                {
                                    "title": "NULL",
                                    "average_rating": "NULL",
                                    "books_count": "NULL",
                                    "user_id": "2",
                                    "book_id": "516"
                                },
                                {
                                    "title": "NULL",
                                    "average_rating": "NULL",
                                    "books_count": "NULL",
                                    "user_id": "2",
                                    "book_id": "619"
                                },
                                {
                                    "title": "NULL",
                                    "average_rating": "NULL",
                                    "books_count": "NULL",
                                    "user_id": "2",
                                    "book_id": "1069"
                                },
                                {
                                    "title": "The Iliad",
                                    "average_rating": "3.83",
                                    "books_count": "1726",
                                    "user_id": "2",
                                    "book_id": "1371"
                                },
                                {
                                    "title": "NULL",
                                    "average_rating": "NULL",
                                    "books_count": "NULL",
                                    "user_id": "2",
                                    "book_id": "1384"
                                },
                                {
                                    "title": "NULL",
                                    "average_rating": "NULL",
                                    "books_count": "NULL",
                                    "user_id": "2",
                                    "book_id": "1597"
                                },
                                {
                                    "title": "NULL",
                                    "average_rating": "NULL",
                                    "books_count": "NULL",
                                    "user_id": "2",
                                    "book_id": "1926"
                                },
                                {
                                    "title": "NULL",
                                    "average_rating": "NULL",
                                    "books_count": "NULL",
                                    "user_id": "2",
                                    "book_id": "1967"
                                },
                                {
                                    "title": "NULL",
                                    "average_rating": "NULL",
                                    "books_count": "NULL",
                                    "user_id": "2",
                                    "book_id": "1969"
                                },
                                {
                                    "title": "NULL",
                                    "average_rating": "NULL",
                                    "books_count": "NULL",
                                    "user_id": "2",
                                    "book_id": "2220"
                                },
                                {
                                    "title": "NULL",
                                    "average_rating": "NULL",
                                    "books_count": "NULL",
                                    "user_id": "2",
                                    "book_id": "2388"
                                },
                                {
                                    "title": "NULL",
                                    "average_rating": "NULL",
                                    "books_count": "NULL",
                                    "user_id": "2",
                                    "book_id": "3222"
                                },
                                {
                                    "title": "NULL",
                                    "average_rating": "NULL",
                                    "books_count": "NULL",
                                    "user_id": "2",
                                    "book_id": "3227"
                                },
                                {
                                    "title": "NULL",
                                    "average_rating": "NULL",
                                    "books_count": "NULL",
                                    "user_id": "2",
                                    "book_id": "3733"
                                },
                                {
                                    "title": "NULL",
                                    "average_rating": "NULL",
                                    "books_count": "NULL",
                                    "user_id": "2",
                                    "book_id": "5418"
                                },
                                {
                                    "title": "NULL",
                                    "average_rating": "NULL",
                                    "books_count": "NULL",
                                    "user_id": "2",
                                    "book_id": "6937"
                                },
                                {
                                    "title": "NULL",
                                    "average_rating": "NULL",
                                    "books_count": "NULL",
                                    "user_id": "2",
                                    "book_id": "7146"
                                },
                                {
                                    "title": "NULL",
                                    "average_rating": "NULL",
                                    "books_count": "NULL",
                                    "user_id": "2",
                                    "book_id": "7873"
                                },
                                {
                                    "title": "NULL",
                                    "average_rating": "NULL",
                                    "books_count": "NULL",
                                    "user_id": "2",
                                    "book_id": "8417"
                                },
                                {
                                    "title": "Harry Potter Collection (Harry Potter, #1-6)",
                                    "average_rating": "4.73",
                                    "books_count": "6",
                                    "user_id": "3",
                                    "book_id": "10"
                                },
                                {
                                    "title": "NULL",
                                    "average_rating": "NULL",
                                    "books_count": "NULL",
                                    "user_id": "3",
                                    "book_id": "66"
                                },
                                {
                                    "title": "NULL",
                                    "average_rating": "NULL",
                                    "books_count": "NULL",
                                    "user_id": "3",
                                    "book_id": "233"
                                },
                                {
                                    "title": "NULL",
                                    "average_rating": "NULL",
                                    "books_count": "NULL",
                                    "user_id": "3",
                                    "book_id": "726"
                                },
                                {
                                    "title": "NULL",
                                    "average_rating": "NULL",
                                    "books_count": "NULL",
                                    "user_id": "3",
                                    "book_id": "932"
                                },
                                {
                                    "title": "NULL",
                                    "average_rating": "NULL",
                                    "books_count": "NULL",
                                    "user_id": "3",
                                    "book_id": "1146"
                                },
                                {
                                    "title": "NULL",
                                    "average_rating": "NULL",
                                    "books_count": "NULL",
                                    "user_id": "3",
                                    "book_id": "2439"
                                },
                                {
                                    "title": "NULL",
                                    "average_rating": "NULL",
                                    "books_count": "NULL",
                                    "user_id": "3",
                                    "book_id": "3566"
                                },
                                {
                                    "title": "NULL",
                                    "average_rating": "NULL",
                                    "books_count": "NULL",
                                    "user_id": "3",
                                    "book_id": "4582"
                                },
                                {
                                    "title": "NULL",
                                    "average_rating": "NULL",
                                    "books_count": "NULL",
                                    "user_id": "3",
                                    "book_id": "5448"
                                },
                                {
                                    "title": "NULL",
                                    "average_rating": "NULL",
                                    "books_count": "NULL",
                                    "user_id": "3",
                                    "book_id": "5765"
                                },
                                {
                                    "title": "NULL",
                                    "average_rating": "NULL",
                                    "books_count": "NULL",
                                    "user_id": "3",
                                    "book_id": "6274"
                                },
                                {
                                    "title": "NULL",
                                    "average_rating": "NULL",
                                    "books_count": "NULL",
                                    "user_id": "3",
                                    "book_id": "8403"
                                },
                                {
                                    "title": "NULL",
                                    "average_rating": "NULL",
                                    "books_count": "NULL",
                                    "user_id": "5",
                                    "book_id": "31"
                                },
                                {
                                    "title": "The Virtue of Selfishness: A New Concept of Egoism",
                                    "average_rating": "3.47",
                                    "books_count": "53",
                                    "user_id": "5",
                                    "book_id": "665"
                                },
                                {
                                    "title": "NULL",
                                    "average_rating": "NULL",
                                    "books_count": "NULL",
                                    "user_id": "5",
                                    "book_id": "3074"
                                },
                                {
                                    "title": "Sherlock Holmes: The Complete Novels and Stories, Volume I",
                                    "average_rating": "4.45",
                                    "books_count": "13",
                                    "user_id": "5",
                                    "book_id": "3581"
                                },
                                {
                                    "title": "NULL",
                                    "average_rating": "NULL",
                                    "books_count": "NULL",
                                    "user_id": "6",
                                    "book_id": "64"
                                },
                                {
                                    "title": "NULL",
                                    "average_rating": "NULL",
                                    "books_count": "NULL",
                                    "user_id": "6",
                                    "book_id": "459"
                                },
                                {
                                    "title": "NULL",
                                    "average_rating": "NULL",
                                    "books_count": "NULL",
                                    "user_id": "6",
                                    "book_id": "619"
                                },
                                {
                                    "title": "NULL",
                                    "average_rating": "NULL",
                                    "books_count": "NULL",
                                    "user_id": "6",
                                    "book_id": "649"
                                },
                                {
                                    "title": "NULL",
                                    "average_rating": "NULL",
                                    "books_count": "NULL",
                                    "user_id": "6",
                                    "book_id": "687"
                                },
                                {
                                    "title": "NULL",
                                    "average_rating": "NULL",
                                    "books_count": "NULL",
                                    "user_id": "6",
                                    "book_id": "874"
                                },
                                {
                                    "title": "The War of Art: Break Through the Blocks & Win Your Inner Creative Battles",
                                    "average_rating": "4.07",
                                    "books_count": "29",
                                    "user_id": "6",
                                    "book_id": "1319"
                                },
                                {
                                    "title": "NULL",
                                    "average_rating": "NULL",
                                    "books_count": "NULL",
                                    "user_id": "6",
                                    "book_id": "1912"
                                },
                                {
                                    "title": "NULL",
                                    "average_rating": "NULL",
                                    "books_count": "NULL",
                                    "user_id": "6",
                                    "book_id": "5269"
                                },
                                {
                                    "title": "NULL",
                                    "average_rating": "NULL",
                                    "books_count": "NULL",
                                    "user_id": "6",
                                    "book_id": "5537"
                                },
                                {
                                    "title": "NULL",
                                    "average_rating": "NULL",
                                    "books_count": "NULL",
                                    "user_id": "6",
                                    "book_id": "5820"
                                },
                                {
                                    "title": "NULL",
                                    "average_rating": "NULL",
                                    "books_count": "NULL",
                                    "user_id": "6",
                                    "book_id": "6220"
                                },
                                {
                                    "title": "NULL",
                                    "average_rating": "NULL",
                                    "books_count": "NULL",
                                    "user_id": "6",
                                    "book_id": "7480"
                                },
                                {
                                    "title": "Harry Potter Collection (Harry Potter, #1-6)",
                                    "average_rating": "4.73",
                                    "books_count": "6",
                                    "user_id": "7",
                                    "book_id": "10"
                                },
                                {
                                    "title": "NULL",
                                    "average_rating": "NULL",
                                    "books_count": "NULL",
                                    "user_id": "7",
                                    "book_id": "215"
                                },
                                {
                                    "title": "NULL",
                                    "average_rating": "NULL",
                                    "books_count": "NULL",
                                    "user_id": "7",
                                    "book_id": "225"
                                },
                                {
                                    "title": "NULL",
                                    "average_rating": "NULL",
                                    "books_count": "NULL",
                                    "user_id": "7",
                                    "book_id": "233"
                                },
                                {
                                    "title": "NULL",
                                    "average_rating": "NULL",
                                    "books_count": "NULL",
                                    "user_id": "7",
                                    "book_id": "1322"
                                },
                                {
                                    "title": "NULL",
                                    "average_rating": "NULL",
                                    "books_count": "NULL",
                                    "user_id": "7",
                                    "book_id": "3552"
                                },
                                {
                                    "title": "NULL",
                                    "average_rating": "NULL",
                                    "books_count": "NULL",
                                    "user_id": "7",
                                    "book_id": "3720"
                                },
                                {
                                    "title": "NULL",
                                    "average_rating": "NULL",
                                    "books_count": "NULL",
                                    "user_id": "7",
                                    "book_id": "4468"
                                },
                                {
                                    "title": "NULL",
                                    "average_rating": "NULL",
                                    "books_count": "NULL",
                                    "user_id": "8",
                                    "book_id": "19"
                                },
                                {
                                    "title": "NULL",
                                    "average_rating": "NULL",
                                    "books_count": "NULL",
                                    "user_id": "8",
                                    "book_id": "498"
                                },
                                {
                                    "title": "NULL",
                                    "average_rating": "NULL",
                                    "books_count": "NULL",
                                    "user_id": "8",
                                    "book_id": "1357"
                                },
                                {
                                    "title": "NULL",
                                    "average_rating": "NULL",
                                    "books_count": "NULL",
                                    "user_id": "8",
                                    "book_id": "2177"
                                },
                                {
                                    "title": "NULL",
                                    "average_rating": "NULL",
                                    "books_count": "NULL",
                                    "user_id": "8",
                                    "book_id": "3930"
                                },
                                {
                                    "title": "The Pilgrimage",
                                    "average_rating": "3.64",
                                    "books_count": "171",
                                    "user_id": "8",
                                    "book_id": "4004"
                                },
                                {
                                    "title": "NULL",
                                    "average_rating": "NULL",
                                    "books_count": "NULL",
                                    "user_id": "8",
                                    "book_id": "8792"
                                },
                                {
                                    "title": "NULL",
                                    "average_rating": "NULL",
                                    "books_count": "NULL",
                                    "user_id": "8",
                                    "book_id": "9304"
                                },
                                {
                                    "title": "Harry Potter Boxed Set, Books 1-5 (Harry Potter, #1-5)",
                                    "average_rating": "4.77",
                                    "books_count": "11",
                                    "user_id": "9",
                                    "book_id": "8"
                                },
                                {
                                    "title": "Children of Dune (Dune Chronicles #3)",
                                    "average_rating": "3.9",
                                    "books_count": "116",
                                    "user_id": "9",
                                    "book_id": "112"
                                },
                                {
                                    "title": "NULL",
                                    "average_rating": "NULL",
                                    "books_count": "NULL",
                                    "user_id": "9",
                                    "book_id": "139"
                                },
                                {
                                    "title": "NULL",
                                    "average_rating": "NULL",
                                    "books_count": "NULL",
                                    "user_id": "9",
                                    "book_id": "230"
                                },
                                {
                                    "title": "NULL",
                                    "average_rating": "NULL",
                                    "books_count": "NULL",
                                    "user_id": "9",
                                    "book_id": "233"
                                },
                                {
                                    "title": "NULL",
                                    "average_rating": "NULL",
                                    "books_count": "NULL",
                                    "user_id": "9",
                                    "book_id": "473"
                                },
                                {
                                    "title": "NULL",
                                    "average_rating": "NULL",
                                    "books_count": "NULL",
                                    "user_id": "9",
                                    "book_id": "638"
                                },
                                {
                                    "title": "NULL",
                                    "average_rating": "NULL",
                                    "books_count": "NULL",
                                    "user_id": "9",
                                    "book_id": "653"
                                },
                                {
                                    "title": "NULL",
                                    "average_rating": "NULL",
                                    "books_count": "NULL",
                                    "user_id": "9",
                                    "book_id": "672"
                                },
                                {
                                    "title": "NULL",
                                    "average_rating": "NULL",
                                    "books_count": "NULL",
                                    "user_id": "9",
                                    "book_id": "701"
                                },
                                {
                                    "title": "NULL",
                                    "average_rating": "NULL",
                                    "books_count": "NULL",
                                    "user_id": "9",
                                    "book_id": "736"
                                },
                                {
                                    "title": "NULL",
                                    "average_rating": "NULL",
                                    "books_count": "NULL",
                                    "user_id": "9",
                                    "book_id": "883"
                                },
                                {
                                    "title": "NULL",
                                    "average_rating": "NULL",
                                    "books_count": "NULL",
                                    "user_id": "9",
                                    "book_id": "895"
                                },
                                {
                                    "title": "NULL",
                                    "average_rating": "NULL",
                                    "books_count": "NULL",
                                    "user_id": "9",
                                    "book_id": "1467"
                                },
                                {
                                    "title": "NULL",
                                    "average_rating": "NULL",
                                    "books_count": "NULL",
                                    "user_id": "9",
                                    "book_id": "1582"
                                },
                                {
                                    "title": "NULL",
                                    "average_rating": "NULL",
                                    "books_count": "NULL",
                                    "user_id": "9",
                                    "book_id": "1873"
                                },
                                {
                                    "title": "NULL",
                                    "average_rating": "NULL",
                                    "books_count": "NULL",
                                    "user_id": "9",
                                    "book_id": "2516"
                                },
                                {
                                    "title": "NULL",
                                    "average_rating": "NULL",
                                    "books_count": "NULL",
                                    "user_id": "9",
                                    "book_id": "2630"
                                },
                                {
                                    "title": "NULL",
                                    "average_rating": "NULL",
                                    "books_count": "NULL",
                                    "user_id": "9",
                                    "book_id": "3210"
                                },
                                {
                                    "title": "Icy Sparks",
                                    "average_rating": "3.68",
                                    "books_count": "27",
                                    "user_id": "9",
                                    "book_id": "3476"
                                },
                                {
                                    "title": "NULL",
                                    "average_rating": "NULL",
                                    "books_count": "NULL",
                                    "user_id": "9",
                                    "book_id": "3560"
                                },
                                {
                                    "title": "NULL",
                                    "average_rating": "NULL",
                                    "books_count": "NULL",
                                    "user_id": "9",
                                    "book_id": "3650"
                                },
                                {
                                    "title": "NULL",
                                    "average_rating": "NULL",
                                    "books_count": "NULL",
                                    "user_id": "9",
                                    "book_id": "5286"
                                },
                                {
                                    "title": "NULL",
                                    "average_rating": "NULL",
                                    "books_count": "NULL",
                                    "user_id": "9",
                                    "book_id": "6636"
                                },
                                {
                                    "title": "Harry Potter and the Goblet of Fire (Harry Potter, #4)",
                                    "average_rating": "4.53",
                                    "books_count": "332",
                                    "user_id": "10",
                                    "book_id": "6"
                                },
                                {
                                    "title": "NULL",
                                    "average_rating": "NULL",
                                    "books_count": "NULL",
                                    "user_id": "10",
                                    "book_id": "385"
                                },
                                {
                                    "title": "Atlas Shrugged",
                                    "average_rating": "3.68",
                                    "books_count": "147",
                                    "user_id": "10",
                                    "book_id": "662"
                                },
                                {
                                    "title": "NULL",
                                    "average_rating": "NULL",
                                    "books_count": "NULL",
                                    "user_id": "10",
                                    "book_id": "896"
                                },
                                {
                                    "title": "NULL",
                                    "average_rating": "NULL",
                                    "books_count": "NULL",
                                    "user_id": "10",
                                    "book_id": "1076"
                                },
                                {
                                    "title": "NULL",
                                    "average_rating": "NULL",
                                    "books_count": "NULL",
                                    "user_id": "10",
                                    "book_id": "1082"
                                },
                                {
                                    "title": "NULL",
                                    "average_rating": "NULL",
                                    "books_count": "NULL",
                                    "user_id": "10",
                                    "book_id": "1220"
                                },
                                {
                                    "title": "NULL",
                                    "average_rating": "NULL",
                                    "books_count": "NULL",
                                    "user_id": "10",
                                    "book_id": "1281"
                                },
                                {
                                    "title": "NULL",
                                    "average_rating": "NULL",
                                    "books_count": "NULL",
                                    "user_id": "10",
                                    "book_id": "1439"
                                },
                                {
                                    "title": "NULL",
                                    "average_rating": "NULL",
                                    "books_count": "NULL",
                                    "user_id": "10",
                                    "book_id": "1851"
                                },
                                {
                                    "title": "NULL",
                                    "average_rating": "NULL",
                                    "books_count": "NULL",
                                    "user_id": "10",
                                    "book_id": "1920"
                                },
                                {
                                    "title": "NULL",
                                    "average_rating": "NULL",
                                    "books_count": "NULL",
                                    "user_id": "10",
                                    "book_id": "2441"
                                },
                                {
                                    "title": "NULL",
                                    "average_rating": "NULL",
                                    "books_count": "NULL",
                                    "user_id": "10",
                                    "book_id": "2570"
                                },
                                {
                                    "title": "NULL",
                                    "average_rating": "NULL",
                                    "books_count": "NULL",
                                    "user_id": "10",
                                    "book_id": "2616"
                                },
                                {
                                    "title": "NULL",
                                    "average_rating": "NULL",
                                    "books_count": "NULL",
                                    "user_id": "10",
                                    "book_id": "3059"
                                },
                                {
                                    "title": "NULL",
                                    "average_rating": "NULL",
                                    "books_count": "NULL",
                                    "user_id": "10",
                                    "book_id": "3545"
                                },
                                {
                                    "title": "NULL",
                                    "average_rating": "NULL",
                                    "books_count": "NULL",
                                    "user_id": "10",
                                    "book_id": "3961"
                                },
                                {
                                    "title": "NULL",
                                    "average_rating": "NULL",
                                    "books_count": "NULL",
                                    "user_id": "10",
                                    "book_id": "4369"
                                },
                                {
                                    "title": "NULL",
                                    "average_rating": "NULL",
                                    "books_count": "NULL",
                                    "user_id": "10",
                                    "book_id": "4510"
                                },
                                {
                                    "title": "NULL",
                                    "average_rating": "NULL",
                                    "books_count": "NULL",
                                    "user_id": "10",
                                    "book_id": "5104"
                                },
                                {
                                    "title": "NULL",
                                    "average_rating": "NULL",
                                    "books_count": "NULL",
                                    "user_id": "10",
                                    "book_id": "5254"
                                },
                                {
                                    "title": "NULL",
                                    "average_rating": "NULL",
                                    "books_count": "NULL",
                                    "user_id": "10",
                                    "book_id": "5556"
                                },
                                {
                                    "title": "NULL",
                                    "average_rating": "NULL",
                                    "books_count": "NULL",
                                    "user_id": "10",
                                    "book_id": "6114"
                                },
                                {
                                    "title": "NULL",
                                    "average_rating": "NULL",
                                    "books_count": "NULL",
                                    "user_id": "10",
                                    "book_id": "6917"
                                },
                                {
                                    "title": "NULL",
                                    "average_rating": "NULL",
                                    "books_count": "NULL",
                                    "user_id": "10",
                                    "book_id": "7545"
                                },
                                {
                                    "title": "NULL",
                                    "average_rating": "NULL",
                                    "books_count": "NULL",
                                    "user_id": "10",
                                    "book_id": "7842"
                                },
                                {
                                    "title": "NULL",
                                    "average_rating": "NULL",
                                    "books_count": "NULL",
                                    "user_id": "11",
                                    "book_id": "3643"
                                },
                                {
                                    "title": "Harry Potter and the Half-Blood Prince (Harry Potter, #6)",
                                    "average_rating": "4.54",
                                    "books_count": "275",
                                    "user_id": "12",
                                    "book_id": "1"
                                },
                                {
                                    "title": "NULL",
                                    "average_rating": "NULL",
                                    "books_count": "NULL",
                                    "user_id": "12",
                                    "book_id": "124"
                                },
                                {
                                    "title": "NULL",
                                    "average_rating": "NULL",
                                    "books_count": "NULL",
                                    "user_id": "12",
                                    "book_id": "1471"
                                },
                                {
                                    "title": "NULL",
                                    "average_rating": "NULL",
                                    "books_count": "NULL",
                                    "user_id": "12",
                                    "book_id": "2893"
                                },
                                {
                                    "title": "NULL",
                                    "average_rating": "NULL",
                                    "books_count": "NULL",
                                    "user_id": "13",
                                    "book_id": "81"
                                },
                                {
                                    "title": "NULL",
                                    "average_rating": "NULL",
                                    "books_count": "NULL",
                                    "user_id": "13",
                                    "book_id": "277"
                                },
                                {
                                    "title": "NULL",
                                    "average_rating": "NULL",
                                    "books_count": "NULL",
                                    "user_id": "13",
                                    "book_id": "318"
                                },
                                {
                                    "title": "NULL",
                                    "average_rating": "NULL",
                                    "books_count": "NULL",
                                    "user_id": "13",
                                    "book_id": "430"
                                },
                                {
                                    "title": "NULL",
                                    "average_rating": "NULL",
                                    "books_count": "NULL",
                                    "user_id": "13",
                                    "book_id": "437"
                                },
                                {
                                    "title": "NULL",
                                    "average_rating": "NULL",
                                    "books_count": "NULL",
                                    "user_id": "13",
                                    "book_id": "551"
                                },
                                {
                                    "title": "NULL",
                                    "average_rating": "NULL",
                                    "books_count": "NULL",
                                    "user_id": "13",
                                    "book_id": "560"
                                },
                                {
                                    "title": "NULL",
                                    "average_rating": "NULL",
                                    "books_count": "NULL",
                                    "user_id": "13",
                                    "book_id": "610"
                                },
                                {
                                    "title": "NULL",
                                    "average_rating": "NULL",
                                    "books_count": "NULL",
                                    "user_id": "13",
                                    "book_id": "678"
                                },
                                {
                                    "title": "NULL",
                                    "average_rating": "NULL",
                                    "books_count": "NULL",
                                    "user_id": "13",
                                    "book_id": "979"
                                },
                                {
                                    "title": "NULL",
                                    "average_rating": "NULL",
                                    "books_count": "NULL",
                                    "user_id": "13",
                                    "book_id": "1082"
                                },
                                {
                                    "title": "NULL",
                                    "average_rating": "NULL",
                                    "books_count": "NULL",
                                    "user_id": "13",
                                    "book_id": "1464"
                                },
                                {
                                    "title": "NULL",
                                    "average_rating": "NULL",
                                    "books_count": "NULL",
                                    "user_id": "13",
                                    "book_id": "1577"
                                },
                                {
                                    "title": "NULL",
                                    "average_rating": "NULL",
                                    "books_count": "NULL",
                                    "user_id": "13",
                                    "book_id": "2018"
                                },
                                {
                                    "title": "NULL",
                                    "average_rating": "NULL",
                                    "books_count": "NULL",
                                    "user_id": "13",
                                    "book_id": "2418"
                                },
                                {
                                    "title": "NULL",
                                    "average_rating": "NULL",
                                    "books_count": "NULL",
                                    "user_id": "13",
                                    "book_id": "3257"
                                },
                                {
                                    "title": "NULL",
                                    "average_rating": "NULL",
                                    "books_count": "NULL",
                                    "user_id": "13",
                                    "book_id": "4212"
                                },
                                {
                                    "title": "NULL",
                                    "average_rating": "NULL",
                                    "books_count": "NULL",
                                    "user_id": "13",
                                    "book_id": "4635"
                                },
                                {
                                    "title": "NULL",
                                    "average_rating": "NULL",
                                    "books_count": "NULL",
                                    "user_id": "13",
                                    "book_id": "4704"
                                },
                                {
                                    "title": "NULL",
                                    "average_rating": "NULL",
                                    "books_count": "NULL",
                                    "user_id": "13",
                                    "book_id": "4734"
                                },
                                {
                                    "title": "NULL",
                                    "average_rating": "NULL",
                                    "books_count": "NULL",
                                    "user_id": "13",
                                    "book_id": "4841"
                                },
                                {
                                    "title": "NULL",
                                    "average_rating": "NULL",
                                    "books_count": "NULL",
                                    "user_id": "13",
                                    "book_id": "4848"
                                },
                                {
                                    "title": "NULL",
                                    "average_rating": "NULL",
                                    "books_count": "NULL",
                                    "user_id": "13",
                                    "book_id": "4856"
                                },
                                {
                                    "title": "NULL",
                                    "average_rating": "NULL",
                                    "books_count": "NULL",
                                    "user_id": "13",
                                    "book_id": "4928"
                                },
                                {
                                    "title": "NULL",
                                    "average_rating": "NULL",
                                    "books_count": "NULL",
                                    "user_id": "13",
                                    "book_id": "6114"
                                },
                                {
                                    "title": "NULL",
                                    "average_rating": "NULL",
                                    "books_count": "NULL",
                                    "user_id": "13",
                                    "book_id": "6793"
                                },
                                {
                                    "title": "NULL",
                                    "average_rating": "NULL",
                                    "books_count": "NULL",
                                    "user_id": "13",
                                    "book_id": "6962"
                                },
                                {
                                    "title": "NULL",
                                    "average_rating": "NULL",
                                    "books_count": "NULL",
                                    "user_id": "13",
                                    "book_id": "8717"
                                },
                                {
                                    "title": "NULL",
                                    "average_rating": "NULL",
                                    "books_count": "NULL",
                                    "user_id": "14",
                                    "book_id": "493"
                                },
                                {
                                    "title": "NULL",
                                    "average_rating": "NULL",
                                    "books_count": "NULL",
                                    "user_id": "14",
                                    "book_id": "1179"
                                },
                                {
                                    "title": "NULL",
                                    "average_rating": "NULL",
                                    "books_count": "NULL",
                                    "user_id": "14",
                                    "book_id": "2693"
                                },
                                {
                                    "title": "Sherlock Holmes: The Complete Novels and Stories, Volume I",
                                    "average_rating": "4.45",
                                    "books_count": "13",
                                    "user_id": "14",
                                    "book_id": "3581"
                                },
                                {
                                    "title": "NULL",
                                    "average_rating": "NULL",
                                    "books_count": "NULL",
                                    "user_id": "14",
                                    "book_id": "3683"
                                },
                                {
                                    "title": "NULL",
                                    "average_rating": "NULL",
                                    "books_count": "NULL",
                                    "user_id": "14",
                                    "book_id": "3953"
                                },
                                {
                                    "title": "NULL",
                                    "average_rating": "NULL",
                                    "books_count": "NULL",
                                    "user_id": "14",
                                    "book_id": "4220"
                                },
                                {
                                    "title": "NULL",
                                    "average_rating": "NULL",
                                    "books_count": "NULL",
                                    "user_id": "14",
                                    "book_id": "5076"
                                },
                                {
                                    "title": "NULL",
                                    "average_rating": "NULL",
                                    "books_count": "NULL",
                                    "user_id": "14",
                                    "book_id": "5537"
                                },
                                {
                                    "title": "NULL",
                                    "average_rating": "NULL",
                                    "books_count": "NULL",
                                    "user_id": "14",
                                    "book_id": "7777"
                                },
                                {
                                    "title": "NULL",
                                    "average_rating": "NULL",
                                    "books_count": "NULL",
                                    "user_id": "15",
                                    "book_id": "191"
                                },
                                {
                                    "title": "The Lover",
                                    "average_rating": "3.76",
                                    "books_count": "148",
                                    "user_id": "15",
                                    "book_id": "275"
                                },
                                {
                                    "title": "NULL",
                                    "average_rating": "NULL",
                                    "books_count": "NULL",
                                    "user_id": "15",
                                    "book_id": "398"
                                },
                                {
                                    "title": "NULL",
                                    "average_rating": "NULL",
                                    "books_count": "NULL",
                                    "user_id": "15",
                                    "book_id": "666"
                                },
                                {
                                    "title": "NULL",
                                    "average_rating": "NULL",
                                    "books_count": "NULL",
                                    "user_id": "15",
                                    "book_id": "1491"
                                },
                                {
                                    "title": "NULL",
                                    "average_rating": "NULL",
                                    "books_count": "NULL",
                                    "user_id": "15",
                                    "book_id": "5210"
                                },
                                {
                                    "title": "NULL",
                                    "average_rating": "NULL",
                                    "books_count": "NULL",
                                    "user_id": "17",
                                    "book_id": "1344"
                                },
                                {
                                    "title": "The Good Soldier",
                                    "average_rating": "3.72",
                                    "books_count": "362",
                                    "user_id": "20",
                                    "book_id": "7628"
                                },
                                {
                                    "title": "NULL",
                                    "average_rating": "NULL",
                                    "books_count": "NULL",
                                    "user_id": "22",
                                    "book_id": "653"
                                },
                                {
                                    "title": "NULL",
                                    "average_rating": "NULL",
                                    "books_count": "NULL",
                                    "user_id": "22",
                                    "book_id": "1403"
                                },
                                {
                                    "title": "NULL",
                                    "average_rating": "NULL",
                                    "books_count": "NULL",
                                    "user_id": "22",
                                    "book_id": "1405"
                                },
                                {
                                    "title": "NULL",
                                    "average_rating": "NULL",
                                    "books_count": "NULL",
                                    "user_id": "22",
                                    "book_id": "1645"
                                },
                                {
                                    "title": "NULL",
                                    "average_rating": "NULL",
                                    "books_count": "NULL",
                                    "user_id": "22",
                                    "book_id": "2500"
                                },
                                {
                                    "title": "NULL",
                                    "average_rating": "NULL",
                                    "books_count": "NULL",
                                    "user_id": "22",
                                    "book_id": "2691"
                                },
                                {
                                    "title": "NULL",
                                    "average_rating": "NULL",
                                    "books_count": "NULL",
                                    "user_id": "22",
                                    "book_id": "4995"
                                },
                                {
                                    "title": "NULL",
                                    "average_rating": "NULL",
                                    "books_count": "NULL",
                                    "user_id": "23",
                                    "book_id": "273"
                                },
                                {
                                    "title": "NULL",
                                    "average_rating": "NULL",
                                    "books_count": "NULL",
                                    "user_id": "23",
                                    "book_id": "459"
                                },
                                {
                                    "title": "NULL",
                                    "average_rating": "NULL",
                                    "books_count": "NULL",
                                    "user_id": "23",
                                    "book_id": "791"
                                },
                                {
                                    "title": "NULL",
                                    "average_rating": "NULL",
                                    "books_count": "NULL",
                                    "user_id": "23",
                                    "book_id": "886"
                                },
                                {
                                    "title": "NULL",
                                    "average_rating": "NULL",
                                    "books_count": "NULL",
                                    "user_id": "23",
                                    "book_id": "925"
                                },
                                {
                                    "title": "NULL",
                                    "average_rating": "NULL",
                                    "books_count": "NULL",
                                    "user_id": "23",
                                    "book_id": "1198"
                                },
                                {
                                    "title": "NULL",
                                    "average_rating": "NULL",
                                    "books_count": "NULL",
                                    "user_id": "23",
                                    "book_id": "1597"
                                },
                                {
                                    "title": "NULL",
                                    "average_rating": "NULL",
                                    "books_count": "NULL",
                                    "user_id": "23",
                                    "book_id": "1688"
                                },
                                {
                                    "title": "NULL",
                                    "average_rating": "NULL",
                                    "books_count": "NULL",
                                    "user_id": "23",
                                    "book_id": "2251"
                                },
                                {
                                    "title": "NULL",
                                    "average_rating": "NULL",
                                    "books_count": "NULL",
                                    "user_id": "23",
                                    "book_id": "2350"
                                },
                                {
                                    "title": "NULL",
                                    "average_rating": "NULL",
                                    "books_count": "NULL",
                                    "user_id": "23",
                                    "book_id": "2613"
                                },
                                {
                                    "title": "NULL",
                                    "average_rating": "NULL",
                                    "books_count": "NULL",
                                    "user_id": "23",
                                    "book_id": "3312"
                                },
                                {
                                    "title": "NULL",
                                    "average_rating": "NULL",
                                    "books_count": "NULL",
                                    "user_id": "23",
                                    "book_id": "3343"
                                },
                                {
                                    "title": "NULL",
                                    "average_rating": "NULL",
                                    "books_count": "NULL",
                                    "user_id": "24",
                                    "book_id": "61"
                                },
                                {
                                    "title": "NULL",
                                    "average_rating": "NULL",
                                    "books_count": "NULL",
                                    "user_id": "24",
                                    "book_id": "143"
                                },
                                {
                                    "title": "NULL",
                                    "average_rating": "NULL",
                                    "books_count": "NULL",
                                    "user_id": "24",
                                    "book_id": "421"
                                },
                                {
                                    "title": "NULL",
                                    "average_rating": "NULL",
                                    "books_count": "NULL",
                                    "user_id": "24",
                                    "book_id": "467"
                                },
                                {
                                    "title": "NULL",
                                    "average_rating": "NULL",
                                    "books_count": "NULL",
                                    "user_id": "24",
                                    "book_id": "974"
                                },
                                {
                                    "title": "NULL",
                                    "average_rating": "NULL",
                                    "books_count": "NULL",
                                    "user_id": "26",
                                    "book_id": "508"
                                },
                                {
                                    "title": "NULL",
                                    "average_rating": "NULL",
                                    "books_count": "NULL",
                                    "user_id": "26",
                                    "book_id": "1796"
                                },
                                {
                                    "title": "NULL",
                                    "average_rating": "NULL",
                                    "books_count": "NULL",
                                    "user_id": "26",
                                    "book_id": "2257"
                                },
                                {
                                    "title": "NULL",
                                    "average_rating": "NULL",
                                    "books_count": "NULL",
                                    "user_id": "26",
                                    "book_id": "2314"
                                },
                                {
                                    "title": "NULL",
                                    "average_rating": "NULL",
                                    "books_count": "NULL",
                                    "user_id": "26",
                                    "book_id": "2357"
                                },
                                {
                                    "title": "NULL",
                                    "average_rating": "NULL",
                                    "books_count": "NULL",
                                    "user_id": "26",
                                    "book_id": "2738"
                                },
                                {
                                    "title": "NULL",
                                    "average_rating": "NULL",
                                    "books_count": "NULL",
                                    "user_id": "26",
                                    "book_id": "2810"
                                },
                                {
                                    "title": "NULL",
                                    "average_rating": "NULL",
                                    "books_count": "NULL",
                                    "user_id": "26",
                                    "book_id": "3207"
                                },
                                {
                                    "title": "The Thorn Birds",
                                    "average_rating": "4.22",
                                    "books_count": "201",
                                    "user_id": "26",
                                    "book_id": "3412"
                                },
                                {
                                    "title": "The Complete Sherlock Holmes, Vol 2",
                                    "average_rating": "4.46",
                                    "books_count": "117",
                                    "user_id": "26",
                                    "book_id": "3586"
                                },
                                {
                                    "title": "The Dark Tower (The Dark Tower, #7)",
                                    "average_rating": "4.27",
                                    "books_count": "105",
                                    "user_id": "26",
                                    "book_id": "5091"
                                },
                                {
                                    "title": "NULL",
                                    "average_rating": "NULL",
                                    "books_count": "NULL",
                                    "user_id": "26",
                                    "book_id": "5550"
                                },
                                {
                                    "title": "NULL",
                                    "average_rating": "NULL",
                                    "books_count": "NULL",
                                    "user_id": "26",
                                    "book_id": "6877"
                                },
                                {
                                    "title": "NULL",
                                    "average_rating": "NULL",
                                    "books_count": "NULL",
                                    "user_id": "26",
                                    "book_id": "7970"
                                },
                                {
                                    "title": "NULL",
                                    "average_rating": "NULL",
                                    "books_count": "NULL",
                                    "user_id": "28",
                                    "book_id": "265"
                                },
                                {
                                    "title": "NULL",
                                    "average_rating": "NULL",
                                    "books_count": "NULL",
                                    "user_id": "28",
                                    "book_id": "587"
                                },
                                {
                                    "title": "NULL",
                                    "average_rating": "NULL",
                                    "books_count": "NULL",
                                    "user_id": "28",
                                    "book_id": "3543"
                                },
                                {
                                    "title": "NULL",
                                    "average_rating": "NULL",
                                    "books_count": "NULL",
                                    "user_id": "28",
                                    "book_id": "5215"
                                },
                                {
                                    "title": "NULL",
                                    "average_rating": "NULL",
                                    "books_count": "NULL",
                                    "user_id": "28",
                                    "book_id": "7496"
                                },
                                {
                                    "title": "NULL",
                                    "average_rating": "NULL",
                                    "books_count": "NULL",
                                    "user_id": "28",
                                    "book_id": "8654"
                                },
                                {
                                    "title": "NULL",
                                    "average_rating": "NULL",
                                    "books_count": "NULL",
                                    "user_id": "29",
                                    "book_id": "31"
                                },
                                {
                                    "title": "NULL",
                                    "average_rating": "NULL",
                                    "books_count": "NULL",
                                    "user_id": "29",
                                    "book_id": "32"
                                },
                                {
                                    "title": "The Lord of the Rings: Weapons and Warfare",
                                    "average_rating": "4.53",
                                    "books_count": "12",
                                    "user_id": "29",
                                    "book_id": "36"
                                },
                                {
                                    "title": "NULL",
                                    "average_rating": "NULL",
                                    "books_count": "NULL",
                                    "user_id": "29",
                                    "book_id": "45"
                                },
                                {
                                    "title": "NULL",
                                    "average_rating": "NULL",
                                    "books_count": "NULL",
                                    "user_id": "29",
                                    "book_id": "65"
                                },
                                {
                                    "title": "NULL",
                                    "average_rating": "NULL",
                                    "books_count": "NULL",
                                    "user_id": "29",
                                    "book_id": "87"
                                },
                                {
                                    "title": "NULL",
                                    "average_rating": "NULL",
                                    "books_count": "NULL",
                                    "user_id": "29",
                                    "book_id": "115"
                                },
                                {
                                    "title": "NULL",
                                    "average_rating": "NULL",
                                    "books_count": "NULL",
                                    "user_id": "29",
                                    "book_id": "121"
                                },
                                {
                                    "title": "NULL",
                                    "average_rating": "NULL",
                                    "books_count": "NULL",
                                    "user_id": "29",
                                    "book_id": "131"
                                },
                                {
                                    "title": "NULL",
                                    "average_rating": "NULL",
                                    "books_count": "NULL",
                                    "user_id": "29",
                                    "book_id": "178"
                                },
                                {
                                    "title": "NULL",
                                    "average_rating": "NULL",
                                    "books_count": "NULL",
                                    "user_id": "29",
                                    "book_id": "256"
                                },
                                {
                                    "title": "NULL",
                                    "average_rating": "NULL",
                                    "books_count": "NULL",
                                    "user_id": "29",
                                    "book_id": "323"
                                },
                                {
                                    "title": "Slouching Towards Bethlehem",
                                    "average_rating": "4.24",
                                    "books_count": "34",
                                    "user_id": "29",
                                    "book_id": "424"
                                },
                                {
                                    "title": "NULL",
                                    "average_rating": "NULL",
                                    "books_count": "NULL",
                                    "user_id": "29",
                                    "book_id": "467"
                                },
                                {
                                    "title": "NULL",
                                    "average_rating": "NULL",
                                    "books_count": "NULL",
                                    "user_id": "29",
                                    "book_id": "550"
                                },
                                {
                                    "title": "NULL",
                                    "average_rating": "NULL",
                                    "books_count": "NULL",
                                    "user_id": "29",
                                    "book_id": "618"
                                },
                                {
                                    "title": "Atlas Shrugged",
                                    "average_rating": "3.68",
                                    "books_count": "147",
                                    "user_id": "29",
                                    "book_id": "662"
                                },
                                {
                                    "title": "NULL",
                                    "average_rating": "NULL",
                                    "books_count": "NULL",
                                    "user_id": "29",
                                    "book_id": "709"
                                },
                                {
                                    "title": "NULL",
                                    "average_rating": "NULL",
                                    "books_count": "NULL",
                                    "user_id": "29",
                                    "book_id": "730"
                                },
                                {
                                    "title": "NULL",
                                    "average_rating": "NULL",
                                    "books_count": "NULL",
                                    "user_id": "29",
                                    "book_id": "771"
                                },
                                {
                                    "title": "NULL",
                                    "average_rating": "NULL",
                                    "books_count": "NULL",
                                    "user_id": "29",
                                    "book_id": "809"
                                },
                                {
                                    "title": "NULL",
                                    "average_rating": "NULL",
                                    "books_count": "NULL",
                                    "user_id": "29",
                                    "book_id": "934"
                                },
                                {
                                    "title": "NULL",
                                    "average_rating": "NULL",
                                    "books_count": "NULL",
                                    "user_id": "29",
                                    "book_id": "1084"
                                },
                                {
                                    "title": "NULL",
                                    "average_rating": "NULL",
                                    "books_count": "NULL",
                                    "user_id": "29",
                                    "book_id": "1364"
                                },
                                {
                                    "title": "NULL",
                                    "average_rating": "NULL",
                                    "books_count": "NULL",
                                    "user_id": "29",
                                    "book_id": "1642"
                                },
                                {
                                    "title": "NULL",
                                    "average_rating": "NULL",
                                    "books_count": "NULL",
                                    "user_id": "29",
                                    "book_id": "1695"
                                },
                                {
                                    "title": "NULL",
                                    "average_rating": "NULL",
                                    "books_count": "NULL",
                                    "user_id": "29",
                                    "book_id": "2259"
                                },
                                {
                                    "title": "NULL",
                                    "average_rating": "NULL",
                                    "books_count": "NULL",
                                    "user_id": "29",
                                    "book_id": "2284"
                                },
                                {
                                    "title": "NULL",
                                    "average_rating": "NULL",
                                    "books_count": "NULL",
                                    "user_id": "29",
                                    "book_id": "2304"
                                },
                                {
                                    "title": "NULL",
                                    "average_rating": "NULL",
                                    "books_count": "NULL",
                                    "user_id": "29",
                                    "book_id": "2967"
                                },
                                {
                                    "title": "NULL",
                                    "average_rating": "NULL",
                                    "books_count": "NULL",
                                    "user_id": "29",
                                    "book_id": "3508"
                                },
                                {
                                    "title": "NULL",
                                    "average_rating": "NULL",
                                    "books_count": "NULL",
                                    "user_id": "29",
                                    "book_id": "4359"
                                },
                                {
                                    "title": "NULL",
                                    "average_rating": "NULL",
                                    "books_count": "NULL",
                                    "user_id": "29",
                                    "book_id": "4394"
                                },
                                {
                                    "title": "NULL",
                                    "average_rating": "NULL",
                                    "books_count": "NULL",
                                    "user_id": "29",
                                    "book_id": "4475"
                                },
                                {
                                    "title": "NULL",
                                    "average_rating": "NULL",
                                    "books_count": "NULL",
                                    "user_id": "29",
                                    "book_id": "4629"
                                },
                                {
                                    "title": "NULL",
                                    "average_rating": "NULL",
                                    "books_count": "NULL",
                                    "user_id": "29",
                                    "book_id": "5090"
                                },
                                {
                                    "title": "NULL",
                                    "average_rating": "NULL",
                                    "books_count": "NULL",
                                    "user_id": "29",
                                    "book_id": "5596"
                                },
                                {
                                    "title": "NULL",
                                    "average_rating": "NULL",
                                    "books_count": "NULL",
                                    "user_id": "29",
                                    "book_id": "5851"
                                },
                                {
                                    "title": "NULL",
                                    "average_rating": "NULL",
                                    "books_count": "NULL",
                                    "user_id": "29",
                                    "book_id": "6104"
                                },
                                {
                                    "title": "NULL",
                                    "average_rating": "NULL",
                                    "books_count": "NULL",
                                    "user_id": "30",
                                    "book_id": "47"
                                },
                                {
                                    "title": "The Known World",
                                    "average_rating": "3.82",
                                    "books_count": "42",
                                    "user_id": "30",
                                    "book_id": "67"
                                },
                                {
                                    "title": "NULL",
                                    "average_rating": "NULL",
                                    "books_count": "NULL",
                                    "user_id": "30",
                                    "book_id": "82"
                                },
                                {
                                    "title": "NULL",
                                    "average_rating": "NULL",
                                    "books_count": "NULL",
                                    "user_id": "30",
                                    "book_id": "121"
                                },
                                {
                                    "title": "NULL",
                                    "average_rating": "NULL",
                                    "books_count": "NULL",
                                    "user_id": "30",
                                    "book_id": "177"
                                },
                                {
                                    "title": "Tropic of Cancer",
                                    "average_rating": "3.71",
                                    "books_count": "205",
                                    "user_id": "30",
                                    "book_id": "249"
                                },
                                {
                                    "title": "NULL",
                                    "average_rating": "NULL",
                                    "books_count": "NULL",
                                    "user_id": "30",
                                    "book_id": "297"
                                },
                                {
                                    "title": "NULL",
                                    "average_rating": "NULL",
                                    "books_count": "NULL",
                                    "user_id": "30",
                                    "book_id": "407"
                                },
                                {
                                    "title": "NULL",
                                    "average_rating": "NULL",
                                    "books_count": "NULL",
                                    "user_id": "30",
                                    "book_id": "426"
                                },
                                {
                                    "title": "NULL",
                                    "average_rating": "NULL",
                                    "books_count": "NULL",
                                    "user_id": "30",
                                    "book_id": "430"
                                },
                                {
                                    "title": "NULL",
                                    "average_rating": "NULL",
                                    "books_count": "NULL",
                                    "user_id": "30",
                                    "book_id": "442"
                                },
                                {
                                    "title": "NULL",
                                    "average_rating": "NULL",
                                    "books_count": "NULL",
                                    "user_id": "30",
                                    "book_id": "516"
                                },
                                {
                                    "title": "NULL",
                                    "average_rating": "NULL",
                                    "books_count": "NULL",
                                    "user_id": "30",
                                    "book_id": "658"
                                },
                                {
                                    "title": "NULL",
                                    "average_rating": "NULL",
                                    "books_count": "NULL",
                                    "user_id": "30",
                                    "book_id": "895"
                                },
                                {
                                    "title": "NULL",
                                    "average_rating": "NULL",
                                    "books_count": "NULL",
                                    "user_id": "30",
                                    "book_id": "1039"
                                },
                                {
                                    "title": "NULL",
                                    "average_rating": "NULL",
                                    "books_count": "NULL",
                                    "user_id": "30",
                                    "book_id": "1094"
                                },
                                {
                                    "title": "The Odyssey",
                                    "average_rating": "3.73",
                                    "books_count": "1703",
                                    "user_id": "30",
                                    "book_id": "1381"
                                },
                                {
                                    "title": "NULL",
                                    "average_rating": "NULL",
                                    "books_count": "NULL",
                                    "user_id": "30",
                                    "book_id": "2117"
                                },
                                {
                                    "title": "NULL",
                                    "average_rating": "NULL",
                                    "books_count": "NULL",
                                    "user_id": "30",
                                    "book_id": "2426"
                                },
                                {
                                    "title": "NULL",
                                    "average_rating": "NULL",
                                    "books_count": "NULL",
                                    "user_id": "30",
                                    "book_id": "3444"
                                },
                                {
                                    "title": "The Pilgrimage",
                                    "average_rating": "3.64",
                                    "books_count": "171",
                                    "user_id": "30",
                                    "book_id": "4004"
                                },
                                {
                                    "title": "NULL",
                                    "average_rating": "NULL",
                                    "books_count": "NULL",
                                    "user_id": "30",
                                    "book_id": "4202"
                                },
                                {
                                    "title": "NULL",
                                    "average_rating": "NULL",
                                    "books_count": "NULL",
                                    "user_id": "30",
                                    "book_id": "4509"
                                },
                                {
                                    "title": "NULL",
                                    "average_rating": "NULL",
                                    "books_count": "NULL",
                                    "user_id": "30",
                                    "book_id": "5880"
                                },
                                {
                                    "title": "The Hobbit",
                                    "average_rating": "4.25",
                                    "books_count": "969",
                                    "user_id": "30",
                                    "book_id": "5907"
                                },
                                {
                                    "title": "NULL",
                                    "average_rating": "NULL",
                                    "books_count": "NULL",
                                    "user_id": "30",
                                    "book_id": "6828"
                                },
                                {
                                    "title": "NULL",
                                    "average_rating": "NULL",
                                    "books_count": "NULL",
                                    "user_id": "30",
                                    "book_id": "7563"
                                },
                                {
                                    "title": "NULL",
                                    "average_rating": "NULL",
                                    "books_count": "NULL",
                                    "user_id": "30",
                                    "book_id": "8737"
                                },
                                {
                                    "title": "NULL",
                                    "average_rating": "NULL",
                                    "books_count": "NULL",
                                    "user_id": "31",
                                    "book_id": "94"
                                },
                                {
                                    "title": "NULL",
                                    "average_rating": "NULL",
                                    "books_count": "NULL",
                                    "user_id": "31",
                                    "book_id": "584"
                                }
                            ]
                        },
                        "text/html": [
                            "<table>",
                            "<tr><th>title</th><th>average_rating</th><th>books_count</th><th>user_id</th><th>book_id</th></tr>",
                            "<tr><td>Children of Dune (Dune Chronicles #3)</td><td>3.9</td><td>116</td><td>1</td><td>112</td></tr>",
                            "<tr><td>NULL</td><td>NULL</td><td>NULL</td><td>1</td><td>235</td></tr>",
                            "<tr><td>NULL</td><td>NULL</td><td>NULL</td><td>1</td><td>533</td></tr>",
                            "<tr><td>NULL</td><td>NULL</td><td>NULL</td><td>1</td><td>1198</td></tr>",
                            "<tr><td>NULL</td><td>NULL</td><td>NULL</td><td>1</td><td>1874</td></tr>",
                            "<tr><td>NULL</td><td>NULL</td><td>NULL</td><td>1</td><td>2058</td></tr>",
                            "<tr><td>NULL</td><td>NULL</td><td>NULL</td><td>1</td><td>3334</td></tr>",
                            "<tr><td>NULL</td><td>NULL</td><td>NULL</td><td>2</td><td>4</td></tr>",
                            "<tr><td>NULL</td><td>NULL</td><td>NULL</td><td>2</td><td>11</td></tr>",
                            "<tr><td>The Ultimate Hitchhiker's Guide to the Galaxy</td><td>4.37</td><td>32</td><td>2</td><td>13</td></tr>",
                            "<tr><td>NULL</td><td>NULL</td><td>NULL</td><td>2</td><td>16</td></tr>",
                            "<tr><td>NULL</td><td>NULL</td><td>NULL</td><td>2</td><td>92</td></tr>",
                            "<tr><td>Dune Messiah (Dune Chronicles #2)</td><td>3.86</td><td>140</td><td>2</td><td>106</td></tr>",
                            "<tr><td>NULL</td><td>NULL</td><td>NULL</td><td>2</td><td>113</td></tr>",
                            "<tr><td>NULL</td><td>NULL</td><td>NULL</td><td>2</td><td>233</td></tr>",
                            "<tr><td>NULL</td><td>NULL</td><td>NULL</td><td>2</td><td>247</td></tr>",
                            "<tr><td>NULL</td><td>NULL</td><td>NULL</td><td>2</td><td>380</td></tr>",
                            "<tr><td>NULL</td><td>NULL</td><td>NULL</td><td>2</td><td>408</td></tr>",
                            "<tr><td>NULL</td><td>NULL</td><td>NULL</td><td>2</td><td>439</td></tr>",
                            "<tr><td>NULL</td><td>NULL</td><td>NULL</td><td>2</td><td>479</td></tr>",
                            "<tr><td>NULL</td><td>NULL</td><td>NULL</td><td>2</td><td>516</td></tr>",
                            "<tr><td>NULL</td><td>NULL</td><td>NULL</td><td>2</td><td>619</td></tr>",
                            "<tr><td>NULL</td><td>NULL</td><td>NULL</td><td>2</td><td>1069</td></tr>",
                            "<tr><td>The Iliad</td><td>3.83</td><td>1726</td><td>2</td><td>1371</td></tr>",
                            "<tr><td>NULL</td><td>NULL</td><td>NULL</td><td>2</td><td>1384</td></tr>",
                            "<tr><td>NULL</td><td>NULL</td><td>NULL</td><td>2</td><td>1597</td></tr>",
                            "<tr><td>NULL</td><td>NULL</td><td>NULL</td><td>2</td><td>1926</td></tr>",
                            "<tr><td>NULL</td><td>NULL</td><td>NULL</td><td>2</td><td>1967</td></tr>",
                            "<tr><td>NULL</td><td>NULL</td><td>NULL</td><td>2</td><td>1969</td></tr>",
                            "<tr><td>NULL</td><td>NULL</td><td>NULL</td><td>2</td><td>2220</td></tr>",
                            "<tr><td>NULL</td><td>NULL</td><td>NULL</td><td>2</td><td>2388</td></tr>",
                            "<tr><td>NULL</td><td>NULL</td><td>NULL</td><td>2</td><td>3222</td></tr>",
                            "<tr><td>NULL</td><td>NULL</td><td>NULL</td><td>2</td><td>3227</td></tr>",
                            "<tr><td>NULL</td><td>NULL</td><td>NULL</td><td>2</td><td>3733</td></tr>",
                            "<tr><td>NULL</td><td>NULL</td><td>NULL</td><td>2</td><td>5418</td></tr>",
                            "<tr><td>NULL</td><td>NULL</td><td>NULL</td><td>2</td><td>6937</td></tr>",
                            "<tr><td>NULL</td><td>NULL</td><td>NULL</td><td>2</td><td>7146</td></tr>",
                            "<tr><td>NULL</td><td>NULL</td><td>NULL</td><td>2</td><td>7873</td></tr>",
                            "<tr><td>NULL</td><td>NULL</td><td>NULL</td><td>2</td><td>8417</td></tr>",
                            "<tr><td>Harry Potter Collection (Harry Potter, #1-6)</td><td>4.73</td><td>6</td><td>3</td><td>10</td></tr>",
                            "<tr><td>NULL</td><td>NULL</td><td>NULL</td><td>3</td><td>66</td></tr>",
                            "<tr><td>NULL</td><td>NULL</td><td>NULL</td><td>3</td><td>233</td></tr>",
                            "<tr><td>NULL</td><td>NULL</td><td>NULL</td><td>3</td><td>726</td></tr>",
                            "<tr><td>NULL</td><td>NULL</td><td>NULL</td><td>3</td><td>932</td></tr>",
                            "<tr><td>NULL</td><td>NULL</td><td>NULL</td><td>3</td><td>1146</td></tr>",
                            "<tr><td>NULL</td><td>NULL</td><td>NULL</td><td>3</td><td>2439</td></tr>",
                            "<tr><td>NULL</td><td>NULL</td><td>NULL</td><td>3</td><td>3566</td></tr>",
                            "<tr><td>NULL</td><td>NULL</td><td>NULL</td><td>3</td><td>4582</td></tr>",
                            "<tr><td>NULL</td><td>NULL</td><td>NULL</td><td>3</td><td>5448</td></tr>",
                            "<tr><td>NULL</td><td>NULL</td><td>NULL</td><td>3</td><td>5765</td></tr>",
                            "<tr><td>NULL</td><td>NULL</td><td>NULL</td><td>3</td><td>6274</td></tr>",
                            "<tr><td>NULL</td><td>NULL</td><td>NULL</td><td>3</td><td>8403</td></tr>",
                            "<tr><td>NULL</td><td>NULL</td><td>NULL</td><td>5</td><td>31</td></tr>",
                            "<tr><td>The Virtue of Selfishness: A New Concept of Egoism</td><td>3.47</td><td>53</td><td>5</td><td>665</td></tr>",
                            "<tr><td>NULL</td><td>NULL</td><td>NULL</td><td>5</td><td>3074</td></tr>",
                            "<tr><td>Sherlock Holmes: The Complete Novels and Stories, Volume I</td><td>4.45</td><td>13</td><td>5</td><td>3581</td></tr>",
                            "<tr><td>NULL</td><td>NULL</td><td>NULL</td><td>6</td><td>64</td></tr>",
                            "<tr><td>NULL</td><td>NULL</td><td>NULL</td><td>6</td><td>459</td></tr>",
                            "<tr><td>NULL</td><td>NULL</td><td>NULL</td><td>6</td><td>619</td></tr>",
                            "<tr><td>NULL</td><td>NULL</td><td>NULL</td><td>6</td><td>649</td></tr>",
                            "<tr><td>NULL</td><td>NULL</td><td>NULL</td><td>6</td><td>687</td></tr>",
                            "<tr><td>NULL</td><td>NULL</td><td>NULL</td><td>6</td><td>874</td></tr>",
                            "<tr><td>The War of Art: Break Through the Blocks &amp; Win Your Inner Creative Battles</td><td>4.07</td><td>29</td><td>6</td><td>1319</td></tr>",
                            "<tr><td>NULL</td><td>NULL</td><td>NULL</td><td>6</td><td>1912</td></tr>",
                            "<tr><td>NULL</td><td>NULL</td><td>NULL</td><td>6</td><td>5269</td></tr>",
                            "<tr><td>NULL</td><td>NULL</td><td>NULL</td><td>6</td><td>5537</td></tr>",
                            "<tr><td>NULL</td><td>NULL</td><td>NULL</td><td>6</td><td>5820</td></tr>",
                            "<tr><td>NULL</td><td>NULL</td><td>NULL</td><td>6</td><td>6220</td></tr>",
                            "<tr><td>NULL</td><td>NULL</td><td>NULL</td><td>6</td><td>7480</td></tr>",
                            "<tr><td>Harry Potter Collection (Harry Potter, #1-6)</td><td>4.73</td><td>6</td><td>7</td><td>10</td></tr>",
                            "<tr><td>NULL</td><td>NULL</td><td>NULL</td><td>7</td><td>215</td></tr>",
                            "<tr><td>NULL</td><td>NULL</td><td>NULL</td><td>7</td><td>225</td></tr>",
                            "<tr><td>NULL</td><td>NULL</td><td>NULL</td><td>7</td><td>233</td></tr>",
                            "<tr><td>NULL</td><td>NULL</td><td>NULL</td><td>7</td><td>1322</td></tr>",
                            "<tr><td>NULL</td><td>NULL</td><td>NULL</td><td>7</td><td>3552</td></tr>",
                            "<tr><td>NULL</td><td>NULL</td><td>NULL</td><td>7</td><td>3720</td></tr>",
                            "<tr><td>NULL</td><td>NULL</td><td>NULL</td><td>7</td><td>4468</td></tr>",
                            "<tr><td>NULL</td><td>NULL</td><td>NULL</td><td>8</td><td>19</td></tr>",
                            "<tr><td>NULL</td><td>NULL</td><td>NULL</td><td>8</td><td>498</td></tr>",
                            "<tr><td>NULL</td><td>NULL</td><td>NULL</td><td>8</td><td>1357</td></tr>",
                            "<tr><td>NULL</td><td>NULL</td><td>NULL</td><td>8</td><td>2177</td></tr>",
                            "<tr><td>NULL</td><td>NULL</td><td>NULL</td><td>8</td><td>3930</td></tr>",
                            "<tr><td>The Pilgrimage</td><td>3.64</td><td>171</td><td>8</td><td>4004</td></tr>",
                            "<tr><td>NULL</td><td>NULL</td><td>NULL</td><td>8</td><td>8792</td></tr>",
                            "<tr><td>NULL</td><td>NULL</td><td>NULL</td><td>8</td><td>9304</td></tr>",
                            "<tr><td>Harry Potter Boxed Set, Books 1-5 (Harry Potter, #1-5)</td><td>4.77</td><td>11</td><td>9</td><td>8</td></tr>",
                            "<tr><td>Children of Dune (Dune Chronicles #3)</td><td>3.9</td><td>116</td><td>9</td><td>112</td></tr>",
                            "<tr><td>NULL</td><td>NULL</td><td>NULL</td><td>9</td><td>139</td></tr>",
                            "<tr><td>NULL</td><td>NULL</td><td>NULL</td><td>9</td><td>230</td></tr>",
                            "<tr><td>NULL</td><td>NULL</td><td>NULL</td><td>9</td><td>233</td></tr>",
                            "<tr><td>NULL</td><td>NULL</td><td>NULL</td><td>9</td><td>473</td></tr>",
                            "<tr><td>NULL</td><td>NULL</td><td>NULL</td><td>9</td><td>638</td></tr>",
                            "<tr><td>NULL</td><td>NULL</td><td>NULL</td><td>9</td><td>653</td></tr>",
                            "<tr><td>NULL</td><td>NULL</td><td>NULL</td><td>9</td><td>672</td></tr>",
                            "<tr><td>NULL</td><td>NULL</td><td>NULL</td><td>9</td><td>701</td></tr>",
                            "<tr><td>NULL</td><td>NULL</td><td>NULL</td><td>9</td><td>736</td></tr>",
                            "<tr><td>NULL</td><td>NULL</td><td>NULL</td><td>9</td><td>883</td></tr>",
                            "<tr><td>NULL</td><td>NULL</td><td>NULL</td><td>9</td><td>895</td></tr>",
                            "<tr><td>NULL</td><td>NULL</td><td>NULL</td><td>9</td><td>1467</td></tr>",
                            "<tr><td>NULL</td><td>NULL</td><td>NULL</td><td>9</td><td>1582</td></tr>",
                            "<tr><td>NULL</td><td>NULL</td><td>NULL</td><td>9</td><td>1873</td></tr>",
                            "<tr><td>NULL</td><td>NULL</td><td>NULL</td><td>9</td><td>2516</td></tr>",
                            "<tr><td>NULL</td><td>NULL</td><td>NULL</td><td>9</td><td>2630</td></tr>",
                            "<tr><td>NULL</td><td>NULL</td><td>NULL</td><td>9</td><td>3210</td></tr>",
                            "<tr><td>Icy Sparks</td><td>3.68</td><td>27</td><td>9</td><td>3476</td></tr>",
                            "<tr><td>NULL</td><td>NULL</td><td>NULL</td><td>9</td><td>3560</td></tr>",
                            "<tr><td>NULL</td><td>NULL</td><td>NULL</td><td>9</td><td>3650</td></tr>",
                            "<tr><td>NULL</td><td>NULL</td><td>NULL</td><td>9</td><td>5286</td></tr>",
                            "<tr><td>NULL</td><td>NULL</td><td>NULL</td><td>9</td><td>6636</td></tr>",
                            "<tr><td>Harry Potter and the Goblet of Fire (Harry Potter, #4)</td><td>4.53</td><td>332</td><td>10</td><td>6</td></tr>",
                            "<tr><td>NULL</td><td>NULL</td><td>NULL</td><td>10</td><td>385</td></tr>",
                            "<tr><td>Atlas Shrugged</td><td>3.68</td><td>147</td><td>10</td><td>662</td></tr>",
                            "<tr><td>NULL</td><td>NULL</td><td>NULL</td><td>10</td><td>896</td></tr>",
                            "<tr><td>NULL</td><td>NULL</td><td>NULL</td><td>10</td><td>1076</td></tr>",
                            "<tr><td>NULL</td><td>NULL</td><td>NULL</td><td>10</td><td>1082</td></tr>",
                            "<tr><td>NULL</td><td>NULL</td><td>NULL</td><td>10</td><td>1220</td></tr>",
                            "<tr><td>NULL</td><td>NULL</td><td>NULL</td><td>10</td><td>1281</td></tr>",
                            "<tr><td>NULL</td><td>NULL</td><td>NULL</td><td>10</td><td>1439</td></tr>",
                            "<tr><td>NULL</td><td>NULL</td><td>NULL</td><td>10</td><td>1851</td></tr>",
                            "<tr><td>NULL</td><td>NULL</td><td>NULL</td><td>10</td><td>1920</td></tr>",
                            "<tr><td>NULL</td><td>NULL</td><td>NULL</td><td>10</td><td>2441</td></tr>",
                            "<tr><td>NULL</td><td>NULL</td><td>NULL</td><td>10</td><td>2570</td></tr>",
                            "<tr><td>NULL</td><td>NULL</td><td>NULL</td><td>10</td><td>2616</td></tr>",
                            "<tr><td>NULL</td><td>NULL</td><td>NULL</td><td>10</td><td>3059</td></tr>",
                            "<tr><td>NULL</td><td>NULL</td><td>NULL</td><td>10</td><td>3545</td></tr>",
                            "<tr><td>NULL</td><td>NULL</td><td>NULL</td><td>10</td><td>3961</td></tr>",
                            "<tr><td>NULL</td><td>NULL</td><td>NULL</td><td>10</td><td>4369</td></tr>",
                            "<tr><td>NULL</td><td>NULL</td><td>NULL</td><td>10</td><td>4510</td></tr>",
                            "<tr><td>NULL</td><td>NULL</td><td>NULL</td><td>10</td><td>5104</td></tr>",
                            "<tr><td>NULL</td><td>NULL</td><td>NULL</td><td>10</td><td>5254</td></tr>",
                            "<tr><td>NULL</td><td>NULL</td><td>NULL</td><td>10</td><td>5556</td></tr>",
                            "<tr><td>NULL</td><td>NULL</td><td>NULL</td><td>10</td><td>6114</td></tr>",
                            "<tr><td>NULL</td><td>NULL</td><td>NULL</td><td>10</td><td>6917</td></tr>",
                            "<tr><td>NULL</td><td>NULL</td><td>NULL</td><td>10</td><td>7545</td></tr>",
                            "<tr><td>NULL</td><td>NULL</td><td>NULL</td><td>10</td><td>7842</td></tr>",
                            "<tr><td>NULL</td><td>NULL</td><td>NULL</td><td>11</td><td>3643</td></tr>",
                            "<tr><td>Harry Potter and the Half-Blood Prince (Harry Potter, #6)</td><td>4.54</td><td>275</td><td>12</td><td>1</td></tr>",
                            "<tr><td>NULL</td><td>NULL</td><td>NULL</td><td>12</td><td>124</td></tr>",
                            "<tr><td>NULL</td><td>NULL</td><td>NULL</td><td>12</td><td>1471</td></tr>",
                            "<tr><td>NULL</td><td>NULL</td><td>NULL</td><td>12</td><td>2893</td></tr>",
                            "<tr><td>NULL</td><td>NULL</td><td>NULL</td><td>13</td><td>81</td></tr>",
                            "<tr><td>NULL</td><td>NULL</td><td>NULL</td><td>13</td><td>277</td></tr>",
                            "<tr><td>NULL</td><td>NULL</td><td>NULL</td><td>13</td><td>318</td></tr>",
                            "<tr><td>NULL</td><td>NULL</td><td>NULL</td><td>13</td><td>430</td></tr>",
                            "<tr><td>NULL</td><td>NULL</td><td>NULL</td><td>13</td><td>437</td></tr>",
                            "<tr><td>NULL</td><td>NULL</td><td>NULL</td><td>13</td><td>551</td></tr>",
                            "<tr><td>NULL</td><td>NULL</td><td>NULL</td><td>13</td><td>560</td></tr>",
                            "<tr><td>NULL</td><td>NULL</td><td>NULL</td><td>13</td><td>610</td></tr>",
                            "<tr><td>NULL</td><td>NULL</td><td>NULL</td><td>13</td><td>678</td></tr>",
                            "<tr><td>NULL</td><td>NULL</td><td>NULL</td><td>13</td><td>979</td></tr>",
                            "<tr><td>NULL</td><td>NULL</td><td>NULL</td><td>13</td><td>1082</td></tr>",
                            "<tr><td>NULL</td><td>NULL</td><td>NULL</td><td>13</td><td>1464</td></tr>",
                            "<tr><td>NULL</td><td>NULL</td><td>NULL</td><td>13</td><td>1577</td></tr>",
                            "<tr><td>NULL</td><td>NULL</td><td>NULL</td><td>13</td><td>2018</td></tr>",
                            "<tr><td>NULL</td><td>NULL</td><td>NULL</td><td>13</td><td>2418</td></tr>",
                            "<tr><td>NULL</td><td>NULL</td><td>NULL</td><td>13</td><td>3257</td></tr>",
                            "<tr><td>NULL</td><td>NULL</td><td>NULL</td><td>13</td><td>4212</td></tr>",
                            "<tr><td>NULL</td><td>NULL</td><td>NULL</td><td>13</td><td>4635</td></tr>",
                            "<tr><td>NULL</td><td>NULL</td><td>NULL</td><td>13</td><td>4704</td></tr>",
                            "<tr><td>NULL</td><td>NULL</td><td>NULL</td><td>13</td><td>4734</td></tr>",
                            "<tr><td>NULL</td><td>NULL</td><td>NULL</td><td>13</td><td>4841</td></tr>",
                            "<tr><td>NULL</td><td>NULL</td><td>NULL</td><td>13</td><td>4848</td></tr>",
                            "<tr><td>NULL</td><td>NULL</td><td>NULL</td><td>13</td><td>4856</td></tr>",
                            "<tr><td>NULL</td><td>NULL</td><td>NULL</td><td>13</td><td>4928</td></tr>",
                            "<tr><td>NULL</td><td>NULL</td><td>NULL</td><td>13</td><td>6114</td></tr>",
                            "<tr><td>NULL</td><td>NULL</td><td>NULL</td><td>13</td><td>6793</td></tr>",
                            "<tr><td>NULL</td><td>NULL</td><td>NULL</td><td>13</td><td>6962</td></tr>",
                            "<tr><td>NULL</td><td>NULL</td><td>NULL</td><td>13</td><td>8717</td></tr>",
                            "<tr><td>NULL</td><td>NULL</td><td>NULL</td><td>14</td><td>493</td></tr>",
                            "<tr><td>NULL</td><td>NULL</td><td>NULL</td><td>14</td><td>1179</td></tr>",
                            "<tr><td>NULL</td><td>NULL</td><td>NULL</td><td>14</td><td>2693</td></tr>",
                            "<tr><td>Sherlock Holmes: The Complete Novels and Stories, Volume I</td><td>4.45</td><td>13</td><td>14</td><td>3581</td></tr>",
                            "<tr><td>NULL</td><td>NULL</td><td>NULL</td><td>14</td><td>3683</td></tr>",
                            "<tr><td>NULL</td><td>NULL</td><td>NULL</td><td>14</td><td>3953</td></tr>",
                            "<tr><td>NULL</td><td>NULL</td><td>NULL</td><td>14</td><td>4220</td></tr>",
                            "<tr><td>NULL</td><td>NULL</td><td>NULL</td><td>14</td><td>5076</td></tr>",
                            "<tr><td>NULL</td><td>NULL</td><td>NULL</td><td>14</td><td>5537</td></tr>",
                            "<tr><td>NULL</td><td>NULL</td><td>NULL</td><td>14</td><td>7777</td></tr>",
                            "<tr><td>NULL</td><td>NULL</td><td>NULL</td><td>15</td><td>191</td></tr>",
                            "<tr><td>The Lover</td><td>3.76</td><td>148</td><td>15</td><td>275</td></tr>",
                            "<tr><td>NULL</td><td>NULL</td><td>NULL</td><td>15</td><td>398</td></tr>",
                            "<tr><td>NULL</td><td>NULL</td><td>NULL</td><td>15</td><td>666</td></tr>",
                            "<tr><td>NULL</td><td>NULL</td><td>NULL</td><td>15</td><td>1491</td></tr>",
                            "<tr><td>NULL</td><td>NULL</td><td>NULL</td><td>15</td><td>5210</td></tr>",
                            "<tr><td>NULL</td><td>NULL</td><td>NULL</td><td>17</td><td>1344</td></tr>",
                            "<tr><td>The Good Soldier</td><td>3.72</td><td>362</td><td>20</td><td>7628</td></tr>",
                            "<tr><td>NULL</td><td>NULL</td><td>NULL</td><td>22</td><td>653</td></tr>",
                            "<tr><td>NULL</td><td>NULL</td><td>NULL</td><td>22</td><td>1403</td></tr>",
                            "<tr><td>NULL</td><td>NULL</td><td>NULL</td><td>22</td><td>1405</td></tr>",
                            "<tr><td>NULL</td><td>NULL</td><td>NULL</td><td>22</td><td>1645</td></tr>",
                            "<tr><td>NULL</td><td>NULL</td><td>NULL</td><td>22</td><td>2500</td></tr>",
                            "<tr><td>NULL</td><td>NULL</td><td>NULL</td><td>22</td><td>2691</td></tr>",
                            "<tr><td>NULL</td><td>NULL</td><td>NULL</td><td>22</td><td>4995</td></tr>",
                            "<tr><td>NULL</td><td>NULL</td><td>NULL</td><td>23</td><td>273</td></tr>",
                            "<tr><td>NULL</td><td>NULL</td><td>NULL</td><td>23</td><td>459</td></tr>",
                            "<tr><td>NULL</td><td>NULL</td><td>NULL</td><td>23</td><td>791</td></tr>",
                            "<tr><td>NULL</td><td>NULL</td><td>NULL</td><td>23</td><td>886</td></tr>",
                            "<tr><td>NULL</td><td>NULL</td><td>NULL</td><td>23</td><td>925</td></tr>",
                            "<tr><td>NULL</td><td>NULL</td><td>NULL</td><td>23</td><td>1198</td></tr>",
                            "<tr><td>NULL</td><td>NULL</td><td>NULL</td><td>23</td><td>1597</td></tr>",
                            "<tr><td>NULL</td><td>NULL</td><td>NULL</td><td>23</td><td>1688</td></tr>",
                            "<tr><td>NULL</td><td>NULL</td><td>NULL</td><td>23</td><td>2251</td></tr>",
                            "<tr><td>NULL</td><td>NULL</td><td>NULL</td><td>23</td><td>2350</td></tr>",
                            "<tr><td>NULL</td><td>NULL</td><td>NULL</td><td>23</td><td>2613</td></tr>",
                            "<tr><td>NULL</td><td>NULL</td><td>NULL</td><td>23</td><td>3312</td></tr>",
                            "<tr><td>NULL</td><td>NULL</td><td>NULL</td><td>23</td><td>3343</td></tr>",
                            "<tr><td>NULL</td><td>NULL</td><td>NULL</td><td>24</td><td>61</td></tr>",
                            "<tr><td>NULL</td><td>NULL</td><td>NULL</td><td>24</td><td>143</td></tr>",
                            "<tr><td>NULL</td><td>NULL</td><td>NULL</td><td>24</td><td>421</td></tr>",
                            "<tr><td>NULL</td><td>NULL</td><td>NULL</td><td>24</td><td>467</td></tr>",
                            "<tr><td>NULL</td><td>NULL</td><td>NULL</td><td>24</td><td>974</td></tr>",
                            "<tr><td>NULL</td><td>NULL</td><td>NULL</td><td>26</td><td>508</td></tr>",
                            "<tr><td>NULL</td><td>NULL</td><td>NULL</td><td>26</td><td>1796</td></tr>",
                            "<tr><td>NULL</td><td>NULL</td><td>NULL</td><td>26</td><td>2257</td></tr>",
                            "<tr><td>NULL</td><td>NULL</td><td>NULL</td><td>26</td><td>2314</td></tr>",
                            "<tr><td>NULL</td><td>NULL</td><td>NULL</td><td>26</td><td>2357</td></tr>",
                            "<tr><td>NULL</td><td>NULL</td><td>NULL</td><td>26</td><td>2738</td></tr>",
                            "<tr><td>NULL</td><td>NULL</td><td>NULL</td><td>26</td><td>2810</td></tr>",
                            "<tr><td>NULL</td><td>NULL</td><td>NULL</td><td>26</td><td>3207</td></tr>",
                            "<tr><td>The Thorn Birds</td><td>4.22</td><td>201</td><td>26</td><td>3412</td></tr>",
                            "<tr><td>The Complete Sherlock Holmes, Vol 2</td><td>4.46</td><td>117</td><td>26</td><td>3586</td></tr>",
                            "<tr><td>The Dark Tower (The Dark Tower, #7)</td><td>4.27</td><td>105</td><td>26</td><td>5091</td></tr>",
                            "<tr><td>NULL</td><td>NULL</td><td>NULL</td><td>26</td><td>5550</td></tr>",
                            "<tr><td>NULL</td><td>NULL</td><td>NULL</td><td>26</td><td>6877</td></tr>",
                            "<tr><td>NULL</td><td>NULL</td><td>NULL</td><td>26</td><td>7970</td></tr>",
                            "<tr><td>NULL</td><td>NULL</td><td>NULL</td><td>28</td><td>265</td></tr>",
                            "<tr><td>NULL</td><td>NULL</td><td>NULL</td><td>28</td><td>587</td></tr>",
                            "<tr><td>NULL</td><td>NULL</td><td>NULL</td><td>28</td><td>3543</td></tr>",
                            "<tr><td>NULL</td><td>NULL</td><td>NULL</td><td>28</td><td>5215</td></tr>",
                            "<tr><td>NULL</td><td>NULL</td><td>NULL</td><td>28</td><td>7496</td></tr>",
                            "<tr><td>NULL</td><td>NULL</td><td>NULL</td><td>28</td><td>8654</td></tr>",
                            "<tr><td>NULL</td><td>NULL</td><td>NULL</td><td>29</td><td>31</td></tr>",
                            "<tr><td>NULL</td><td>NULL</td><td>NULL</td><td>29</td><td>32</td></tr>",
                            "<tr><td>The Lord of the Rings: Weapons and Warfare</td><td>4.53</td><td>12</td><td>29</td><td>36</td></tr>",
                            "<tr><td>NULL</td><td>NULL</td><td>NULL</td><td>29</td><td>45</td></tr>",
                            "<tr><td>NULL</td><td>NULL</td><td>NULL</td><td>29</td><td>65</td></tr>",
                            "<tr><td>NULL</td><td>NULL</td><td>NULL</td><td>29</td><td>87</td></tr>",
                            "<tr><td>NULL</td><td>NULL</td><td>NULL</td><td>29</td><td>115</td></tr>",
                            "<tr><td>NULL</td><td>NULL</td><td>NULL</td><td>29</td><td>121</td></tr>",
                            "<tr><td>NULL</td><td>NULL</td><td>NULL</td><td>29</td><td>131</td></tr>",
                            "<tr><td>NULL</td><td>NULL</td><td>NULL</td><td>29</td><td>178</td></tr>",
                            "<tr><td>NULL</td><td>NULL</td><td>NULL</td><td>29</td><td>256</td></tr>",
                            "<tr><td>NULL</td><td>NULL</td><td>NULL</td><td>29</td><td>323</td></tr>",
                            "<tr><td>Slouching Towards Bethlehem</td><td>4.24</td><td>34</td><td>29</td><td>424</td></tr>",
                            "<tr><td>NULL</td><td>NULL</td><td>NULL</td><td>29</td><td>467</td></tr>",
                            "<tr><td>NULL</td><td>NULL</td><td>NULL</td><td>29</td><td>550</td></tr>",
                            "<tr><td>NULL</td><td>NULL</td><td>NULL</td><td>29</td><td>618</td></tr>",
                            "<tr><td>Atlas Shrugged</td><td>3.68</td><td>147</td><td>29</td><td>662</td></tr>",
                            "<tr><td>NULL</td><td>NULL</td><td>NULL</td><td>29</td><td>709</td></tr>",
                            "<tr><td>NULL</td><td>NULL</td><td>NULL</td><td>29</td><td>730</td></tr>",
                            "<tr><td>NULL</td><td>NULL</td><td>NULL</td><td>29</td><td>771</td></tr>",
                            "<tr><td>NULL</td><td>NULL</td><td>NULL</td><td>29</td><td>809</td></tr>",
                            "<tr><td>NULL</td><td>NULL</td><td>NULL</td><td>29</td><td>934</td></tr>",
                            "<tr><td>NULL</td><td>NULL</td><td>NULL</td><td>29</td><td>1084</td></tr>",
                            "<tr><td>NULL</td><td>NULL</td><td>NULL</td><td>29</td><td>1364</td></tr>",
                            "<tr><td>NULL</td><td>NULL</td><td>NULL</td><td>29</td><td>1642</td></tr>",
                            "<tr><td>NULL</td><td>NULL</td><td>NULL</td><td>29</td><td>1695</td></tr>",
                            "<tr><td>NULL</td><td>NULL</td><td>NULL</td><td>29</td><td>2259</td></tr>",
                            "<tr><td>NULL</td><td>NULL</td><td>NULL</td><td>29</td><td>2284</td></tr>",
                            "<tr><td>NULL</td><td>NULL</td><td>NULL</td><td>29</td><td>2304</td></tr>",
                            "<tr><td>NULL</td><td>NULL</td><td>NULL</td><td>29</td><td>2967</td></tr>",
                            "<tr><td>NULL</td><td>NULL</td><td>NULL</td><td>29</td><td>3508</td></tr>",
                            "<tr><td>NULL</td><td>NULL</td><td>NULL</td><td>29</td><td>4359</td></tr>",
                            "<tr><td>NULL</td><td>NULL</td><td>NULL</td><td>29</td><td>4394</td></tr>",
                            "<tr><td>NULL</td><td>NULL</td><td>NULL</td><td>29</td><td>4475</td></tr>",
                            "<tr><td>NULL</td><td>NULL</td><td>NULL</td><td>29</td><td>4629</td></tr>",
                            "<tr><td>NULL</td><td>NULL</td><td>NULL</td><td>29</td><td>5090</td></tr>",
                            "<tr><td>NULL</td><td>NULL</td><td>NULL</td><td>29</td><td>5596</td></tr>",
                            "<tr><td>NULL</td><td>NULL</td><td>NULL</td><td>29</td><td>5851</td></tr>",
                            "<tr><td>NULL</td><td>NULL</td><td>NULL</td><td>29</td><td>6104</td></tr>",
                            "<tr><td>NULL</td><td>NULL</td><td>NULL</td><td>30</td><td>47</td></tr>",
                            "<tr><td>The Known World</td><td>3.82</td><td>42</td><td>30</td><td>67</td></tr>",
                            "<tr><td>NULL</td><td>NULL</td><td>NULL</td><td>30</td><td>82</td></tr>",
                            "<tr><td>NULL</td><td>NULL</td><td>NULL</td><td>30</td><td>121</td></tr>",
                            "<tr><td>NULL</td><td>NULL</td><td>NULL</td><td>30</td><td>177</td></tr>",
                            "<tr><td>Tropic of Cancer</td><td>3.71</td><td>205</td><td>30</td><td>249</td></tr>",
                            "<tr><td>NULL</td><td>NULL</td><td>NULL</td><td>30</td><td>297</td></tr>",
                            "<tr><td>NULL</td><td>NULL</td><td>NULL</td><td>30</td><td>407</td></tr>",
                            "<tr><td>NULL</td><td>NULL</td><td>NULL</td><td>30</td><td>426</td></tr>",
                            "<tr><td>NULL</td><td>NULL</td><td>NULL</td><td>30</td><td>430</td></tr>",
                            "<tr><td>NULL</td><td>NULL</td><td>NULL</td><td>30</td><td>442</td></tr>",
                            "<tr><td>NULL</td><td>NULL</td><td>NULL</td><td>30</td><td>516</td></tr>",
                            "<tr><td>NULL</td><td>NULL</td><td>NULL</td><td>30</td><td>658</td></tr>",
                            "<tr><td>NULL</td><td>NULL</td><td>NULL</td><td>30</td><td>895</td></tr>",
                            "<tr><td>NULL</td><td>NULL</td><td>NULL</td><td>30</td><td>1039</td></tr>",
                            "<tr><td>NULL</td><td>NULL</td><td>NULL</td><td>30</td><td>1094</td></tr>",
                            "<tr><td>The Odyssey</td><td>3.73</td><td>1703</td><td>30</td><td>1381</td></tr>",
                            "<tr><td>NULL</td><td>NULL</td><td>NULL</td><td>30</td><td>2117</td></tr>",
                            "<tr><td>NULL</td><td>NULL</td><td>NULL</td><td>30</td><td>2426</td></tr>",
                            "<tr><td>NULL</td><td>NULL</td><td>NULL</td><td>30</td><td>3444</td></tr>",
                            "<tr><td>The Pilgrimage</td><td>3.64</td><td>171</td><td>30</td><td>4004</td></tr>",
                            "<tr><td>NULL</td><td>NULL</td><td>NULL</td><td>30</td><td>4202</td></tr>",
                            "<tr><td>NULL</td><td>NULL</td><td>NULL</td><td>30</td><td>4509</td></tr>",
                            "<tr><td>NULL</td><td>NULL</td><td>NULL</td><td>30</td><td>5880</td></tr>",
                            "<tr><td>The Hobbit</td><td>4.25</td><td>969</td><td>30</td><td>5907</td></tr>",
                            "<tr><td>NULL</td><td>NULL</td><td>NULL</td><td>30</td><td>6828</td></tr>",
                            "<tr><td>NULL</td><td>NULL</td><td>NULL</td><td>30</td><td>7563</td></tr>",
                            "<tr><td>NULL</td><td>NULL</td><td>NULL</td><td>30</td><td>8737</td></tr>",
                            "<tr><td>NULL</td><td>NULL</td><td>NULL</td><td>31</td><td>94</td></tr>",
                            "<tr><td>NULL</td><td>NULL</td><td>NULL</td><td>31</td><td>584</td></tr>",
                            "</table>"
                        ]
                    }
                }
            ],
            "execution_count": 2
        },
        {
            "cell_type": "markdown",
            "source": [
                "## **QUESTION 3:** Exploring FULL JOINS with the **books** and **to\\_read** tables\n",
                "\n",
                "You will need to uncomment the Query to answer the question.\n",
                "\n",
                "**Part A:**  Look at the table and explore how it was populated.  Try manipulating the query to better understand how this table works.  Try adding a WHERE clause, or ORDER BY a column on the **books** table.  Based on your exploration, can you think of when you might want a FULL join rather than a LEFT, RIGHT, or INNER?\n",
                "\n",
                "> Your Answer:"
            ],
            "metadata": {
                "azdata_cell_guid": "8f6b8f22-3e5a-4b87-a2f2-07279f1deb94"
            },
            "attachments": {}
        },
        {
            "cell_type": "code",
            "source": [
                "-- /*\n",
                "-- FULL JOIN\n",
                "SELECT TOP 30 b.title, b.average_rating, b.books_count,tr.user_id, tr.book_id\n",
                "FROM BooksDB.dbo.books AS b\n",
                "FULL JOIN BooksDB.dbo.to_read AS tr\n",
                "ON b.book_id = tr.book_id\n",
                "WHERE average_rating >3;\n",
                "-- */"
            ],
            "metadata": {
                "azdata_cell_guid": "7c2a3dff-ef55-4222-aef0-7c0ab4f942eb",
                "tags": [],
                "language": "sql"
            },
            "outputs": [
                {
                    "output_type": "display_data",
                    "data": {
                        "text/html": "(30 rows affected)"
                    },
                    "metadata": {}
                },
                {
                    "output_type": "display_data",
                    "data": {
                        "text/html": "Total execution time: 00:00:00.052"
                    },
                    "metadata": {}
                },
                {
                    "output_type": "execute_result",
                    "metadata": {},
                    "execution_count": 4,
                    "data": {
                        "application/vnd.dataresource+json": {
                            "schema": {
                                "fields": [
                                    {
                                        "name": "title"
                                    },
                                    {
                                        "name": "average_rating"
                                    },
                                    {
                                        "name": "books_count"
                                    },
                                    {
                                        "name": "user_id"
                                    },
                                    {
                                        "name": "book_id"
                                    }
                                ]
                            },
                            "data": [
                                {
                                    "title": "Children of Dune (Dune Chronicles #3)",
                                    "average_rating": "3.9",
                                    "books_count": "116",
                                    "user_id": "1",
                                    "book_id": "112"
                                },
                                {
                                    "title": "The Hitchhiker's Guide to the Galaxy (Hitchhiker's Guide to the Galaxy, #1)",
                                    "average_rating": "4.2",
                                    "books_count": "257",
                                    "user_id": "2",
                                    "book_id": "11"
                                },
                                {
                                    "title": "The Ultimate Hitchhiker's Guide to the Galaxy",
                                    "average_rating": "4.37",
                                    "books_count": "32",
                                    "user_id": "2",
                                    "book_id": "13"
                                },
                                {
                                    "title": "Dune Messiah (Dune Chronicles #2)",
                                    "average_rating": "3.86",
                                    "books_count": "140",
                                    "user_id": "2",
                                    "book_id": "106"
                                },
                                {
                                    "title": "The Iliad",
                                    "average_rating": "3.83",
                                    "books_count": "1726",
                                    "user_id": "2",
                                    "book_id": "1371"
                                },
                                {
                                    "title": "Harry Potter Collection (Harry Potter, #1-6)",
                                    "average_rating": "4.73",
                                    "books_count": "6",
                                    "user_id": "3",
                                    "book_id": "10"
                                },
                                {
                                    "title": "The Virtue of Selfishness: A New Concept of Egoism",
                                    "average_rating": "3.47",
                                    "books_count": "53",
                                    "user_id": "5",
                                    "book_id": "665"
                                },
                                {
                                    "title": "Sherlock Holmes: The Complete Novels and Stories, Volume I",
                                    "average_rating": "4.45",
                                    "books_count": "13",
                                    "user_id": "5",
                                    "book_id": "3581"
                                },
                                {
                                    "title": "The War of Art: Break Through the Blocks & Win Your Inner Creative Battles",
                                    "average_rating": "4.07",
                                    "books_count": "29",
                                    "user_id": "6",
                                    "book_id": "1319"
                                },
                                {
                                    "title": "Harry Potter Collection (Harry Potter, #1-6)",
                                    "average_rating": "4.73",
                                    "books_count": "6",
                                    "user_id": "7",
                                    "book_id": "10"
                                },
                                {
                                    "title": "The Pilgrimage",
                                    "average_rating": "3.64",
                                    "books_count": "171",
                                    "user_id": "8",
                                    "book_id": "4004"
                                },
                                {
                                    "title": "Harry Potter Boxed Set, Books 1-5 (Harry Potter, #1-5)",
                                    "average_rating": "4.77",
                                    "books_count": "11",
                                    "user_id": "9",
                                    "book_id": "8"
                                },
                                {
                                    "title": "Children of Dune (Dune Chronicles #3)",
                                    "average_rating": "3.9",
                                    "books_count": "116",
                                    "user_id": "9",
                                    "book_id": "112"
                                },
                                {
                                    "title": "Icy Sparks",
                                    "average_rating": "3.68",
                                    "books_count": "27",
                                    "user_id": "9",
                                    "book_id": "3476"
                                },
                                {
                                    "title": "Harry Potter and the Goblet of Fire (Harry Potter, #4)",
                                    "average_rating": "4.53",
                                    "books_count": "332",
                                    "user_id": "10",
                                    "book_id": "6"
                                },
                                {
                                    "title": "Atlas Shrugged",
                                    "average_rating": "3.68",
                                    "books_count": "147",
                                    "user_id": "10",
                                    "book_id": "662"
                                },
                                {
                                    "title": "Harry Potter and the Half-Blood Prince (Harry Potter, #6)",
                                    "average_rating": "4.54",
                                    "books_count": "275",
                                    "user_id": "12",
                                    "book_id": "1"
                                },
                                {
                                    "title": "Sherlock Holmes: The Complete Novels and Stories, Volume I",
                                    "average_rating": "4.45",
                                    "books_count": "13",
                                    "user_id": "14",
                                    "book_id": "3581"
                                },
                                {
                                    "title": "The Lover",
                                    "average_rating": "3.76",
                                    "books_count": "148",
                                    "user_id": "15",
                                    "book_id": "275"
                                },
                                {
                                    "title": "The Good Soldier",
                                    "average_rating": "3.72",
                                    "books_count": "362",
                                    "user_id": "20",
                                    "book_id": "7628"
                                },
                                {
                                    "title": "The Thorn Birds",
                                    "average_rating": "4.22",
                                    "books_count": "201",
                                    "user_id": "26",
                                    "book_id": "3412"
                                },
                                {
                                    "title": "The Complete Sherlock Holmes, Vol 2",
                                    "average_rating": "4.46",
                                    "books_count": "117",
                                    "user_id": "26",
                                    "book_id": "3586"
                                },
                                {
                                    "title": "The Dark Tower (The Dark Tower, #7)",
                                    "average_rating": "4.27",
                                    "books_count": "105",
                                    "user_id": "26",
                                    "book_id": "5091"
                                },
                                {
                                    "title": "The Lord of the Rings: Weapons and Warfare",
                                    "average_rating": "4.53",
                                    "books_count": "12",
                                    "user_id": "29",
                                    "book_id": "36"
                                },
                                {
                                    "title": "Slouching Towards Bethlehem",
                                    "average_rating": "4.24",
                                    "books_count": "34",
                                    "user_id": "29",
                                    "book_id": "424"
                                },
                                {
                                    "title": "Atlas Shrugged",
                                    "average_rating": "3.68",
                                    "books_count": "147",
                                    "user_id": "29",
                                    "book_id": "662"
                                },
                                {
                                    "title": "The Elegant Universe: Superstrings, Hidden Dimensions, and the Quest for the Ultimate Theory",
                                    "average_rating": "4.06",
                                    "books_count": "75",
                                    "user_id": "29",
                                    "book_id": "771"
                                },
                                {
                                    "title": "The Known World",
                                    "average_rating": "3.82",
                                    "books_count": "42",
                                    "user_id": "30",
                                    "book_id": "67"
                                },
                                {
                                    "title": "Tropic of Cancer",
                                    "average_rating": "3.71",
                                    "books_count": "205",
                                    "user_id": "30",
                                    "book_id": "249"
                                },
                                {
                                    "title": "The Odyssey",
                                    "average_rating": "3.73",
                                    "books_count": "1703",
                                    "user_id": "30",
                                    "book_id": "1381"
                                }
                            ]
                        },
                        "text/html": [
                            "<table>",
                            "<tr><th>title</th><th>average_rating</th><th>books_count</th><th>user_id</th><th>book_id</th></tr>",
                            "<tr><td>Children of Dune (Dune Chronicles #3)</td><td>3.9</td><td>116</td><td>1</td><td>112</td></tr>",
                            "<tr><td>The Hitchhiker's Guide to the Galaxy (Hitchhiker's Guide to the Galaxy, #1)</td><td>4.2</td><td>257</td><td>2</td><td>11</td></tr>",
                            "<tr><td>The Ultimate Hitchhiker's Guide to the Galaxy</td><td>4.37</td><td>32</td><td>2</td><td>13</td></tr>",
                            "<tr><td>Dune Messiah (Dune Chronicles #2)</td><td>3.86</td><td>140</td><td>2</td><td>106</td></tr>",
                            "<tr><td>The Iliad</td><td>3.83</td><td>1726</td><td>2</td><td>1371</td></tr>",
                            "<tr><td>Harry Potter Collection (Harry Potter, #1-6)</td><td>4.73</td><td>6</td><td>3</td><td>10</td></tr>",
                            "<tr><td>The Virtue of Selfishness: A New Concept of Egoism</td><td>3.47</td><td>53</td><td>5</td><td>665</td></tr>",
                            "<tr><td>Sherlock Holmes: The Complete Novels and Stories, Volume I</td><td>4.45</td><td>13</td><td>5</td><td>3581</td></tr>",
                            "<tr><td>The War of Art: Break Through the Blocks &amp; Win Your Inner Creative Battles</td><td>4.07</td><td>29</td><td>6</td><td>1319</td></tr>",
                            "<tr><td>Harry Potter Collection (Harry Potter, #1-6)</td><td>4.73</td><td>6</td><td>7</td><td>10</td></tr>",
                            "<tr><td>The Pilgrimage</td><td>3.64</td><td>171</td><td>8</td><td>4004</td></tr>",
                            "<tr><td>Harry Potter Boxed Set, Books 1-5 (Harry Potter, #1-5)</td><td>4.77</td><td>11</td><td>9</td><td>8</td></tr>",
                            "<tr><td>Children of Dune (Dune Chronicles #3)</td><td>3.9</td><td>116</td><td>9</td><td>112</td></tr>",
                            "<tr><td>Icy Sparks</td><td>3.68</td><td>27</td><td>9</td><td>3476</td></tr>",
                            "<tr><td>Harry Potter and the Goblet of Fire (Harry Potter, #4)</td><td>4.53</td><td>332</td><td>10</td><td>6</td></tr>",
                            "<tr><td>Atlas Shrugged</td><td>3.68</td><td>147</td><td>10</td><td>662</td></tr>",
                            "<tr><td>Harry Potter and the Half-Blood Prince (Harry Potter, #6)</td><td>4.54</td><td>275</td><td>12</td><td>1</td></tr>",
                            "<tr><td>Sherlock Holmes: The Complete Novels and Stories, Volume I</td><td>4.45</td><td>13</td><td>14</td><td>3581</td></tr>",
                            "<tr><td>The Lover</td><td>3.76</td><td>148</td><td>15</td><td>275</td></tr>",
                            "<tr><td>The Good Soldier</td><td>3.72</td><td>362</td><td>20</td><td>7628</td></tr>",
                            "<tr><td>The Thorn Birds</td><td>4.22</td><td>201</td><td>26</td><td>3412</td></tr>",
                            "<tr><td>The Complete Sherlock Holmes, Vol 2</td><td>4.46</td><td>117</td><td>26</td><td>3586</td></tr>",
                            "<tr><td>The Dark Tower (The Dark Tower, #7)</td><td>4.27</td><td>105</td><td>26</td><td>5091</td></tr>",
                            "<tr><td>The Lord of the Rings: Weapons and Warfare</td><td>4.53</td><td>12</td><td>29</td><td>36</td></tr>",
                            "<tr><td>Slouching Towards Bethlehem</td><td>4.24</td><td>34</td><td>29</td><td>424</td></tr>",
                            "<tr><td>Atlas Shrugged</td><td>3.68</td><td>147</td><td>29</td><td>662</td></tr>",
                            "<tr><td>The Elegant Universe: Superstrings, Hidden Dimensions, and the Quest for the Ultimate Theory</td><td>4.06</td><td>75</td><td>29</td><td>771</td></tr>",
                            "<tr><td>The Known World</td><td>3.82</td><td>42</td><td>30</td><td>67</td></tr>",
                            "<tr><td>Tropic of Cancer</td><td>3.71</td><td>205</td><td>30</td><td>249</td></tr>",
                            "<tr><td>The Odyssey</td><td>3.73</td><td>1703</td><td>30</td><td>1381</td></tr>",
                            "</table>"
                        ]
                    }
                }
            ],
            "execution_count": 4
        },
        {
            "cell_type": "markdown",
            "source": [
                "## **QUESTION 4:** Exploring INNER Joins with the **books** and **to\\_read** tables\n",
                "\n",
                "You will need to uncomment the Query to answer the question.\n",
                "\n",
                "**Part A:**  What does an inner join do?\n",
                "\n",
                "> <span style=\"background-color: rgba(127, 127, 127, 0.1); font-family: -apple-system, BlinkMacSystemFont, sans-serif;\">Your Answer: Joins two tables on a shared variable/column and leaves out rows that have missing data in either table</span>\n",
                "\n",
                "<span style=\"background-color: rgba(127, 127, 127, 0.1); font-family: -apple-system, BlinkMacSystemFont, sans-serif;\"><b>Part B:</b>&nbsp;Currently this table has an <b>'IS NOT NULL'</b> in the <b>WHERE</b> clause.&nbsp; Is this necessary for this table?&nbsp; Why or Why not?&nbsp;</span> \n",
                "\n",
                "> Your Answer: No, because an inner join already eliminates rows in which data is null\n",
                "\n",
                "**Part C:**  When using SQL, you are usually returning much larger tables so every line of code will add to the compilation and return time.  Rewrite this inner join query so that it contains no redundant code.   \n",
                "\n",
                "> Your Answer:  Update the query in the code box below."
            ],
            "metadata": {
                "azdata_cell_guid": "4dab11ce-7995-4444-92dd-4cb2c0bc02c8"
            },
            "attachments": {}
        },
        {
            "cell_type": "code",
            "source": [
                "-- /*\n",
                "-- INNER JOIN\n",
                "SELECT TOP 30 b.title, b.average_rating, b.books_count,tr.user_id, tr.book_id\n",
                "FROM BooksDB.dbo.books AS b\n",
                "INNER JOIN BooksDB.dbo.to_read AS tr\n",
                "ON b.book_id = tr.book_id\n",
                "ORDER BY tr.book_id;\n",
                "-- */"
            ],
            "metadata": {
                "azdata_cell_guid": "66d430ab-18aa-4a29-a32d-0585445e417c",
                "tags": [],
                "language": "sql"
            },
            "outputs": [
                {
                    "output_type": "display_data",
                    "data": {
                        "text/html": "(30 rows affected)"
                    },
                    "metadata": {}
                },
                {
                    "output_type": "display_data",
                    "data": {
                        "text/html": "Total execution time: 00:00:00.121"
                    },
                    "metadata": {}
                },
                {
                    "output_type": "execute_result",
                    "metadata": {},
                    "execution_count": 6,
                    "data": {
                        "application/vnd.dataresource+json": {
                            "schema": {
                                "fields": [
                                    {
                                        "name": "title"
                                    },
                                    {
                                        "name": "average_rating"
                                    },
                                    {
                                        "name": "books_count"
                                    },
                                    {
                                        "name": "user_id"
                                    },
                                    {
                                        "name": "book_id"
                                    }
                                ]
                            },
                            "data": [
                                {
                                    "title": "Harry Potter and the Half-Blood Prince (Harry Potter, #6)",
                                    "average_rating": "4.54",
                                    "books_count": "275",
                                    "user_id": "12",
                                    "book_id": "1"
                                },
                                {
                                    "title": "Harry Potter and the Half-Blood Prince (Harry Potter, #6)",
                                    "average_rating": "4.54",
                                    "books_count": "275",
                                    "user_id": "192",
                                    "book_id": "1"
                                },
                                {
                                    "title": "Harry Potter and the Half-Blood Prince (Harry Potter, #6)",
                                    "average_rating": "4.54",
                                    "books_count": "275",
                                    "user_id": "202",
                                    "book_id": "1"
                                },
                                {
                                    "title": "Harry Potter and the Half-Blood Prince (Harry Potter, #6)",
                                    "average_rating": "4.54",
                                    "books_count": "275",
                                    "user_id": "244",
                                    "book_id": "1"
                                },
                                {
                                    "title": "Harry Potter and the Half-Blood Prince (Harry Potter, #6)",
                                    "average_rating": "4.54",
                                    "books_count": "275",
                                    "user_id": "253",
                                    "book_id": "1"
                                },
                                {
                                    "title": "Harry Potter and the Half-Blood Prince (Harry Potter, #6)",
                                    "average_rating": "4.54",
                                    "books_count": "275",
                                    "user_id": "350",
                                    "book_id": "1"
                                },
                                {
                                    "title": "Harry Potter and the Half-Blood Prince (Harry Potter, #6)",
                                    "average_rating": "4.54",
                                    "books_count": "275",
                                    "user_id": "478",
                                    "book_id": "1"
                                },
                                {
                                    "title": "Harry Potter and the Half-Blood Prince (Harry Potter, #6)",
                                    "average_rating": "4.54",
                                    "books_count": "275",
                                    "user_id": "511",
                                    "book_id": "1"
                                },
                                {
                                    "title": "Harry Potter and the Half-Blood Prince (Harry Potter, #6)",
                                    "average_rating": "4.54",
                                    "books_count": "275",
                                    "user_id": "525",
                                    "book_id": "1"
                                },
                                {
                                    "title": "Harry Potter and the Half-Blood Prince (Harry Potter, #6)",
                                    "average_rating": "4.54",
                                    "books_count": "275",
                                    "user_id": "527",
                                    "book_id": "1"
                                },
                                {
                                    "title": "Harry Potter and the Half-Blood Prince (Harry Potter, #6)",
                                    "average_rating": "4.54",
                                    "books_count": "275",
                                    "user_id": "552",
                                    "book_id": "1"
                                },
                                {
                                    "title": "Harry Potter and the Half-Blood Prince (Harry Potter, #6)",
                                    "average_rating": "4.54",
                                    "books_count": "275",
                                    "user_id": "644",
                                    "book_id": "1"
                                },
                                {
                                    "title": "Harry Potter and the Half-Blood Prince (Harry Potter, #6)",
                                    "average_rating": "4.54",
                                    "books_count": "275",
                                    "user_id": "754",
                                    "book_id": "1"
                                },
                                {
                                    "title": "Harry Potter and the Half-Blood Prince (Harry Potter, #6)",
                                    "average_rating": "4.54",
                                    "books_count": "275",
                                    "user_id": "826",
                                    "book_id": "1"
                                },
                                {
                                    "title": "Harry Potter and the Half-Blood Prince (Harry Potter, #6)",
                                    "average_rating": "4.54",
                                    "books_count": "275",
                                    "user_id": "1043",
                                    "book_id": "1"
                                },
                                {
                                    "title": "Harry Potter and the Half-Blood Prince (Harry Potter, #6)",
                                    "average_rating": "4.54",
                                    "books_count": "275",
                                    "user_id": "1205",
                                    "book_id": "1"
                                },
                                {
                                    "title": "Harry Potter and the Half-Blood Prince (Harry Potter, #6)",
                                    "average_rating": "4.54",
                                    "books_count": "275",
                                    "user_id": "1442",
                                    "book_id": "1"
                                },
                                {
                                    "title": "Harry Potter and the Half-Blood Prince (Harry Potter, #6)",
                                    "average_rating": "4.54",
                                    "books_count": "275",
                                    "user_id": "1470",
                                    "book_id": "1"
                                },
                                {
                                    "title": "Harry Potter and the Half-Blood Prince (Harry Potter, #6)",
                                    "average_rating": "4.54",
                                    "books_count": "275",
                                    "user_id": "1712",
                                    "book_id": "1"
                                },
                                {
                                    "title": "Harry Potter and the Half-Blood Prince (Harry Potter, #6)",
                                    "average_rating": "4.54",
                                    "books_count": "275",
                                    "user_id": "1814",
                                    "book_id": "1"
                                },
                                {
                                    "title": "Harry Potter and the Half-Blood Prince (Harry Potter, #6)",
                                    "average_rating": "4.54",
                                    "books_count": "275",
                                    "user_id": "1919",
                                    "book_id": "1"
                                },
                                {
                                    "title": "Harry Potter and the Half-Blood Prince (Harry Potter, #6)",
                                    "average_rating": "4.54",
                                    "books_count": "275",
                                    "user_id": "2051",
                                    "book_id": "1"
                                },
                                {
                                    "title": "Harry Potter and the Half-Blood Prince (Harry Potter, #6)",
                                    "average_rating": "4.54",
                                    "books_count": "275",
                                    "user_id": "2052",
                                    "book_id": "1"
                                },
                                {
                                    "title": "Harry Potter and the Half-Blood Prince (Harry Potter, #6)",
                                    "average_rating": "4.54",
                                    "books_count": "275",
                                    "user_id": "2158",
                                    "book_id": "1"
                                },
                                {
                                    "title": "Harry Potter and the Half-Blood Prince (Harry Potter, #6)",
                                    "average_rating": "4.54",
                                    "books_count": "275",
                                    "user_id": "2160",
                                    "book_id": "1"
                                },
                                {
                                    "title": "Harry Potter and the Half-Blood Prince (Harry Potter, #6)",
                                    "average_rating": "4.54",
                                    "books_count": "275",
                                    "user_id": "2345",
                                    "book_id": "1"
                                },
                                {
                                    "title": "Harry Potter and the Half-Blood Prince (Harry Potter, #6)",
                                    "average_rating": "4.54",
                                    "books_count": "275",
                                    "user_id": "2476",
                                    "book_id": "1"
                                },
                                {
                                    "title": "Harry Potter and the Half-Blood Prince (Harry Potter, #6)",
                                    "average_rating": "4.54",
                                    "books_count": "275",
                                    "user_id": "2523",
                                    "book_id": "1"
                                },
                                {
                                    "title": "Harry Potter and the Half-Blood Prince (Harry Potter, #6)",
                                    "average_rating": "4.54",
                                    "books_count": "275",
                                    "user_id": "2623",
                                    "book_id": "1"
                                },
                                {
                                    "title": "Harry Potter and the Half-Blood Prince (Harry Potter, #6)",
                                    "average_rating": "4.54",
                                    "books_count": "275",
                                    "user_id": "2673",
                                    "book_id": "1"
                                }
                            ]
                        },
                        "text/html": [
                            "<table>",
                            "<tr><th>title</th><th>average_rating</th><th>books_count</th><th>user_id</th><th>book_id</th></tr>",
                            "<tr><td>Harry Potter and the Half-Blood Prince (Harry Potter, #6)</td><td>4.54</td><td>275</td><td>12</td><td>1</td></tr>",
                            "<tr><td>Harry Potter and the Half-Blood Prince (Harry Potter, #6)</td><td>4.54</td><td>275</td><td>192</td><td>1</td></tr>",
                            "<tr><td>Harry Potter and the Half-Blood Prince (Harry Potter, #6)</td><td>4.54</td><td>275</td><td>202</td><td>1</td></tr>",
                            "<tr><td>Harry Potter and the Half-Blood Prince (Harry Potter, #6)</td><td>4.54</td><td>275</td><td>244</td><td>1</td></tr>",
                            "<tr><td>Harry Potter and the Half-Blood Prince (Harry Potter, #6)</td><td>4.54</td><td>275</td><td>253</td><td>1</td></tr>",
                            "<tr><td>Harry Potter and the Half-Blood Prince (Harry Potter, #6)</td><td>4.54</td><td>275</td><td>350</td><td>1</td></tr>",
                            "<tr><td>Harry Potter and the Half-Blood Prince (Harry Potter, #6)</td><td>4.54</td><td>275</td><td>478</td><td>1</td></tr>",
                            "<tr><td>Harry Potter and the Half-Blood Prince (Harry Potter, #6)</td><td>4.54</td><td>275</td><td>511</td><td>1</td></tr>",
                            "<tr><td>Harry Potter and the Half-Blood Prince (Harry Potter, #6)</td><td>4.54</td><td>275</td><td>525</td><td>1</td></tr>",
                            "<tr><td>Harry Potter and the Half-Blood Prince (Harry Potter, #6)</td><td>4.54</td><td>275</td><td>527</td><td>1</td></tr>",
                            "<tr><td>Harry Potter and the Half-Blood Prince (Harry Potter, #6)</td><td>4.54</td><td>275</td><td>552</td><td>1</td></tr>",
                            "<tr><td>Harry Potter and the Half-Blood Prince (Harry Potter, #6)</td><td>4.54</td><td>275</td><td>644</td><td>1</td></tr>",
                            "<tr><td>Harry Potter and the Half-Blood Prince (Harry Potter, #6)</td><td>4.54</td><td>275</td><td>754</td><td>1</td></tr>",
                            "<tr><td>Harry Potter and the Half-Blood Prince (Harry Potter, #6)</td><td>4.54</td><td>275</td><td>826</td><td>1</td></tr>",
                            "<tr><td>Harry Potter and the Half-Blood Prince (Harry Potter, #6)</td><td>4.54</td><td>275</td><td>1043</td><td>1</td></tr>",
                            "<tr><td>Harry Potter and the Half-Blood Prince (Harry Potter, #6)</td><td>4.54</td><td>275</td><td>1205</td><td>1</td></tr>",
                            "<tr><td>Harry Potter and the Half-Blood Prince (Harry Potter, #6)</td><td>4.54</td><td>275</td><td>1442</td><td>1</td></tr>",
                            "<tr><td>Harry Potter and the Half-Blood Prince (Harry Potter, #6)</td><td>4.54</td><td>275</td><td>1470</td><td>1</td></tr>",
                            "<tr><td>Harry Potter and the Half-Blood Prince (Harry Potter, #6)</td><td>4.54</td><td>275</td><td>1712</td><td>1</td></tr>",
                            "<tr><td>Harry Potter and the Half-Blood Prince (Harry Potter, #6)</td><td>4.54</td><td>275</td><td>1814</td><td>1</td></tr>",
                            "<tr><td>Harry Potter and the Half-Blood Prince (Harry Potter, #6)</td><td>4.54</td><td>275</td><td>1919</td><td>1</td></tr>",
                            "<tr><td>Harry Potter and the Half-Blood Prince (Harry Potter, #6)</td><td>4.54</td><td>275</td><td>2051</td><td>1</td></tr>",
                            "<tr><td>Harry Potter and the Half-Blood Prince (Harry Potter, #6)</td><td>4.54</td><td>275</td><td>2052</td><td>1</td></tr>",
                            "<tr><td>Harry Potter and the Half-Blood Prince (Harry Potter, #6)</td><td>4.54</td><td>275</td><td>2158</td><td>1</td></tr>",
                            "<tr><td>Harry Potter and the Half-Blood Prince (Harry Potter, #6)</td><td>4.54</td><td>275</td><td>2160</td><td>1</td></tr>",
                            "<tr><td>Harry Potter and the Half-Blood Prince (Harry Potter, #6)</td><td>4.54</td><td>275</td><td>2345</td><td>1</td></tr>",
                            "<tr><td>Harry Potter and the Half-Blood Prince (Harry Potter, #6)</td><td>4.54</td><td>275</td><td>2476</td><td>1</td></tr>",
                            "<tr><td>Harry Potter and the Half-Blood Prince (Harry Potter, #6)</td><td>4.54</td><td>275</td><td>2523</td><td>1</td></tr>",
                            "<tr><td>Harry Potter and the Half-Blood Prince (Harry Potter, #6)</td><td>4.54</td><td>275</td><td>2623</td><td>1</td></tr>",
                            "<tr><td>Harry Potter and the Half-Blood Prince (Harry Potter, #6)</td><td>4.54</td><td>275</td><td>2673</td><td>1</td></tr>",
                            "</table>"
                        ]
                    }
                }
            ],
            "execution_count": 6
        },
        {
            "cell_type": "markdown",
            "source": [
                "## **QUESTION 5:**  Using joins to find the most tagged book and the most popular tag\n",
                "\n",
                "We will be writing 3 queries to find both the most tagged book and that book's most popular tag.\n",
                "\n",
                "**Part A:**  What is the most tagged book?\n",
                "\n",
                "> <span style=\"background-color: rgba(127, 127, 127, 0.1); font-family: -apple-system, BlinkMacSystemFont, sans-serif;\">Start by joining the </span> **books** <span style=\"background-color: rgba(127, 127, 127, 0.1); font-family: -apple-system, BlinkMacSystemFont, sans-serif;\">and </span> **book\\_tags** <span style=\"background-color: rgba(127, 127, 127, 0.1); font-family: -apple-system, BlinkMacSystemFont, sans-serif;\">&nbsp;tables ON the books.best_book_id and book_tags.goodreads_book_id.&nbsp;&nbsp;<br></span> <span style=\"background-color: rgba(127, 127, 127, 0.1); font-family: -apple-system, BlinkMacSystemFont, sans-serif;\">We want the <i>most popular</i> book, so think about ordering the table in a way that will display both the book title and the number of times a book tag has been used.</span>\n",
                "> \n",
                "> _MInimum Desired output:_  The title of the most tagged book, and the number of times the book has been tagged.\n",
                "> \n",
                "> **Title:**\n",
                "\n",
                "**Part B:** How many different tags have been used for the most tagged book?\n",
                "\n",
                "> <span style=\"font-family: -apple-system, BlinkMacSystemFont, sans-serif; background-color: rgba(127, 127, 127, 0.1);\">Start by joining the&nbsp;</span> **books** <span style=\"font-family: -apple-system, BlinkMacSystemFont, sans-serif; background-color: rgba(127, 127, 127, 0.1);\">and&nbsp;</span> **book\\_tags** <span style=\"font-family: -apple-system, BlinkMacSystemFont, sans-serif; background-color: rgba(127, 127, 127, 0.1);\">&nbsp;tables ON the books.best_book_id and book_tags.goodreads_book_id.&nbsp;&nbsp;<br></span> We want to find the _most popular_ tag id, so think about ordering in a way that will display the most popular tag id.\n",
                "> \n",
                "> <span style=\"font-family: -apple-system, BlinkMacSystemFont, sans-serif; background-color: rgba(127, 127, 127, 0.1);\"><i>Minimum Desired Output:</i> The tag id for the most popular tag used for the most tagged book.&nbsp;</span> \n",
                "> \n",
                "> <span style=\"font-family: -apple-system, BlinkMacSystemFont, sans-serif; background-color: rgba(127, 127, 127, 0.1);\"><b>Tag Id:</b></span>\n",
                "\n",
                "<span style=\"font-family: -apple-system, BlinkMacSystemFont, sans-serif; background-color: rgba(127, 127, 127, 0.1);\"><b>Part C: </b>What is this particular tag?</span>\n",
                "\n",
                "> You may return this answer with a simple query.\n",
                "\n",
                "> <span style=\"font-family: -apple-system, BlinkMacSystemFont, sans-serif; background-color: rgba(127, 127, 127, 0.1);\"><i>Minimum Desired Output:</i>&nbsp;The tag name for the most popular tag used for the most tagged book.&nbsp;</span> \n",
                "> \n",
                "> <span style=\"font-family: -apple-system, BlinkMacSystemFont, sans-serif; background-color: rgba(127, 127, 127, 0.1);\"><b>Tag Name:</b></span>"
            ],
            "metadata": {
                "azdata_cell_guid": "a685e9cc-2ae2-40e8-8cc1-022c8064d66d"
            },
            "attachments": {}
        },
        {
            "cell_type": "code",
            "source": [
                "-- PART A:\n",
                "SELECT TOP 1 b.title, bt.tag_id, bt.count\n",
                "FROM BooksDB.dbo.books AS b\n",
                "INNER JOIN BooksDB.dbo.book_tags AS bt\n",
                "ON b.best_book_id = bt.goodreads_book_id\n",
                "GROUP BY bt.count, bt.tag_id, b.title\n",
                "ORDER BY SUM(bt.count)DESC"
            ],
            "metadata": {
                "azdata_cell_guid": "de3ac253-6b47-4740-8c6e-5f9d1b0ce36b",
                "language": "sql",
                "tags": []
            },
            "outputs": [
                {
                    "output_type": "display_data",
                    "data": {
                        "text/html": "(1 row affected)"
                    },
                    "metadata": {}
                },
                {
                    "output_type": "display_data",
                    "data": {
                        "text/html": "Total execution time: 00:00:07.098"
                    },
                    "metadata": {}
                },
                {
                    "output_type": "execute_result",
                    "metadata": {},
                    "execution_count": 22,
                    "data": {
                        "application/vnd.dataresource+json": {
                            "schema": {
                                "fields": [
                                    {
                                        "name": "title"
                                    },
                                    {
                                        "name": "tag_id"
                                    },
                                    {
                                        "name": "count"
                                    }
                                ]
                            },
                            "data": [
                                {
                                    "title": "The Alchemist",
                                    "tag_id": "30574",
                                    "count": "596234"
                                }
                            ]
                        },
                        "text/html": [
                            "<table>",
                            "<tr><th>title</th><th>tag_id</th><th>count</th></tr>",
                            "<tr><td>The Alchemist</td><td>30574</td><td>596234</td></tr>",
                            "</table>"
                        ]
                    }
                }
            ],
            "execution_count": 22
        },
        {
            "cell_type": "code",
            "source": [
                "-- PART B:\n",
                "SELECT TOP 1 bt.tag_id, bt.count\n",
                "FROM BooksDB.dbo.books AS b\n",
                "INNER JOIN BooksDB.dbo.book_tags AS bt\n",
                "ON b.best_book_id = bt.goodreads_book_id\n",
                "GROUP BY bt.count, bt.tag_id\n",
                "ORDER BY SUM(bt.count)DESC"
            ],
            "metadata": {
                "language": "sql",
                "azdata_cell_guid": "7156454d-c17f-4b8c-95c2-6bc9c4f26f64"
            },
            "outputs": [
                {
                    "output_type": "display_data",
                    "data": {
                        "text/html": "(1 row affected)"
                    },
                    "metadata": {}
                },
                {
                    "output_type": "display_data",
                    "data": {
                        "text/html": "Total execution time: 00:00:00.620"
                    },
                    "metadata": {}
                },
                {
                    "output_type": "execute_result",
                    "metadata": {},
                    "execution_count": 24,
                    "data": {
                        "application/vnd.dataresource+json": {
                            "schema": {
                                "fields": [
                                    {
                                        "name": "tag_id"
                                    },
                                    {
                                        "name": "count"
                                    }
                                ]
                            },
                            "data": [
                                {
                                    "tag_id": "30574",
                                    "count": "596234"
                                }
                            ]
                        },
                        "text/html": [
                            "<table>",
                            "<tr><th>tag_id</th><th>count</th></tr>",
                            "<tr><td>30574</td><td>596234</td></tr>",
                            "</table>"
                        ]
                    }
                }
            ],
            "execution_count": 24
        },
        {
            "cell_type": "code",
            "source": [
                "-- PART C:\n",
                "SELECT TOP 1 t.tag_name, bt.tag_id, bt.count\n",
                "FROM BooksDB.dbo.tags AS t\n",
                "INNER JOIN BooksDB.dbo.book_tags AS bt\n",
                "ON t.tag_id = bt.tag_id\n",
                "GROUP BY bt.count, bt.tag_id, t.tag_name\n",
                "ORDER BY SUM(bt.count)DESC"
            ],
            "metadata": {
                "language": "sql",
                "azdata_cell_guid": "52d879e9-ecd7-4114-98a6-a1e1098f472c"
            },
            "outputs": [
                {
                    "output_type": "display_data",
                    "data": {
                        "text/html": "(1 row affected)"
                    },
                    "metadata": {}
                },
                {
                    "output_type": "display_data",
                    "data": {
                        "text/html": "Total execution time: 00:00:00.545"
                    },
                    "metadata": {}
                },
                {
                    "output_type": "execute_result",
                    "metadata": {},
                    "execution_count": 25,
                    "data": {
                        "application/vnd.dataresource+json": {
                            "schema": {
                                "fields": [
                                    {
                                        "name": "tag_name"
                                    },
                                    {
                                        "name": "tag_id"
                                    },
                                    {
                                        "name": "count"
                                    }
                                ]
                            },
                            "data": [
                                {
                                    "tag_name": "to-read",
                                    "tag_id": "30574",
                                    "count": "596234"
                                }
                            ]
                        },
                        "text/html": [
                            "<table>",
                            "<tr><th>tag_name</th><th>tag_id</th><th>count</th></tr>",
                            "<tr><td>to-read</td><td>30574</td><td>596234</td></tr>",
                            "</table>"
                        ]
                    }
                }
            ],
            "execution_count": 25
        },
        {
            "cell_type": "markdown",
            "source": [
                "## **QUESTION 6:** Find a book based on a tag of your choice using joins.\n",
                "\n",
                "Some suggestions: any hobbies you like? baking, drawing, etc. how about favorite holidays, subjects, animals, etc?\n",
                "\n",
                "**Part A:** Explore the tags table for a tag of your choice.  Suggested ideas, try searching for one of your hobbies, a favorite time of year, favorite animal, etc.  Start by querying the tag table for your chosen tag.  (_Hint:_ in order to make sure you find all combinations of your tags, use the wildcard).  If your query returns more than one result, pick your favorite.\n",
                "\n",
                "> > _Here is an example.  Alyce wanted to search for halloween books.  She used the wildcard, '%halloween%' and 8 different combinations were found.  Alyce selected '**halloween-storytime**', with a tag id of 13877._\n",
                "\n",
                "> _Minimum Desired Output:_ <span style=\"font-family: -apple-system, BlinkMacSystemFont, sans-serif; background-color: rgba(127, 127, 127, 0.1);\">tag name and tag id</span>\n",
                "\n",
                "> **Your Tag and Tag Id: 11369, Fantasy-Romance**\n",
                "\n",
                "**Part B:** Now that you have the **tag id**, find the title that was tagged the most with this tag by joining the books and books\\_tags tables.\n",
                "\n",
                "> > _Alyce joined the book table with the tags table and discovered that <u>The Little Old Lady Who Was Not Afraid of Anything</u> was tagged as '**halloween-storytime**' the most._\n",
                "\n",
                "> _Minimum Desired Output:_ <span style=\"background-color: rgba(127, 127, 127, 0.1); font-family: -apple-system, BlinkMacSystemFont, sans-serif;\">title and tag count</span>\n",
                "\n",
                "> **Your Title and Number of times the tag was used: Radiance 198**"
            ],
            "metadata": {
                "azdata_cell_guid": "df783e7e-3aff-4e63-9edb-f2e729c7d1c8"
            },
            "attachments": {}
        },
        {
            "cell_type": "code",
            "source": [
                "-- Part A:\n",
                "SELECT * FROM BooksDB.dbo.tags\n",
                "WHERE tag_name LIKE '%Fantasy-Romance%'"
            ],
            "metadata": {
                "azdata_cell_guid": "c4b0b67c-7cfa-4f52-be97-ffe5cc28ed54",
                "tags": [],
                "language": "sql"
            },
            "outputs": [
                {
                    "output_type": "display_data",
                    "data": {
                        "text/html": "(2 rows affected)"
                    },
                    "metadata": {}
                },
                {
                    "output_type": "display_data",
                    "data": {
                        "text/html": "Total execution time: 00:00:00.093"
                    },
                    "metadata": {}
                },
                {
                    "output_type": "execute_result",
                    "metadata": {},
                    "execution_count": 30,
                    "data": {
                        "application/vnd.dataresource+json": {
                            "schema": {
                                "fields": [
                                    {
                                        "name": "tag_id"
                                    },
                                    {
                                        "name": "tag_name"
                                    }
                                ]
                            },
                            "data": [
                                {
                                    "tag_id": "11369",
                                    "tag_name": "fantasy-romance"
                                },
                                {
                                    "tag_id": "22978",
                                    "tag_name": "paranormal-fantasy-romance"
                                }
                            ]
                        },
                        "text/html": [
                            "<table>",
                            "<tr><th>tag_id</th><th>tag_name</th></tr>",
                            "<tr><td>11369</td><td>fantasy-romance</td></tr>",
                            "<tr><td>22978</td><td>paranormal-fantasy-romance</td></tr>",
                            "</table>"
                        ]
                    }
                }
            ],
            "execution_count": 30
        },
        {
            "cell_type": "code",
            "source": [
                "SELECT * FROM BooksDB.dbo.tags\n",
                "WHERE tag_name LIKE '%Romance%'"
            ],
            "metadata": {
                "language": "sql",
                "azdata_cell_guid": "9521209e-7d41-4c05-8c08-a978e502c9e8",
                "tags": []
            },
            "outputs": [
                {
                    "output_type": "display_data",
                    "data": {
                        "text/html": "(210 rows affected)"
                    },
                    "metadata": {}
                },
                {
                    "output_type": "display_data",
                    "data": {
                        "text/html": "Total execution time: 00:00:00.074"
                    },
                    "metadata": {}
                },
                {
                    "output_type": "execute_result",
                    "metadata": {},
                    "execution_count": 37,
                    "data": {
                        "application/vnd.dataresource+json": {
                            "schema": {
                                "fields": [
                                    {
                                        "name": "tag_id"
                                    },
                                    {
                                        "name": "tag_name"
                                    }
                                ]
                            },
                            "data": [
                                {
                                    "tag_id": "1404",
                                    "tag_name": "aa-romance"
                                },
                                {
                                    "tag_id": "1551",
                                    "tag_name": "action-romance"
                                },
                                {
                                    "tag_id": "1650",
                                    "tag_name": "adult-contemporary-romance"
                                },
                                {
                                    "tag_id": "1672",
                                    "tag_name": "adult-paranormal-romance"
                                },
                                {
                                    "tag_id": "1679",
                                    "tag_name": "adult-romance"
                                },
                                {
                                    "tag_id": "1764",
                                    "tag_name": "african-american-romance"
                                },
                                {
                                    "tag_id": "2542",
                                    "tag_name": "angsty-romance"
                                },
                                {
                                    "tag_id": "4058",
                                    "tag_name": "bdsm-romance"
                                },
                                {
                                    "tag_id": "4507",
                                    "tag_name": "biker-romance"
                                },
                                {
                                    "tag_id": "4545",
                                    "tag_name": "billionaire-romance"
                                },
                                {
                                    "tag_id": "4733",
                                    "tag_name": "black-romance"
                                },
                                {
                                    "tag_id": "5805",
                                    "tag_name": "bromance"
                                },
                                {
                                    "tag_id": "6411",
                                    "tag_name": "category-romance"
                                },
                                {
                                    "tag_id": "6495",
                                    "tag_name": "celebrity-romance"
                                },
                                {
                                    "tag_id": "6678",
                                    "tag_name": "cheesy-romance"
                                },
                                {
                                    "tag_id": "6755",
                                    "tag_name": "chick-lit-romance"
                                },
                                {
                                    "tag_id": "6768",
                                    "tag_name": "chicklit-romance"
                                },
                                {
                                    "tag_id": "7120",
                                    "tag_name": "christian-fiction-romance"
                                },
                                {
                                    "tag_id": "7131",
                                    "tag_name": "christian-historical-romance"
                                },
                                {
                                    "tag_id": "7171",
                                    "tag_name": "christian-romance"
                                },
                                {
                                    "tag_id": "7172",
                                    "tag_name": "christian-romance-fiction"
                                },
                                {
                                    "tag_id": "7494",
                                    "tag_name": "clean-romance"
                                },
                                {
                                    "tag_id": "7495",
                                    "tag_name": "clean-romances"
                                },
                                {
                                    "tag_id": "7677",
                                    "tag_name": "college-romance"
                                },
                                {
                                    "tag_id": "7950",
                                    "tag_name": "comtemporary-romance"
                                },
                                {
                                    "tag_id": "8046",
                                    "tag_name": "contemp-romance"
                                },
                                {
                                    "tag_id": "8076",
                                    "tag_name": "contemporary-romance"
                                },
                                {
                                    "tag_id": "8077",
                                    "tag_name": "contemporary-romance-fiction"
                                },
                                {
                                    "tag_id": "8078",
                                    "tag_name": "contemporary-romances"
                                },
                                {
                                    "tag_id": "8744",
                                    "tag_name": "cute-romance"
                                },
                                {
                                    "tag_id": "8792",
                                    "tag_name": "d-artagnan-romances"
                                },
                                {
                                    "tag_id": "8952",
                                    "tag_name": "dark-romance"
                                },
                                {
                                    "tag_id": "9860",
                                    "tag_name": "dragon-romance"
                                },
                                {
                                    "tag_id": "9889",
                                    "tag_name": "drama-and-romance"
                                },
                                {
                                    "tag_id": "9894",
                                    "tag_name": "drama-romance"
                                },
                                {
                                    "tag_id": "10116",
                                    "tag_name": "e-romance"
                                },
                                {
                                    "tag_id": "10821",
                                    "tag_name": "erotic-historical-romance"
                                },
                                {
                                    "tag_id": "10824",
                                    "tag_name": "erotic-romance"
                                },
                                {
                                    "tag_id": "10828",
                                    "tag_name": "erotica-romance"
                                },
                                {
                                    "tag_id": "11094",
                                    "tag_name": "f-f-romance"
                                },
                                {
                                    "tag_id": "11369",
                                    "tag_name": "fantasy-romance"
                                },
                                {
                                    "tag_id": "11547",
                                    "tag_name": "favorite-romance"
                                },
                                {
                                    "tag_id": "11548",
                                    "tag_name": "favorite-romances"
                                },
                                {
                                    "tag_id": "11712",
                                    "tag_name": "ff-romance"
                                },
                                {
                                    "tag_id": "11726",
                                    "tag_name": "fic-romance-het"
                                },
                                {
                                    "tag_id": "11820",
                                    "tag_name": "fiction-romance"
                                },
                                {
                                    "tag_id": "11821",
                                    "tag_name": "fiction-romance-sex"
                                },
                                {
                                    "tag_id": "11874",
                                    "tag_name": "fighter-romance"
                                },
                                {
                                    "tag_id": "12336",
                                    "tag_name": "forbidden-romance"
                                },
                                {
                                    "tag_id": "12690",
                                    "tag_name": "funny-romance"
                                },
                                {
                                    "tag_id": "12710",
                                    "tag_name": "futuristic-romance"
                                },
                                {
                                    "tag_id": "12884",
                                    "tag_name": "gay-romance"
                                },
                                {
                                    "tag_id": "12998",
                                    "tag_name": "genre-contemporary-romance"
                                },
                                {
                                    "tag_id": "13011",
                                    "tag_name": "genre-historical-romance"
                                },
                                {
                                    "tag_id": "13022",
                                    "tag_name": "genre-paranormal-romance"
                                },
                                {
                                    "tag_id": "13027",
                                    "tag_name": "genre-romance"
                                },
                                {
                                    "tag_id": "13028",
                                    "tag_name": "genre-romance-historical"
                                },
                                {
                                    "tag_id": "13455",
                                    "tag_name": "gothic-romance"
                                },
                                {
                                    "tag_id": "13983",
                                    "tag_name": "harlequin-romance"
                                },
                                {
                                    "tag_id": "14380",
                                    "tag_name": "high-school-romance"
                                },
                                {
                                    "tag_id": "14393",
                                    "tag_name": "highland-romance"
                                },
                                {
                                    "tag_id": "14395",
                                    "tag_name": "highlander-romance"
                                },
                                {
                                    "tag_id": "14465",
                                    "tag_name": "historic-romance"
                                },
                                {
                                    "tag_id": "14476",
                                    "tag_name": "historical-christian-romance"
                                },
                                {
                                    "tag_id": "14483",
                                    "tag_name": "historical-erotic-romance"
                                },
                                {
                                    "tag_id": "14505",
                                    "tag_name": "historical-fiction-romance"
                                },
                                {
                                    "tag_id": "14527",
                                    "tag_name": "historical-romance"
                                },
                                {
                                    "tag_id": "14528",
                                    "tag_name": "historical-romance-fiction"
                                },
                                {
                                    "tag_id": "14529",
                                    "tag_name": "historical-romance-medieval"
                                },
                                {
                                    "tag_id": "14530",
                                    "tag_name": "historical-romances"
                                },
                                {
                                    "tag_id": "14540",
                                    "tag_name": "historicalromance"
                                },
                                {
                                    "tag_id": "14682",
                                    "tag_name": "hockey-romance"
                                },
                                {
                                    "tag_id": "14720",
                                    "tag_name": "hollywood-romance"
                                },
                                {
                                    "tag_id": "14904",
                                    "tag_name": "hot-romance"
                                },
                                {
                                    "tag_id": "15056",
                                    "tag_name": "humor-romance"
                                },
                                {
                                    "tag_id": "15066",
                                    "tag_name": "humorous-romance"
                                },
                                {
                                    "tag_id": "15525",
                                    "tag_name": "indonesian-romance"
                                },
                                {
                                    "tag_id": "15633",
                                    "tag_name": "inspirational-romance"
                                },
                                {
                                    "tag_id": "15722",
                                    "tag_name": "interracial-romance"
                                },
                                {
                                    "tag_id": "17255",
                                    "tag_name": "kindle-romance-contemporary"
                                },
                                {
                                    "tag_id": "17937",
                                    "tag_name": "lesbian-romance"
                                },
                                {
                                    "tag_id": "18554",
                                    "tag_name": "looking-for-romance"
                                },
                                {
                                    "tag_id": "18643",
                                    "tag_name": "love-and-romance"
                                },
                                {
                                    "tag_id": "18661",
                                    "tag_name": "love-romance"
                                },
                                {
                                    "tag_id": "18797",
                                    "tag_name": "m-f-romance"
                                },
                                {
                                    "tag_id": "18805",
                                    "tag_name": "m-m-romance"
                                },
                                {
                                    "tag_id": "18873",
                                    "tag_name": "mafia-romance"
                                },
                                {
                                    "tag_id": "19142",
                                    "tag_name": "manga-romance"
                                },
                                {
                                    "tag_id": "19512",
                                    "tag_name": "may-december-romance"
                                },
                                {
                                    "tag_id": "19558",
                                    "tag_name": "mc-romance"
                                },
                                {
                                    "tag_id": "19678",
                                    "tag_name": "medieval-romance"
                                },
                                {
                                    "tag_id": "20063",
                                    "tag_name": "military-romance"
                                },
                                {
                                    "tag_id": "20243",
                                    "tag_name": "mm-romance"
                                },
                                {
                                    "tag_id": "20261",
                                    "tag_name": "mob-romance"
                                },
                                {
                                    "tag_id": "20310",
                                    "tag_name": "modern-romance"
                                },
                                {
                                    "tag_id": "20694",
                                    "tag_name": "music-romance"
                                },
                                {
                                    "tag_id": "20984",
                                    "tag_name": "mystery-romance"
                                },
                                {
                                    "tag_id": "21058",
                                    "tag_name": "na-romance"
                                },
                                {
                                    "tag_id": "21256",
                                    "tag_name": "necromancer"
                                },
                                {
                                    "tag_id": "21257",
                                    "tag_name": "necromancers"
                                },
                                {
                                    "tag_id": "21391",
                                    "tag_name": "new-adult-romance"
                                },
                                {
                                    "tag_id": "21423",
                                    "tag_name": "new-romance"
                                },
                                {
                                    "tag_id": "21754",
                                    "tag_name": "non-romance"
                                },
                                {
                                    "tag_id": "22219",
                                    "tag_name": "office-romance"
                                },
                                {
                                    "tag_id": "22259",
                                    "tag_name": "old-school-romance"
                                },
                                {
                                    "tag_id": "22962",
                                    "tag_name": "para-romance"
                                },
                                {
                                    "tag_id": "22978",
                                    "tag_name": "paranormal-fantasy-romance"
                                },
                                {
                                    "tag_id": "22983",
                                    "tag_name": "paranormal-romance"
                                },
                                {
                                    "tag_id": "22984",
                                    "tag_name": "paranormal-romance-urban-fantasy"
                                },
                                {
                                    "tag_id": "22985",
                                    "tag_name": "paranormal-romances"
                                },
                                {
                                    "tag_id": "22997",
                                    "tag_name": "paranormalromance"
                                },
                                {
                                    "tag_id": "23293",
                                    "tag_name": "period-romance"
                                },
                                {
                                    "tag_id": "23678",
                                    "tag_name": "pirate-romance"
                                },
                                {
                                    "tag_id": "23710",
                                    "tag_name": "planetary-romance"
                                },
                                {
                                    "tag_id": "23797",
                                    "tag_name": "pnr-romance"
                                },
                                {
                                    "tag_id": "24438",
                                    "tag_name": "proper-romance"
                                },
                                {
                                    "tag_id": "24446",
                                    "tag_name": "prosa-romance"
                                },
                                {
                                    "tag_id": "25276",
                                    "tag_name": "read-romance"
                                },
                                {
                                    "tag_id": "25598",
                                    "tag_name": "regency-era-romance"
                                },
                                {
                                    "tag_id": "25600",
                                    "tag_name": "regency-romance"
                                },
                                {
                                    "tag_id": "26087",
                                    "tag_name": "rock-romance"
                                },
                                {
                                    "tag_id": "26090",
                                    "tag_name": "rock-star-romance"
                                },
                                {
                                    "tag_id": "26093",
                                    "tag_name": "rocker-romance"
                                },
                                {
                                    "tag_id": "26098",
                                    "tag_name": "rockstar-romance"
                                },
                                {
                                    "tag_id": "26138",
                                    "tag_name": "romance"
                                },
                                {
                                    "tag_id": "26139",
                                    "tag_name": "romance-bdsm"
                                },
                                {
                                    "tag_id": "26140",
                                    "tag_name": "romance-books"
                                },
                                {
                                    "tag_id": "26141",
                                    "tag_name": "romance-chick-lit"
                                },
                                {
                                    "tag_id": "26142",
                                    "tag_name": "romance-clean"
                                },
                                {
                                    "tag_id": "26143",
                                    "tag_name": "romance-comedy"
                                },
                                {
                                    "tag_id": "26144",
                                    "tag_name": "romance-contemp"
                                },
                                {
                                    "tag_id": "26145",
                                    "tag_name": "romance-contemporaneo"
                                },
                                {
                                    "tag_id": "26146",
                                    "tag_name": "romance-contemporary"
                                },
                                {
                                    "tag_id": "26147",
                                    "tag_name": "romance-contemporáneo"
                                },
                                {
                                    "tag_id": "26148",
                                    "tag_name": "romance-drama"
                                },
                                {
                                    "tag_id": "26149",
                                    "tag_name": "romance-erotic"
                                },
                                {
                                    "tag_id": "26150",
                                    "tag_name": "romance-erotica"
                                },
                                {
                                    "tag_id": "26151",
                                    "tag_name": "romance-fantasy"
                                },
                                {
                                    "tag_id": "26152",
                                    "tag_name": "romance-fiction"
                                },
                                {
                                    "tag_id": "26153",
                                    "tag_name": "romance-heroes-i-actually-like"
                                },
                                {
                                    "tag_id": "26154",
                                    "tag_name": "romance-historical"
                                },
                                {
                                    "tag_id": "26155",
                                    "tag_name": "romance-histórico"
                                },
                                {
                                    "tag_id": "26156",
                                    "tag_name": "romance-in-manga-manhwa"
                                },
                                {
                                    "tag_id": "26157",
                                    "tag_name": "romance-love"
                                },
                                {
                                    "tag_id": "26158",
                                    "tag_name": "romance-manga"
                                },
                                {
                                    "tag_id": "26159",
                                    "tag_name": "romance-medieval"
                                },
                                {
                                    "tag_id": "26160",
                                    "tag_name": "romance-mystery"
                                },
                                {
                                    "tag_id": "26161",
                                    "tag_name": "romance-new-adult"
                                },
                                {
                                    "tag_id": "26162",
                                    "tag_name": "romance-novels"
                                },
                                {
                                    "tag_id": "26163",
                                    "tag_name": "romance-paranormal"
                                },
                                {
                                    "tag_id": "26164",
                                    "tag_name": "romance-paranormal-romance"
                                },
                                {
                                    "tag_id": "26165",
                                    "tag_name": "romance-phase"
                                },
                                {
                                    "tag_id": "26166",
                                    "tag_name": "romance-read"
                                },
                                {
                                    "tag_id": "26167",
                                    "tag_name": "romance-regency"
                                },
                                {
                                    "tag_id": "26168",
                                    "tag_name": "romance-series"
                                },
                                {
                                    "tag_id": "26169",
                                    "tag_name": "romance-sexy"
                                },
                                {
                                    "tag_id": "26170",
                                    "tag_name": "romance-sports"
                                },
                                {
                                    "tag_id": "26171",
                                    "tag_name": "romance-suspence"
                                },
                                {
                                    "tag_id": "26172",
                                    "tag_name": "romance-suspense"
                                },
                                {
                                    "tag_id": "26173",
                                    "tag_name": "romance-thriller"
                                },
                                {
                                    "tag_id": "26174",
                                    "tag_name": "romance-time-travel"
                                },
                                {
                                    "tag_id": "26175",
                                    "tag_name": "romance-to-read"
                                },
                                {
                                    "tag_id": "26176",
                                    "tag_name": "romance-رومانسي"
                                },
                                {
                                    "tag_id": "26177",
                                    "tag_name": "romances"
                                },
                                {
                                    "tag_id": "26799",
                                    "tag_name": "sci-fi-romance"
                                },
                                {
                                    "tag_id": "26847",
                                    "tag_name": "science-fiction-romance"
                                },
                                {
                                    "tag_id": "26901",
                                    "tag_name": "scifi-romance"
                                },
                                {
                                    "tag_id": "26947",
                                    "tag_name": "scottish-historical-romance"
                                },
                                {
                                    "tag_id": "26949",
                                    "tag_name": "scottish-romance"
                                },
                                {
                                    "tag_id": "27018",
                                    "tag_name": "second-chance-romance"
                                },
                                {
                                    "tag_id": "27393",
                                    "tag_name": "sexy-romance"
                                },
                                {
                                    "tag_id": "27612",
                                    "tag_name": "shifter-romance"
                                },
                                {
                                    "tag_id": "27779",
                                    "tag_name": "silly-romances"
                                },
                                {
                                    "tag_id": "27935",
                                    "tag_name": "slow-burn-romance"
                                },
                                {
                                    "tag_id": "27938",
                                    "tag_name": "slow-romance"
                                },
                                {
                                    "tag_id": "27953",
                                    "tag_name": "small-town-romance"
                                },
                                {
                                    "tag_id": "28421",
                                    "tag_name": "sport-romance"
                                },
                                {
                                    "tag_id": "28445",
                                    "tag_name": "sports-romance"
                                },
                                {
                                    "tag_id": "28446",
                                    "tag_name": "sports-romances"
                                },
                                {
                                    "tag_id": "28613",
                                    "tag_name": "steamy-romance"
                                },
                                {
                                    "tag_id": "28850",
                                    "tag_name": "student-teacher-romance"
                                },
                                {
                                    "tag_id": "28975",
                                    "tag_name": "summer-romance"
                                },
                                {
                                    "tag_id": "29020",
                                    "tag_name": "supernatural-romance"
                                },
                                {
                                    "tag_id": "29074",
                                    "tag_name": "suspence-romance"
                                },
                                {
                                    "tag_id": "29082",
                                    "tag_name": "suspense-romance"
                                },
                                {
                                    "tag_id": "29125",
                                    "tag_name": "sweet-romance"
                                },
                                {
                                    "tag_id": "29362",
                                    "tag_name": "tbr-romance"
                                },
                                {
                                    "tag_id": "29385",
                                    "tag_name": "teacher-student-romance"
                                },
                                {
                                    "tag_id": "29475",
                                    "tag_name": "teen-romance"
                                },
                                {
                                    "tag_id": "29733",
                                    "tag_name": "the-d-artagnan-romances"
                                },
                                {
                                    "tag_id": "30378",
                                    "tag_name": "thriller-romance"
                                },
                                {
                                    "tag_id": "30465",
                                    "tag_name": "time-travel-romance"
                                },
                                {
                                    "tag_id": "30798",
                                    "tag_name": "to-read-romance"
                                },
                                {
                                    "tag_id": "31151",
                                    "tag_name": "trashy-romance"
                                },
                                {
                                    "tag_id": "31400",
                                    "tag_name": "typical-romance-but-good"
                                },
                                {
                                    "tag_id": "31573",
                                    "tag_name": "unread-paranormal-romance-novel"
                                },
                                {
                                    "tag_id": "31626",
                                    "tag_name": "urban-romance"
                                },
                                {
                                    "tag_id": "31721",
                                    "tag_name": "vamp-romance"
                                },
                                {
                                    "tag_id": "31741",
                                    "tag_name": "vampire-romance"
                                },
                                {
                                    "tag_id": "31867",
                                    "tag_name": "victorian-romance"
                                },
                                {
                                    "tag_id": "32364",
                                    "tag_name": "western-romance"
                                },
                                {
                                    "tag_id": "32776",
                                    "tag_name": "work-romance"
                                },
                                {
                                    "tag_id": "32783",
                                    "tag_name": "workplace-romance"
                                },
                                {
                                    "tag_id": "33005",
                                    "tag_name": "ya-contemporary-romance"
                                },
                                {
                                    "tag_id": "33036",
                                    "tag_name": "ya-paranormal-romance"
                                },
                                {
                                    "tag_id": "33037",
                                    "tag_name": "ya-paranormal-romance-fantasy"
                                },
                                {
                                    "tag_id": "33045",
                                    "tag_name": "ya-romance"
                                },
                                {
                                    "tag_id": "33131",
                                    "tag_name": "young-adult-paranormal-romance"
                                },
                                {
                                    "tag_id": "33133",
                                    "tag_name": "young-adult-romance"
                                },
                                {
                                    "tag_id": "33236",
                                    "tag_name": "zebra-historical-romance"
                                }
                            ]
                        },
                        "text/html": [
                            "<table>",
                            "<tr><th>tag_id</th><th>tag_name</th></tr>",
                            "<tr><td>1404</td><td>aa-romance</td></tr>",
                            "<tr><td>1551</td><td>action-romance</td></tr>",
                            "<tr><td>1650</td><td>adult-contemporary-romance</td></tr>",
                            "<tr><td>1672</td><td>adult-paranormal-romance</td></tr>",
                            "<tr><td>1679</td><td>adult-romance</td></tr>",
                            "<tr><td>1764</td><td>african-american-romance</td></tr>",
                            "<tr><td>2542</td><td>angsty-romance</td></tr>",
                            "<tr><td>4058</td><td>bdsm-romance</td></tr>",
                            "<tr><td>4507</td><td>biker-romance</td></tr>",
                            "<tr><td>4545</td><td>billionaire-romance</td></tr>",
                            "<tr><td>4733</td><td>black-romance</td></tr>",
                            "<tr><td>5805</td><td>bromance</td></tr>",
                            "<tr><td>6411</td><td>category-romance</td></tr>",
                            "<tr><td>6495</td><td>celebrity-romance</td></tr>",
                            "<tr><td>6678</td><td>cheesy-romance</td></tr>",
                            "<tr><td>6755</td><td>chick-lit-romance</td></tr>",
                            "<tr><td>6768</td><td>chicklit-romance</td></tr>",
                            "<tr><td>7120</td><td>christian-fiction-romance</td></tr>",
                            "<tr><td>7131</td><td>christian-historical-romance</td></tr>",
                            "<tr><td>7171</td><td>christian-romance</td></tr>",
                            "<tr><td>7172</td><td>christian-romance-fiction</td></tr>",
                            "<tr><td>7494</td><td>clean-romance</td></tr>",
                            "<tr><td>7495</td><td>clean-romances</td></tr>",
                            "<tr><td>7677</td><td>college-romance</td></tr>",
                            "<tr><td>7950</td><td>comtemporary-romance</td></tr>",
                            "<tr><td>8046</td><td>contemp-romance</td></tr>",
                            "<tr><td>8076</td><td>contemporary-romance</td></tr>",
                            "<tr><td>8077</td><td>contemporary-romance-fiction</td></tr>",
                            "<tr><td>8078</td><td>contemporary-romances</td></tr>",
                            "<tr><td>8744</td><td>cute-romance</td></tr>",
                            "<tr><td>8792</td><td>d-artagnan-romances</td></tr>",
                            "<tr><td>8952</td><td>dark-romance</td></tr>",
                            "<tr><td>9860</td><td>dragon-romance</td></tr>",
                            "<tr><td>9889</td><td>drama-and-romance</td></tr>",
                            "<tr><td>9894</td><td>drama-romance</td></tr>",
                            "<tr><td>10116</td><td>e-romance</td></tr>",
                            "<tr><td>10821</td><td>erotic-historical-romance</td></tr>",
                            "<tr><td>10824</td><td>erotic-romance</td></tr>",
                            "<tr><td>10828</td><td>erotica-romance</td></tr>",
                            "<tr><td>11094</td><td>f-f-romance</td></tr>",
                            "<tr><td>11369</td><td>fantasy-romance</td></tr>",
                            "<tr><td>11547</td><td>favorite-romance</td></tr>",
                            "<tr><td>11548</td><td>favorite-romances</td></tr>",
                            "<tr><td>11712</td><td>ff-romance</td></tr>",
                            "<tr><td>11726</td><td>fic-romance-het</td></tr>",
                            "<tr><td>11820</td><td>fiction-romance</td></tr>",
                            "<tr><td>11821</td><td>fiction-romance-sex</td></tr>",
                            "<tr><td>11874</td><td>fighter-romance</td></tr>",
                            "<tr><td>12336</td><td>forbidden-romance</td></tr>",
                            "<tr><td>12690</td><td>funny-romance</td></tr>",
                            "<tr><td>12710</td><td>futuristic-romance</td></tr>",
                            "<tr><td>12884</td><td>gay-romance</td></tr>",
                            "<tr><td>12998</td><td>genre-contemporary-romance</td></tr>",
                            "<tr><td>13011</td><td>genre-historical-romance</td></tr>",
                            "<tr><td>13022</td><td>genre-paranormal-romance</td></tr>",
                            "<tr><td>13027</td><td>genre-romance</td></tr>",
                            "<tr><td>13028</td><td>genre-romance-historical</td></tr>",
                            "<tr><td>13455</td><td>gothic-romance</td></tr>",
                            "<tr><td>13983</td><td>harlequin-romance</td></tr>",
                            "<tr><td>14380</td><td>high-school-romance</td></tr>",
                            "<tr><td>14393</td><td>highland-romance</td></tr>",
                            "<tr><td>14395</td><td>highlander-romance</td></tr>",
                            "<tr><td>14465</td><td>historic-romance</td></tr>",
                            "<tr><td>14476</td><td>historical-christian-romance</td></tr>",
                            "<tr><td>14483</td><td>historical-erotic-romance</td></tr>",
                            "<tr><td>14505</td><td>historical-fiction-romance</td></tr>",
                            "<tr><td>14527</td><td>historical-romance</td></tr>",
                            "<tr><td>14528</td><td>historical-romance-fiction</td></tr>",
                            "<tr><td>14529</td><td>historical-romance-medieval</td></tr>",
                            "<tr><td>14530</td><td>historical-romances</td></tr>",
                            "<tr><td>14540</td><td>historicalromance</td></tr>",
                            "<tr><td>14682</td><td>hockey-romance</td></tr>",
                            "<tr><td>14720</td><td>hollywood-romance</td></tr>",
                            "<tr><td>14904</td><td>hot-romance</td></tr>",
                            "<tr><td>15056</td><td>humor-romance</td></tr>",
                            "<tr><td>15066</td><td>humorous-romance</td></tr>",
                            "<tr><td>15525</td><td>indonesian-romance</td></tr>",
                            "<tr><td>15633</td><td>inspirational-romance</td></tr>",
                            "<tr><td>15722</td><td>interracial-romance</td></tr>",
                            "<tr><td>17255</td><td>kindle-romance-contemporary</td></tr>",
                            "<tr><td>17937</td><td>lesbian-romance</td></tr>",
                            "<tr><td>18554</td><td>looking-for-romance</td></tr>",
                            "<tr><td>18643</td><td>love-and-romance</td></tr>",
                            "<tr><td>18661</td><td>love-romance</td></tr>",
                            "<tr><td>18797</td><td>m-f-romance</td></tr>",
                            "<tr><td>18805</td><td>m-m-romance</td></tr>",
                            "<tr><td>18873</td><td>mafia-romance</td></tr>",
                            "<tr><td>19142</td><td>manga-romance</td></tr>",
                            "<tr><td>19512</td><td>may-december-romance</td></tr>",
                            "<tr><td>19558</td><td>mc-romance</td></tr>",
                            "<tr><td>19678</td><td>medieval-romance</td></tr>",
                            "<tr><td>20063</td><td>military-romance</td></tr>",
                            "<tr><td>20243</td><td>mm-romance</td></tr>",
                            "<tr><td>20261</td><td>mob-romance</td></tr>",
                            "<tr><td>20310</td><td>modern-romance</td></tr>",
                            "<tr><td>20694</td><td>music-romance</td></tr>",
                            "<tr><td>20984</td><td>mystery-romance</td></tr>",
                            "<tr><td>21058</td><td>na-romance</td></tr>",
                            "<tr><td>21256</td><td>necromancer</td></tr>",
                            "<tr><td>21257</td><td>necromancers</td></tr>",
                            "<tr><td>21391</td><td>new-adult-romance</td></tr>",
                            "<tr><td>21423</td><td>new-romance</td></tr>",
                            "<tr><td>21754</td><td>non-romance</td></tr>",
                            "<tr><td>22219</td><td>office-romance</td></tr>",
                            "<tr><td>22259</td><td>old-school-romance</td></tr>",
                            "<tr><td>22962</td><td>para-romance</td></tr>",
                            "<tr><td>22978</td><td>paranormal-fantasy-romance</td></tr>",
                            "<tr><td>22983</td><td>paranormal-romance</td></tr>",
                            "<tr><td>22984</td><td>paranormal-romance-urban-fantasy</td></tr>",
                            "<tr><td>22985</td><td>paranormal-romances</td></tr>",
                            "<tr><td>22997</td><td>paranormalromance</td></tr>",
                            "<tr><td>23293</td><td>period-romance</td></tr>",
                            "<tr><td>23678</td><td>pirate-romance</td></tr>",
                            "<tr><td>23710</td><td>planetary-romance</td></tr>",
                            "<tr><td>23797</td><td>pnr-romance</td></tr>",
                            "<tr><td>24438</td><td>proper-romance</td></tr>",
                            "<tr><td>24446</td><td>prosa-romance</td></tr>",
                            "<tr><td>25276</td><td>read-romance</td></tr>",
                            "<tr><td>25598</td><td>regency-era-romance</td></tr>",
                            "<tr><td>25600</td><td>regency-romance</td></tr>",
                            "<tr><td>26087</td><td>rock-romance</td></tr>",
                            "<tr><td>26090</td><td>rock-star-romance</td></tr>",
                            "<tr><td>26093</td><td>rocker-romance</td></tr>",
                            "<tr><td>26098</td><td>rockstar-romance</td></tr>",
                            "<tr><td>26138</td><td>romance</td></tr>",
                            "<tr><td>26139</td><td>romance-bdsm</td></tr>",
                            "<tr><td>26140</td><td>romance-books</td></tr>",
                            "<tr><td>26141</td><td>romance-chick-lit</td></tr>",
                            "<tr><td>26142</td><td>romance-clean</td></tr>",
                            "<tr><td>26143</td><td>romance-comedy</td></tr>",
                            "<tr><td>26144</td><td>romance-contemp</td></tr>",
                            "<tr><td>26145</td><td>romance-contemporaneo</td></tr>",
                            "<tr><td>26146</td><td>romance-contemporary</td></tr>",
                            "<tr><td>26147</td><td>romance-contemporáneo</td></tr>",
                            "<tr><td>26148</td><td>romance-drama</td></tr>",
                            "<tr><td>26149</td><td>romance-erotic</td></tr>",
                            "<tr><td>26150</td><td>romance-erotica</td></tr>",
                            "<tr><td>26151</td><td>romance-fantasy</td></tr>",
                            "<tr><td>26152</td><td>romance-fiction</td></tr>",
                            "<tr><td>26153</td><td>romance-heroes-i-actually-like</td></tr>",
                            "<tr><td>26154</td><td>romance-historical</td></tr>",
                            "<tr><td>26155</td><td>romance-histórico</td></tr>",
                            "<tr><td>26156</td><td>romance-in-manga-manhwa</td></tr>",
                            "<tr><td>26157</td><td>romance-love</td></tr>",
                            "<tr><td>26158</td><td>romance-manga</td></tr>",
                            "<tr><td>26159</td><td>romance-medieval</td></tr>",
                            "<tr><td>26160</td><td>romance-mystery</td></tr>",
                            "<tr><td>26161</td><td>romance-new-adult</td></tr>",
                            "<tr><td>26162</td><td>romance-novels</td></tr>",
                            "<tr><td>26163</td><td>romance-paranormal</td></tr>",
                            "<tr><td>26164</td><td>romance-paranormal-romance</td></tr>",
                            "<tr><td>26165</td><td>romance-phase</td></tr>",
                            "<tr><td>26166</td><td>romance-read</td></tr>",
                            "<tr><td>26167</td><td>romance-regency</td></tr>",
                            "<tr><td>26168</td><td>romance-series</td></tr>",
                            "<tr><td>26169</td><td>romance-sexy</td></tr>",
                            "<tr><td>26170</td><td>romance-sports</td></tr>",
                            "<tr><td>26171</td><td>romance-suspence</td></tr>",
                            "<tr><td>26172</td><td>romance-suspense</td></tr>",
                            "<tr><td>26173</td><td>romance-thriller</td></tr>",
                            "<tr><td>26174</td><td>romance-time-travel</td></tr>",
                            "<tr><td>26175</td><td>romance-to-read</td></tr>",
                            "<tr><td>26176</td><td>romance-رومانسي</td></tr>",
                            "<tr><td>26177</td><td>romances</td></tr>",
                            "<tr><td>26799</td><td>sci-fi-romance</td></tr>",
                            "<tr><td>26847</td><td>science-fiction-romance</td></tr>",
                            "<tr><td>26901</td><td>scifi-romance</td></tr>",
                            "<tr><td>26947</td><td>scottish-historical-romance</td></tr>",
                            "<tr><td>26949</td><td>scottish-romance</td></tr>",
                            "<tr><td>27018</td><td>second-chance-romance</td></tr>",
                            "<tr><td>27393</td><td>sexy-romance</td></tr>",
                            "<tr><td>27612</td><td>shifter-romance</td></tr>",
                            "<tr><td>27779</td><td>silly-romances</td></tr>",
                            "<tr><td>27935</td><td>slow-burn-romance</td></tr>",
                            "<tr><td>27938</td><td>slow-romance</td></tr>",
                            "<tr><td>27953</td><td>small-town-romance</td></tr>",
                            "<tr><td>28421</td><td>sport-romance</td></tr>",
                            "<tr><td>28445</td><td>sports-romance</td></tr>",
                            "<tr><td>28446</td><td>sports-romances</td></tr>",
                            "<tr><td>28613</td><td>steamy-romance</td></tr>",
                            "<tr><td>28850</td><td>student-teacher-romance</td></tr>",
                            "<tr><td>28975</td><td>summer-romance</td></tr>",
                            "<tr><td>29020</td><td>supernatural-romance</td></tr>",
                            "<tr><td>29074</td><td>suspence-romance</td></tr>",
                            "<tr><td>29082</td><td>suspense-romance</td></tr>",
                            "<tr><td>29125</td><td>sweet-romance</td></tr>",
                            "<tr><td>29362</td><td>tbr-romance</td></tr>",
                            "<tr><td>29385</td><td>teacher-student-romance</td></tr>",
                            "<tr><td>29475</td><td>teen-romance</td></tr>",
                            "<tr><td>29733</td><td>the-d-artagnan-romances</td></tr>",
                            "<tr><td>30378</td><td>thriller-romance</td></tr>",
                            "<tr><td>30465</td><td>time-travel-romance</td></tr>",
                            "<tr><td>30798</td><td>to-read-romance</td></tr>",
                            "<tr><td>31151</td><td>trashy-romance</td></tr>",
                            "<tr><td>31400</td><td>typical-romance-but-good</td></tr>",
                            "<tr><td>31573</td><td>unread-paranormal-romance-novel</td></tr>",
                            "<tr><td>31626</td><td>urban-romance</td></tr>",
                            "<tr><td>31721</td><td>vamp-romance</td></tr>",
                            "<tr><td>31741</td><td>vampire-romance</td></tr>",
                            "<tr><td>31867</td><td>victorian-romance</td></tr>",
                            "<tr><td>32364</td><td>western-romance</td></tr>",
                            "<tr><td>32776</td><td>work-romance</td></tr>",
                            "<tr><td>32783</td><td>workplace-romance</td></tr>",
                            "<tr><td>33005</td><td>ya-contemporary-romance</td></tr>",
                            "<tr><td>33036</td><td>ya-paranormal-romance</td></tr>",
                            "<tr><td>33037</td><td>ya-paranormal-romance-fantasy</td></tr>",
                            "<tr><td>33045</td><td>ya-romance</td></tr>",
                            "<tr><td>33131</td><td>young-adult-paranormal-romance</td></tr>",
                            "<tr><td>33133</td><td>young-adult-romance</td></tr>",
                            "<tr><td>33236</td><td>zebra-historical-romance</td></tr>",
                            "</table>"
                        ]
                    }
                }
            ],
            "execution_count": 37
        },
        {
            "cell_type": "code",
            "source": [
                "-- Part B:\n",
                "SELECT TOP 5 b.title, bt.tag_id, bt.count\n",
                "FROM BooksDB.dbo.books AS b\n",
                "INNER JOIN BooksDB.dbo.book_tags AS bt\n",
                "ON b.best_book_id = bt.goodreads_book_id\n",
                "WHERE bt.tag_id = 11369\n",
                "GROUP BY bt.count, bt.tag_id, b.title\n",
                "ORDER BY SUM(bt.count) DESC"
            ],
            "metadata": {
                "language": "sql",
                "azdata_cell_guid": "2bd452ed-0646-42bc-b04b-6f1e63faf931",
                "tags": [
                    "hide_input"
                ]
            },
            "outputs": [
                {
                    "output_type": "display_data",
                    "data": {
                        "text/html": "(5 rows affected)"
                    },
                    "metadata": {}
                },
                {
                    "output_type": "display_data",
                    "data": {
                        "text/html": "Total execution time: 00:00:00.118"
                    },
                    "metadata": {}
                },
                {
                    "output_type": "execute_result",
                    "metadata": {},
                    "execution_count": 34,
                    "data": {
                        "application/vnd.dataresource+json": {
                            "schema": {
                                "fields": [
                                    {
                                        "name": "title"
                                    },
                                    {
                                        "name": "tag_id"
                                    },
                                    {
                                        "name": "count"
                                    }
                                ]
                            },
                            "data": [
                                {
                                    "title": "Radiance (Wraith Kings, #1)",
                                    "tag_id": "11369",
                                    "count": "198"
                                },
                                {
                                    "title": "A Court of Thorns and Roses (A Court of Thorns and Roses, #1)",
                                    "tag_id": "11369",
                                    "count": "127"
                                },
                                {
                                    "title": "Wildest Dreams (Fantasyland, #1)",
                                    "tag_id": "11369",
                                    "count": "123"
                                },
                                {
                                    "title": "The Golden Dynasty (Fantasyland, #2)",
                                    "tag_id": "11369",
                                    "count": "119"
                                },
                                {
                                    "title": "Poison Study (Study, #1)",
                                    "tag_id": "11369",
                                    "count": "116"
                                }
                            ]
                        },
                        "text/html": [
                            "<table>",
                            "<tr><th>title</th><th>tag_id</th><th>count</th></tr>",
                            "<tr><td>Radiance (Wraith Kings, #1)</td><td>11369</td><td>198</td></tr>",
                            "<tr><td>A Court of Thorns and Roses (A Court of Thorns and Roses, #1)</td><td>11369</td><td>127</td></tr>",
                            "<tr><td>Wildest Dreams (Fantasyland, #1)</td><td>11369</td><td>123</td></tr>",
                            "<tr><td>The Golden Dynasty (Fantasyland, #2)</td><td>11369</td><td>119</td></tr>",
                            "<tr><td>Poison Study (Study, #1)</td><td>11369</td><td>116</td></tr>",
                            "</table>"
                        ]
                    }
                }
            ],
            "execution_count": 34
        },
        {
            "cell_type": "code",
            "source": [
                "SELECT TOP 5 b.title, b.average_rating, bt.tag_id, bt.count\n",
                "FROM BooksDB.dbo.books AS b\n",
                "INNER JOIN BooksDB.dbo.book_tags AS bt\n",
                "ON b.best_book_id = bt.goodreads_book_id\n",
                "WHERE bt.tag_id = 11369\n",
                "GROUP BY bt.count, b.average_rating, bt.tag_id, b.title\n",
                "ORDER BY SUM(bt.count) DESC, b.average_rating DESC"
            ],
            "metadata": {
                "azdata_cell_guid": "7724ecea-503b-47ca-b6a3-366ec0287d46",
                "language": "sql",
                "tags": [
                    "hide_input"
                ]
            },
            "outputs": [
                {
                    "output_type": "display_data",
                    "data": {
                        "text/html": "(5 rows affected)"
                    },
                    "metadata": {}
                },
                {
                    "output_type": "display_data",
                    "data": {
                        "text/html": "Total execution time: 00:00:00.112"
                    },
                    "metadata": {}
                },
                {
                    "output_type": "execute_result",
                    "metadata": {},
                    "execution_count": 36,
                    "data": {
                        "application/vnd.dataresource+json": {
                            "schema": {
                                "fields": [
                                    {
                                        "name": "title"
                                    },
                                    {
                                        "name": "average_rating"
                                    },
                                    {
                                        "name": "tag_id"
                                    },
                                    {
                                        "name": "count"
                                    }
                                ]
                            },
                            "data": [
                                {
                                    "title": "Radiance (Wraith Kings, #1)",
                                    "average_rating": "4.12",
                                    "tag_id": "11369",
                                    "count": "198"
                                },
                                {
                                    "title": "A Court of Thorns and Roses (A Court of Thorns and Roses, #1)",
                                    "average_rating": "4.29",
                                    "tag_id": "11369",
                                    "count": "127"
                                },
                                {
                                    "title": "Wildest Dreams (Fantasyland, #1)",
                                    "average_rating": "4.19",
                                    "tag_id": "11369",
                                    "count": "123"
                                },
                                {
                                    "title": "The Golden Dynasty (Fantasyland, #2)",
                                    "average_rating": "4.46",
                                    "tag_id": "11369",
                                    "count": "119"
                                },
                                {
                                    "title": "Poison Study (Study, #1)",
                                    "average_rating": "4.16",
                                    "tag_id": "11369",
                                    "count": "116"
                                }
                            ]
                        },
                        "text/html": [
                            "<table>",
                            "<tr><th>title</th><th>average_rating</th><th>tag_id</th><th>count</th></tr>",
                            "<tr><td>Radiance (Wraith Kings, #1)</td><td>4.12</td><td>11369</td><td>198</td></tr>",
                            "<tr><td>A Court of Thorns and Roses (A Court of Thorns and Roses, #1)</td><td>4.29</td><td>11369</td><td>127</td></tr>",
                            "<tr><td>Wildest Dreams (Fantasyland, #1)</td><td>4.19</td><td>11369</td><td>123</td></tr>",
                            "<tr><td>The Golden Dynasty (Fantasyland, #2)</td><td>4.46</td><td>11369</td><td>119</td></tr>",
                            "<tr><td>Poison Study (Study, #1)</td><td>4.16</td><td>11369</td><td>116</td></tr>",
                            "</table>"
                        ]
                    }
                }
            ],
            "execution_count": 36
        },
        {
            "cell_type": "code",
            "source": [
                "SELECT TOP 30 b.title, b.average_rating, bt.tag_id\n",
                "FROM BooksDB.dbo.books AS b\n",
                "INNER JOIN BooksDB.dbo.book_tags AS bt\n",
                "ON b.best_book_id = bt.goodreads_book_id\n",
                "WHERE bt.tag_id = 11369\n",
                "GROUP BY b.average_rating, bt.tag_id, b.title\n",
                "ORDER BY b.average_rating DESC"
            ],
            "metadata": {
                "azdata_cell_guid": "23a03fc5-499d-4bac-95b8-fffe6031e7de",
                "language": "sql",
                "tags": []
            },
            "outputs": [
                {
                    "output_type": "display_data",
                    "data": {
                        "text/html": "(30 rows affected)"
                    },
                    "metadata": {}
                },
                {
                    "output_type": "display_data",
                    "data": {
                        "text/html": "Total execution time: 00:00:00.126"
                    },
                    "metadata": {}
                },
                {
                    "output_type": "execute_result",
                    "metadata": {},
                    "execution_count": 49,
                    "data": {
                        "application/vnd.dataresource+json": {
                            "schema": {
                                "fields": [
                                    {
                                        "name": "title"
                                    },
                                    {
                                        "name": "average_rating"
                                    },
                                    {
                                        "name": "tag_id"
                                    }
                                ]
                            },
                            "data": [
                                {
                                    "title": "A Court of Mist and Fury (A Court of Thorns and Roses, #2)",
                                    "average_rating": "4.72",
                                    "tag_id": "11369"
                                },
                                {
                                    "title": "Acheron (Dark-Hunter #14)",
                                    "average_rating": "4.59",
                                    "tag_id": "11369"
                                },
                                {
                                    "title": "City of Bones / City of Ashes / City of Glass / City of Fallen Angels / City of Lost Souls (The Mortal Instruments, #1-5)",
                                    "average_rating": "4.59",
                                    "tag_id": "11369"
                                },
                                {
                                    "title": "Styxx (Dark-Hunter, #22)",
                                    "average_rating": "4.58",
                                    "tag_id": "11369"
                                },
                                {
                                    "title": "A Court of Wings and Ruin (A Court of Thorns and Roses, #3)",
                                    "average_rating": "4.54",
                                    "tag_id": "11369"
                                },
                                {
                                    "title": "Captive Prince: Volume Two (Captive Prince, #2)",
                                    "average_rating": "4.51",
                                    "tag_id": "11369"
                                },
                                {
                                    "title": "Father Mine (Black Dagger Brotherhood, #6.5)",
                                    "average_rating": "4.51",
                                    "tag_id": "11369"
                                },
                                {
                                    "title": "Sentinel (Covenant, #5)",
                                    "average_rating": "4.49",
                                    "tag_id": "11369"
                                },
                                {
                                    "title": "The Crimson Crown (Seven Realms, #4)",
                                    "average_rating": "4.48",
                                    "tag_id": "11369"
                                },
                                {
                                    "title": "Demon from the Dark (Immortals After Dark #10)",
                                    "average_rating": "4.47",
                                    "tag_id": "11369"
                                },
                                {
                                    "title": "Kiss of Snow (Psy-Changeling #10)",
                                    "average_rating": "4.47",
                                    "tag_id": "11369"
                                },
                                {
                                    "title": "Magic Bleeds (Kate Daniels, #4)",
                                    "average_rating": "4.46",
                                    "tag_id": "11369"
                                },
                                {
                                    "title": "Shadowfever (Fever, #5)",
                                    "average_rating": "4.46",
                                    "tag_id": "11369"
                                },
                                {
                                    "title": "The Golden Dynasty (Fantasyland, #2)",
                                    "average_rating": "4.46",
                                    "tag_id": "11369"
                                },
                                {
                                    "title": "Lover Awakened (Black Dagger Brotherhood, #3)",
                                    "average_rating": "4.45",
                                    "tag_id": "11369"
                                },
                                {
                                    "title": "The Beast (Black Dagger Brotherhood, #14)",
                                    "average_rating": "4.45",
                                    "tag_id": "11369"
                                },
                                {
                                    "title": "Dreamfever (Fever, #4)",
                                    "average_rating": "4.43",
                                    "tag_id": "11369"
                                },
                                {
                                    "title": "Incendiary (The Premonition, #4)",
                                    "average_rating": "4.43",
                                    "tag_id": "11369"
                                },
                                {
                                    "title": "Lothaire (Immortals After Dark #12)",
                                    "average_rating": "4.43",
                                    "tag_id": "11369"
                                },
                                {
                                    "title": "The Darkest Surrender  (Lords of the Underworld #8)",
                                    "average_rating": "4.42",
                                    "tag_id": "11369"
                                },
                                {
                                    "title": "Lover Mine (Black Dagger Brotherhood, #8)",
                                    "average_rating": "4.41",
                                    "tag_id": "11369"
                                },
                                {
                                    "title": "Pleasure of a Dark Prince (Immortals After Dark #9)",
                                    "average_rating": "4.41",
                                    "tag_id": "11369"
                                },
                                {
                                    "title": "Dance with the Devil (Dark-Hunter #3)",
                                    "average_rating": "4.39",
                                    "tag_id": "11369"
                                },
                                {
                                    "title": "Dreams of a Dark Warrior (Immortals After Dark #11)",
                                    "average_rating": "4.39",
                                    "tag_id": "11369"
                                },
                                {
                                    "title": "The Gray Wolf Throne (Seven Realms, #3)",
                                    "average_rating": "4.39",
                                    "tag_id": "11369"
                                },
                                {
                                    "title": "Dark Desires After Dusk (Immortals After Dark #6)",
                                    "average_rating": "4.38",
                                    "tag_id": "11369"
                                },
                                {
                                    "title": "Lover Avenged (Black Dagger Brotherhood, #7)",
                                    "average_rating": "4.38",
                                    "tag_id": "11369"
                                },
                                {
                                    "title": "Indebted (The Premonition, #3)",
                                    "average_rating": "4.37",
                                    "tag_id": "11369"
                                },
                                {
                                    "title": "Kushiel's Avatar (Phèdre's Trilogy, #3)",
                                    "average_rating": "4.37",
                                    "tag_id": "11369"
                                },
                                {
                                    "title": "Queen of the Darkness (The Black Jewels, #3)",
                                    "average_rating": "4.37",
                                    "tag_id": "11369"
                                }
                            ]
                        },
                        "text/html": [
                            "<table>",
                            "<tr><th>title</th><th>average_rating</th><th>tag_id</th></tr>",
                            "<tr><td>A Court of Mist and Fury (A Court of Thorns and Roses, #2)</td><td>4.72</td><td>11369</td></tr>",
                            "<tr><td>Acheron (Dark-Hunter #14)</td><td>4.59</td><td>11369</td></tr>",
                            "<tr><td>City of Bones / City of Ashes / City of Glass / City of Fallen Angels / City of Lost Souls (The Mortal Instruments, #1-5)</td><td>4.59</td><td>11369</td></tr>",
                            "<tr><td>Styxx (Dark-Hunter, #22)</td><td>4.58</td><td>11369</td></tr>",
                            "<tr><td>A Court of Wings and Ruin (A Court of Thorns and Roses, #3)</td><td>4.54</td><td>11369</td></tr>",
                            "<tr><td>Captive Prince: Volume Two (Captive Prince, #2)</td><td>4.51</td><td>11369</td></tr>",
                            "<tr><td>Father Mine (Black Dagger Brotherhood, #6.5)</td><td>4.51</td><td>11369</td></tr>",
                            "<tr><td>Sentinel (Covenant, #5)</td><td>4.49</td><td>11369</td></tr>",
                            "<tr><td>The Crimson Crown (Seven Realms, #4)</td><td>4.48</td><td>11369</td></tr>",
                            "<tr><td>Demon from the Dark (Immortals After Dark #10)</td><td>4.47</td><td>11369</td></tr>",
                            "<tr><td>Kiss of Snow (Psy-Changeling #10)</td><td>4.47</td><td>11369</td></tr>",
                            "<tr><td>Magic Bleeds (Kate Daniels, #4)</td><td>4.46</td><td>11369</td></tr>",
                            "<tr><td>Shadowfever (Fever, #5)</td><td>4.46</td><td>11369</td></tr>",
                            "<tr><td>The Golden Dynasty (Fantasyland, #2)</td><td>4.46</td><td>11369</td></tr>",
                            "<tr><td>Lover Awakened (Black Dagger Brotherhood, #3)</td><td>4.45</td><td>11369</td></tr>",
                            "<tr><td>The Beast (Black Dagger Brotherhood, #14)</td><td>4.45</td><td>11369</td></tr>",
                            "<tr><td>Dreamfever (Fever, #4)</td><td>4.43</td><td>11369</td></tr>",
                            "<tr><td>Incendiary (The Premonition, #4)</td><td>4.43</td><td>11369</td></tr>",
                            "<tr><td>Lothaire (Immortals After Dark #12)</td><td>4.43</td><td>11369</td></tr>",
                            "<tr><td>The Darkest Surrender  (Lords of the Underworld #8)</td><td>4.42</td><td>11369</td></tr>",
                            "<tr><td>Lover Mine (Black Dagger Brotherhood, #8)</td><td>4.41</td><td>11369</td></tr>",
                            "<tr><td>Pleasure of a Dark Prince (Immortals After Dark #9)</td><td>4.41</td><td>11369</td></tr>",
                            "<tr><td>Dance with the Devil (Dark-Hunter #3)</td><td>4.39</td><td>11369</td></tr>",
                            "<tr><td>Dreams of a Dark Warrior (Immortals After Dark #11)</td><td>4.39</td><td>11369</td></tr>",
                            "<tr><td>The Gray Wolf Throne (Seven Realms, #3)</td><td>4.39</td><td>11369</td></tr>",
                            "<tr><td>Dark Desires After Dusk (Immortals After Dark #6)</td><td>4.38</td><td>11369</td></tr>",
                            "<tr><td>Lover Avenged (Black Dagger Brotherhood, #7)</td><td>4.38</td><td>11369</td></tr>",
                            "<tr><td>Indebted (The Premonition, #3)</td><td>4.37</td><td>11369</td></tr>",
                            "<tr><td>Kushiel's Avatar (Phèdre's Trilogy, #3)</td><td>4.37</td><td>11369</td></tr>",
                            "<tr><td>Queen of the Darkness (The Black Jewels, #3)</td><td>4.37</td><td>11369</td></tr>",
                            "</table>"
                        ]
                    }
                }
            ],
            "execution_count": 49
        },
        {
            "cell_type": "markdown",
            "source": [
                "## **QUESTION 7:** What are the top 10 most popular book titles on the 'to read' list?\n",
                "\n",
                "**Part A:**  Explore how the **to\\_read** and **books** tables are organized, and then join them.  What will you use as a key?\n",
                "\n",
                "> Your Answer: book\\_id and goodreads\\_book\\_id\n",
                "\n",
                "**Part B:** Organize your newly joined table in a way that groups popularity based on the title based on users.\n",
                "\n",
                "> _Hint:_ Suggest using an alias for the aggregation you will need to run on the **user\\_id**\n",
                "\n",
                "> _Minimum Desired Output:_ title and aliased column"
            ],
            "metadata": {
                "azdata_cell_guid": "4e5349b7-24f6-481a-9d88-bb4f86abc624"
            },
            "attachments": {}
        },
        {
            "cell_type": "code",
            "source": [
                "-- Using books and book_tags:\n",
                "SELECT TOP 10 b.title, b.average_rating, bt.tag_id\n",
                "FROM BooksDB.dbo.books AS b\n",
                "INNER JOIN BooksDB.dbo.book_tags AS bt\n",
                "ON b.best_book_id = bt.goodreads_book_id\n",
                "WHERE bt.tag_id = 30574\n",
                "GROUP BY b.average_rating, bt.tag_id, b.title\n",
                "ORDER BY b.average_rating DESC"
            ],
            "metadata": {
                "azdata_cell_guid": "8af25df1-ce61-4152-8198-0b53c17642d0",
                "language": "sql"
            },
            "outputs": [
                {
                    "output_type": "display_data",
                    "data": {
                        "text/html": "(10 rows affected)"
                    },
                    "metadata": {}
                },
                {
                    "output_type": "display_data",
                    "data": {
                        "text/html": "Total execution time: 00:00:00.173"
                    },
                    "metadata": {}
                },
                {
                    "output_type": "execute_result",
                    "metadata": {},
                    "execution_count": 41,
                    "data": {
                        "application/vnd.dataresource+json": {
                            "schema": {
                                "fields": [
                                    {
                                        "name": "title"
                                    },
                                    {
                                        "name": "average_rating"
                                    },
                                    {
                                        "name": "tag_id"
                                    }
                                ]
                            },
                            "data": [
                                {
                                    "title": "The Complete Calvin and Hobbes",
                                    "average_rating": "4.82",
                                    "tag_id": "30574"
                                },
                                {
                                    "title": "Harry Potter Boxed Set, Books 1-5 (Harry Potter, #1-5)",
                                    "average_rating": "4.77",
                                    "tag_id": "30574"
                                },
                                {
                                    "title": "Words of Radiance (The Stormlight Archive, #2)",
                                    "average_rating": "4.77",
                                    "tag_id": "30574"
                                },
                                {
                                    "title": "ESV Study Bible",
                                    "average_rating": "4.76",
                                    "tag_id": "30574"
                                },
                                {
                                    "title": "Mark of the Lion Trilogy",
                                    "average_rating": "4.76",
                                    "tag_id": "30574"
                                },
                                {
                                    "title": "It's a Magical World: A Calvin and Hobbes Collection",
                                    "average_rating": "4.75",
                                    "tag_id": "30574"
                                },
                                {
                                    "title": "Harry Potter Boxset (Harry Potter, #1-7)",
                                    "average_rating": "4.74",
                                    "tag_id": "30574"
                                },
                                {
                                    "title": "There's Treasure Everywhere: A Calvin and Hobbes Collection",
                                    "average_rating": "4.74",
                                    "tag_id": "30574"
                                },
                                {
                                    "title": "Harry Potter Collection (Harry Potter, #1-6)",
                                    "average_rating": "4.73",
                                    "tag_id": "30574"
                                },
                                {
                                    "title": "The Authoritative Calvin and Hobbes: A Calvin and Hobbes Treasury",
                                    "average_rating": "4.73",
                                    "tag_id": "30574"
                                }
                            ]
                        },
                        "text/html": [
                            "<table>",
                            "<tr><th>title</th><th>average_rating</th><th>tag_id</th></tr>",
                            "<tr><td>The Complete Calvin and Hobbes</td><td>4.82</td><td>30574</td></tr>",
                            "<tr><td>Harry Potter Boxed Set, Books 1-5 (Harry Potter, #1-5)</td><td>4.77</td><td>30574</td></tr>",
                            "<tr><td>Words of Radiance (The Stormlight Archive, #2)</td><td>4.77</td><td>30574</td></tr>",
                            "<tr><td>ESV Study Bible</td><td>4.76</td><td>30574</td></tr>",
                            "<tr><td>Mark of the Lion Trilogy</td><td>4.76</td><td>30574</td></tr>",
                            "<tr><td>It's a Magical World: A Calvin and Hobbes Collection</td><td>4.75</td><td>30574</td></tr>",
                            "<tr><td>Harry Potter Boxset (Harry Potter, #1-7)</td><td>4.74</td><td>30574</td></tr>",
                            "<tr><td>There's Treasure Everywhere: A Calvin and Hobbes Collection</td><td>4.74</td><td>30574</td></tr>",
                            "<tr><td>Harry Potter Collection (Harry Potter, #1-6)</td><td>4.73</td><td>30574</td></tr>",
                            "<tr><td>The Authoritative Calvin and Hobbes: A Calvin and Hobbes Treasury</td><td>4.73</td><td>30574</td></tr>",
                            "</table>"
                        ]
                    }
                }
            ],
            "execution_count": 41
        },
        {
            "cell_type": "code",
            "source": [
                "-- Using to_read and books:\n",
                "SELECT TOP 10 tr.user_id, b.average_rating, b.title\n",
                "FROM BooksDB.dbo.books AS b\n",
                "INNER JOIN BooksDB.dbo.to_read AS tr\n",
                "ON b.best_book_id = tr.book_id\n",
                "GROUP BY tr.user_id, b.average_rating, b.title\n",
                "ORDER BY tr.user_id DESC, AVG(average_rating) DESC"
            ],
            "metadata": {
                "language": "sql",
                "azdata_cell_guid": "549dc215-e374-4843-ab7e-b8c109add61b"
            },
            "outputs": [
                {
                    "output_type": "display_data",
                    "data": {
                        "text/html": "(10 rows affected)"
                    },
                    "metadata": {}
                },
                {
                    "output_type": "display_data",
                    "data": {
                        "text/html": "Total execution time: 00:00:00.728"
                    },
                    "metadata": {}
                },
                {
                    "output_type": "execute_result",
                    "metadata": {},
                    "execution_count": 47,
                    "data": {
                        "application/vnd.dataresource+json": {
                            "schema": {
                                "fields": [
                                    {
                                        "name": "user_id"
                                    },
                                    {
                                        "name": "average_rating"
                                    },
                                    {
                                        "name": "title"
                                    }
                                ]
                            },
                            "data": [
                                {
                                    "user_id": "53424",
                                    "average_rating": "4.77",
                                    "title": "Harry Potter Boxed Set, Books 1-5 (Harry Potter, #1-5)"
                                },
                                {
                                    "user_id": "53424",
                                    "average_rating": "4.25",
                                    "title": "The Hobbit"
                                },
                                {
                                    "user_id": "53424",
                                    "average_rating": "4.05",
                                    "title": "The Long Dark Tea-Time of the Soul (Dirk Gently, #2)"
                                },
                                {
                                    "user_id": "53422",
                                    "average_rating": "4.17",
                                    "title": "Wolves of the Calla (The Dark Tower, #5)"
                                },
                                {
                                    "user_id": "53422",
                                    "average_rating": "4.07",
                                    "title": "A People's History of the United States"
                                },
                                {
                                    "user_id": "53420",
                                    "average_rating": "4.53",
                                    "title": "Harry Potter and the Goblet of Fire (Harry Potter, #4)"
                                },
                                {
                                    "user_id": "53420",
                                    "average_rating": "4.05",
                                    "title": "Fire Sea (The Death Gate Cycle, #3)"
                                },
                                {
                                    "user_id": "53420",
                                    "average_rating": "3.9",
                                    "title": "Children of Dune (Dune Chronicles #3)"
                                },
                                {
                                    "user_id": "53419",
                                    "average_rating": "3.89",
                                    "title": "We the Living"
                                },
                                {
                                    "user_id": "53417",
                                    "average_rating": "4.77",
                                    "title": "Harry Potter Boxed Set, Books 1-5 (Harry Potter, #1-5)"
                                }
                            ]
                        },
                        "text/html": [
                            "<table>",
                            "<tr><th>user_id</th><th>average_rating</th><th>title</th></tr>",
                            "<tr><td>53424</td><td>4.77</td><td>Harry Potter Boxed Set, Books 1-5 (Harry Potter, #1-5)</td></tr>",
                            "<tr><td>53424</td><td>4.25</td><td>The Hobbit</td></tr>",
                            "<tr><td>53424</td><td>4.05</td><td>The Long Dark Tea-Time of the Soul (Dirk Gently, #2)</td></tr>",
                            "<tr><td>53422</td><td>4.17</td><td>Wolves of the Calla (The Dark Tower, #5)</td></tr>",
                            "<tr><td>53422</td><td>4.07</td><td>A People's History of the United States</td></tr>",
                            "<tr><td>53420</td><td>4.53</td><td>Harry Potter and the Goblet of Fire (Harry Potter, #4)</td></tr>",
                            "<tr><td>53420</td><td>4.05</td><td>Fire Sea (The Death Gate Cycle, #3)</td></tr>",
                            "<tr><td>53420</td><td>3.9</td><td>Children of Dune (Dune Chronicles #3)</td></tr>",
                            "<tr><td>53419</td><td>3.89</td><td>We the Living</td></tr>",
                            "<tr><td>53417</td><td>4.77</td><td>Harry Potter Boxed Set, Books 1-5 (Harry Potter, #1-5)</td></tr>",
                            "</table>"
                        ]
                    }
                }
            ],
            "execution_count": 47
        },
        {
            "cell_type": "markdown",
            "source": [
                "## **QUESTION 8:** Largest 'To Read' Lists\n",
                "\n",
                "**Part A:**  Create a query that returns a table that contains the top 10 users with the most number of titles on their 'to read' list.    Group all the entries by user\\_id.  \n",
                "\n",
                "> _Hint:_ You might want an alias for the titles.\n",
                "> \n",
                "> _Minimum Desired Output:_  user\\_id and your aliased column of titles.\n",
                "\n",
                "**Part B:**  The longest list length is 15 titles total, and is shared by 4 different users.  Select one of the uses and print out their entire '**to read**' list."
            ],
            "metadata": {
                "azdata_cell_guid": "0b0090b0-2b28-44c6-8bb6-06b4c03c3ff1"
            },
            "attachments": {}
        },
        {
            "cell_type": "code",
            "source": [
                "-- Code Here:\n",
                "SELECT TOP 10 tr.user_id, COUNT(b.title) AS 'Total Titles TBR'\n",
                "FROM BooksDB.dbo.books AS b\n",
                "INNER JOIN BooksDB.dbo.to_read AS tr \n",
                "ON b.best_book_id = tr.book_id\n",
                "GROUP BY tr.user_id\n",
                "ORDER BY 'Total Titles TBR' DESC"
            ],
            "metadata": {
                "azdata_cell_guid": "c6c815f8-890d-4163-be63-3d300e320597",
                "tags": [],
                "language": "sql"
            },
            "outputs": [
                {
                    "output_type": "display_data",
                    "data": {
                        "text/html": "(10 rows affected)"
                    },
                    "metadata": {}
                },
                {
                    "output_type": "display_data",
                    "data": {
                        "text/html": "Total execution time: 00:00:00.134"
                    },
                    "metadata": {}
                },
                {
                    "output_type": "execute_result",
                    "metadata": {},
                    "execution_count": 76,
                    "data": {
                        "application/vnd.dataresource+json": {
                            "schema": {
                                "fields": [
                                    {
                                        "name": "user_id"
                                    },
                                    {
                                        "name": "Total Titles TBR"
                                    }
                                ]
                            },
                            "data": [
                                {
                                    "user_id": "14771",
                                    "Total Titles TBR": "15"
                                },
                                {
                                    "user_id": "38201",
                                    "Total Titles TBR": "15"
                                },
                                {
                                    "user_id": "11932",
                                    "Total Titles TBR": "15"
                                },
                                {
                                    "user_id": "12483",
                                    "Total Titles TBR": "15"
                                },
                                {
                                    "user_id": "27933",
                                    "Total Titles TBR": "14"
                                },
                                {
                                    "user_id": "36923",
                                    "Total Titles TBR": "14"
                                },
                                {
                                    "user_id": "37359",
                                    "Total Titles TBR": "14"
                                },
                                {
                                    "user_id": "6772",
                                    "Total Titles TBR": "13"
                                },
                                {
                                    "user_id": "51137",
                                    "Total Titles TBR": "13"
                                },
                                {
                                    "user_id": "42636",
                                    "Total Titles TBR": "13"
                                }
                            ]
                        },
                        "text/html": [
                            "<table>",
                            "<tr><th>user_id</th><th>Total Titles TBR</th></tr>",
                            "<tr><td>14771</td><td>15</td></tr>",
                            "<tr><td>38201</td><td>15</td></tr>",
                            "<tr><td>11932</td><td>15</td></tr>",
                            "<tr><td>12483</td><td>15</td></tr>",
                            "<tr><td>27933</td><td>14</td></tr>",
                            "<tr><td>36923</td><td>14</td></tr>",
                            "<tr><td>37359</td><td>14</td></tr>",
                            "<tr><td>6772</td><td>13</td></tr>",
                            "<tr><td>51137</td><td>13</td></tr>",
                            "<tr><td>42636</td><td>13</td></tr>",
                            "</table>"
                        ]
                    }
                }
            ],
            "execution_count": 76
        },
        {
            "cell_type": "code",
            "source": [
                "SELECT TOP 15 tr.user_id, b.title\n",
                "FROM BooksDB.dbo.books AS b\n",
                "INNER JOIN BooksDB.dbo.to_read AS tr \n",
                "ON b.best_book_id = tr.book_id\n",
                "WHERE tr.user_id=14771"
            ],
            "metadata": {
                "language": "sql",
                "azdata_cell_guid": "e32c35df-875e-48c6-b658-410cfa50d754"
            },
            "outputs": [
                {
                    "output_type": "display_data",
                    "data": {
                        "text/html": "(15 rows affected)"
                    },
                    "metadata": {}
                },
                {
                    "output_type": "display_data",
                    "data": {
                        "text/html": "Total execution time: 00:00:00.101"
                    },
                    "metadata": {}
                },
                {
                    "output_type": "execute_result",
                    "metadata": {},
                    "execution_count": 77,
                    "data": {
                        "application/vnd.dataresource+json": {
                            "schema": {
                                "fields": [
                                    {
                                        "name": "user_id"
                                    },
                                    {
                                        "name": "title"
                                    }
                                ]
                            },
                            "data": [
                                {
                                    "user_id": "14771",
                                    "title": "The Fellowship of the Ring (The Lord of the Rings, #1)"
                                },
                                {
                                    "user_id": "14771",
                                    "title": "Harry Potter and the Order of the Phoenix (Harry Potter, #5)"
                                },
                                {
                                    "user_id": "14771",
                                    "title": "Harry Potter and the Goblet of Fire (Harry Potter, #4)"
                                },
                                {
                                    "user_id": "14771",
                                    "title": "J.R.R. Tolkien 4-Book Boxed Set: The Hobbit and The Lord of the Rings"
                                },
                                {
                                    "user_id": "14771",
                                    "title": "In a Sunburned Country"
                                },
                                {
                                    "user_id": "14771",
                                    "title": "A Widow for One Year"
                                },
                                {
                                    "user_id": "14771",
                                    "title": "Tropic of Cancer"
                                },
                                {
                                    "user_id": "14771",
                                    "title": "The Iliad/The Odyssey"
                                },
                                {
                                    "user_id": "14771",
                                    "title": "The Lost Continent: Travels in Small Town America"
                                },
                                {
                                    "user_id": "14771",
                                    "title": "The New York Trilogy"
                                },
                                {
                                    "user_id": "14771",
                                    "title": "The Lord of the Rings: The Art of The Fellowship of the Ring"
                                },
                                {
                                    "user_id": "14771",
                                    "title": "The Known World"
                                },
                                {
                                    "user_id": "14771",
                                    "title": "Ten Apples Up On Top!"
                                },
                                {
                                    "user_id": "14771",
                                    "title": "Leviathan"
                                },
                                {
                                    "user_id": "14771",
                                    "title": "What to Expect the First Year (What to Expect)"
                                }
                            ]
                        },
                        "text/html": [
                            "<table>",
                            "<tr><th>user_id</th><th>title</th></tr>",
                            "<tr><td>14771</td><td>The Fellowship of the Ring (The Lord of the Rings, #1)</td></tr>",
                            "<tr><td>14771</td><td>Harry Potter and the Order of the Phoenix (Harry Potter, #5)</td></tr>",
                            "<tr><td>14771</td><td>Harry Potter and the Goblet of Fire (Harry Potter, #4)</td></tr>",
                            "<tr><td>14771</td><td>J.R.R. Tolkien 4-Book Boxed Set: The Hobbit and The Lord of the Rings</td></tr>",
                            "<tr><td>14771</td><td>In a Sunburned Country</td></tr>",
                            "<tr><td>14771</td><td>A Widow for One Year</td></tr>",
                            "<tr><td>14771</td><td>Tropic of Cancer</td></tr>",
                            "<tr><td>14771</td><td>The Iliad/The Odyssey</td></tr>",
                            "<tr><td>14771</td><td>The Lost Continent: Travels in Small Town America</td></tr>",
                            "<tr><td>14771</td><td>The New York Trilogy</td></tr>",
                            "<tr><td>14771</td><td>The Lord of the Rings: The Art of The Fellowship of the Ring</td></tr>",
                            "<tr><td>14771</td><td>The Known World</td></tr>",
                            "<tr><td>14771</td><td>Ten Apples Up On Top!</td></tr>",
                            "<tr><td>14771</td><td>Leviathan</td></tr>",
                            "<tr><td>14771</td><td>What to Expect the First Year (What to Expect)</td></tr>",
                            "</table>"
                        ]
                    }
                }
            ],
            "execution_count": 77
        }
    ]
}